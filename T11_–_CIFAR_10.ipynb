{
  "cells": [
    {
      "cell_type": "code",
      "execution_count": 12,
      "metadata": {
        "colab": {
          "base_uri": "https://localhost:8080/"
        },
        "id": "FsEJXTNiRP71",
        "outputId": "360a08c4-13aa-4bde-9f75-bd3a5acbf02b"
      },
      "outputs": [
        {
          "name": "stdout",
          "output_type": "stream",
          "text": [
            "Requirement already satisfied: tf-keras-vis in c:\\users\\flori\\appdata\\local\\programs\\python\\python313\\lib\\site-packages (0.8.7)\n",
            "Requirement already satisfied: scipy in c:\\users\\flori\\appdata\\local\\programs\\python\\python313\\lib\\site-packages (from tf-keras-vis) (1.16.2)\n",
            "Requirement already satisfied: pillow in c:\\users\\flori\\appdata\\local\\programs\\python\\python313\\lib\\site-packages (from tf-keras-vis) (11.1.0)\n",
            "Requirement already satisfied: deprecated in c:\\users\\flori\\appdata\\local\\programs\\python\\python313\\lib\\site-packages (from tf-keras-vis) (1.2.18)\n",
            "Requirement already satisfied: imageio in c:\\users\\flori\\appdata\\local\\programs\\python\\python313\\lib\\site-packages (from tf-keras-vis) (2.37.0)\n",
            "Requirement already satisfied: packaging in c:\\users\\flori\\appdata\\local\\programs\\python\\python313\\lib\\site-packages (from tf-keras-vis) (24.2)\n",
            "Requirement already satisfied: wrapt<2,>=1.10 in c:\\users\\flori\\appdata\\local\\programs\\python\\python313\\lib\\site-packages (from deprecated->tf-keras-vis) (1.17.3)\n",
            "Requirement already satisfied: numpy in c:\\users\\flori\\appdata\\local\\programs\\python\\python313\\lib\\site-packages (from imageio->tf-keras-vis) (2.2.0)\n",
            "Note: you may need to restart the kernel to use updated packages.\n"
          ]
        },
        {
          "name": "stderr",
          "output_type": "stream",
          "text": [
            "\n",
            "[notice] A new release of pip is available: 25.1.1 -> 25.2\n",
            "[notice] To update, run: python.exe -m pip install --upgrade pip\n"
          ]
        }
      ],
      "source": [
        "%pip install tf-keras-vis\n"
      ]
    },
    {
      "cell_type": "code",
      "execution_count": 2,
      "metadata": {
        "colab": {
          "base_uri": "https://localhost:8080/"
        },
        "id": "BrkvCZ5sp2Gw",
        "outputId": "463d2e1f-0f71-4d65-a255-6af5912246be"
      },
      "outputs": [
        {
          "name": "stdout",
          "output_type": "stream",
          "text": [
            "Downloading data from https://www.cs.toronto.edu/~kriz/cifar-10-python.tar.gz\n",
            "\u001b[1m170498071/170498071\u001b[0m \u001b[32m━━━━━━━━━━━━━━━━━━━━\u001b[0m\u001b[37m\u001b[0m \u001b[1m8s\u001b[0m 0us/step\n",
            "Formato do x_test_r: (10000, 32, 32, 1)\n"
          ]
        }
      ],
      "source": [
        "from keras.datasets import cifar10\n",
        "\n",
        "# Carregar CIFAR-10\n",
        "(x_train, y_train), (x_test, y_test) = cifar10.load_data()\n",
        "\n",
        "# Normalizar\n",
        "x_train = x_train.astype(\"float32\") / 255.0\n",
        "x_test = x_test.astype(\"float32\") / 255.0\n",
        "\n",
        "# Usar apenas 1 canal (ex.: canal R)\n",
        "x_train_r = x_train[:,:,:,0:1]\n",
        "x_test_r = x_test[:,:,:,0:1]\n",
        "\n",
        "print(\"Formato do x_test_r:\", x_test_r.shape)\n"
      ]
    },
    {
      "cell_type": "markdown",
      "metadata": {
        "id": "nnB-RCs-PjA-"
      },
      "source": [
        "00_exploracao:"
      ]
    },
    {
      "cell_type": "code",
      "execution_count": 3,
      "metadata": {
        "colab": {
          "base_uri": "https://localhost:8080/",
          "height": 253
        },
        "id": "Vh2q9eYQKrxf",
        "outputId": "d641487f-a400-464f-9437-1711adf4b813"
      },
      "outputs": [
        {
          "name": "stdout",
          "output_type": "stream",
          "text": [
            "Formato do treino: (50000, 32, 32, 3)\n",
            "Formato do teste: (10000, 32, 32, 3)\n",
            "Formato após remover canais (só R): (50000, 32, 32, 1)\n"
          ]
        },
        {
          "data": {
            "image/png": "[encoded data removed]",
            "text/plain": [
              "<Figure size 1200x300 with 5 Axes>"
            ]
          },
          "metadata": {},
          "output_type": "display_data"
        }
      ],
      "source": [
        "import numpy as np\n",
        "import matplotlib.pyplot as plt\n",
        "from keras.datasets import cifar10\n",
        "\n",
        "# 1. Carregar CIFAR-10\n",
        "(x_train, y_train), (x_test, y_test) = cifar10.load_data()\n",
        "\n",
        "print(\"Formato do treino:\", x_train.shape)  # (50000, 32, 32, 3)\n",
        "print(\"Formato do teste:\", x_test.shape)    # (10000, 32, 32, 3)\n",
        "\n",
        "# 2. Normalizar os valores [0,255] -> [0,1]\n",
        "x_train = x_train.astype(\"float32\") / 255.0\n",
        "x_test = x_test.astype(\"float32\") / 255.0\n",
        "\n",
        "# 3. Remover canais -> exemplo: manter apenas canal R (índice 0)\n",
        "x_train_r = x_train[:,:,:,0:1]  # mantém só o canal R\n",
        "x_test_r = x_test[:,:,:,0:1]\n",
        "\n",
        "# Você também pode trocar o 0 por 1 (G) ou 2 (B)\n",
        "\n",
        "print(\"Formato após remover canais (só R):\", x_train_r.shape)\n",
        "\n",
        "# 4. Visualizar algumas imagens\n",
        "fig, axes = plt.subplots(1, 5, figsize=(12,3))\n",
        "for i in range(5):\n",
        "    axes[i].imshow(x_train_r[i].squeeze(), cmap=\"gray\")\n",
        "    axes[i].axis(\"off\")\n",
        "plt.show()\n"
      ]
    },
    {
      "cell_type": "markdown",
      "metadata": {
        "id": "28IG1IluPWAL"
      },
      "source": [
        "01_mlp_baseline:"
      ]
    },
    {
      "cell_type": "code",
      "execution_count": 6,
      "metadata": {
        "colab": {
          "base_uri": "https://localhost:8080/",
          "height": 1000
        },
        "id": "LHT4E3huNGyE",
        "outputId": "b250737e-9822-4e5f-8a8d-278aa233c7a2"
      },
      "outputs": [
        {
          "name": "stdout",
          "output_type": "stream",
          "text": [
            "Epoch 1/50\n",
            "\u001b[1m313/313\u001b[0m \u001b[32m━━━━━━━━━━━━━━━━━━━━\u001b[0m\u001b[37m\u001b[0m \u001b[1m2s\u001b[0m 4ms/step - accuracy: 0.1813 - loss: 2.1937 - val_accuracy: 0.2353 - val_loss: 2.0952\n",
            "Epoch 2/50\n",
            "\u001b[1m313/313\u001b[0m \u001b[32m━━━━━━━━━━━━━━━━━━━━\u001b[0m\u001b[37m\u001b[0m \u001b[1m1s\u001b[0m 3ms/step - accuracy: 0.2190 - loss: 2.1111 - val_accuracy: 0.2635 - val_loss: 2.0348\n",
            "Epoch 3/50\n",
            "\u001b[1m313/313\u001b[0m \u001b[32m━━━━━━━━━━━━━━━━━━━━\u001b[0m\u001b[37m\u001b[0m \u001b[1m1s\u001b[0m 4ms/step - accuracy: 0.2363 - loss: 2.0803 - val_accuracy: 0.2736 - val_loss: 2.0238\n",
            "Epoch 4/50\n",
            "\u001b[1m313/313\u001b[0m \u001b[32m━━━━━━━━━━━━━━━━━━━━\u001b[0m\u001b[37m\u001b[0m \u001b[1m1s\u001b[0m 3ms/step - accuracy: 0.2419 - loss: 2.0611 - val_accuracy: 0.2716 - val_loss: 2.0243\n",
            "Epoch 5/50\n",
            "\u001b[1m313/313\u001b[0m \u001b[32m━━━━━━━━━━━━━━━━━━━━\u001b[0m\u001b[37m\u001b[0m \u001b[1m1s\u001b[0m 3ms/step - accuracy: 0.2501 - loss: 2.0446 - val_accuracy: 0.2879 - val_loss: 1.9942\n",
            "Epoch 6/50\n",
            "\u001b[1m313/313\u001b[0m \u001b[32m━━━━━━━━━━━━━━━━━━━━\u001b[0m\u001b[37m\u001b[0m \u001b[1m1s\u001b[0m 3ms/step - accuracy: 0.2549 - loss: 2.0283 - val_accuracy: 0.2802 - val_loss: 1.9971\n",
            "Epoch 7/50\n",
            "\u001b[1m313/313\u001b[0m \u001b[32m━━━━━━━━━━━━━━━━━━━━\u001b[0m\u001b[37m\u001b[0m \u001b[1m1s\u001b[0m 3ms/step - accuracy: 0.2601 - loss: 2.0202 - val_accuracy: 0.2770 - val_loss: 2.0034\n",
            "Epoch 8/50\n",
            "\u001b[1m313/313\u001b[0m \u001b[32m━━━━━━━━━━━━━━━━━━━━\u001b[0m\u001b[37m\u001b[0m \u001b[1m1s\u001b[0m 3ms/step - accuracy: 0.2623 - loss: 2.0064 - val_accuracy: 0.2816 - val_loss: 1.9952\n",
            "Epoch 9/50\n",
            "\u001b[1m313/313\u001b[0m \u001b[32m━━━━━━━━━━━━━━━━━━━━\u001b[0m\u001b[37m\u001b[0m \u001b[1m1s\u001b[0m 3ms/step - accuracy: 0.2632 - loss: 2.0029 - val_accuracy: 0.2874 - val_loss: 1.9856\n",
            "Epoch 10/50\n",
            "\u001b[1m313/313\u001b[0m \u001b[32m━━━━━━━━━━━━━━━━━━━━\u001b[0m\u001b[37m\u001b[0m \u001b[1m1s\u001b[0m 3ms/step - accuracy: 0.2684 - loss: 1.9970 - val_accuracy: 0.2853 - val_loss: 1.9896\n",
            "Epoch 11/50\n",
            "\u001b[1m313/313\u001b[0m \u001b[32m━━━━━━━━━━━━━━━━━━━━\u001b[0m\u001b[37m\u001b[0m \u001b[1m1s\u001b[0m 4ms/step - accuracy: 0.2732 - loss: 1.9873 - val_accuracy: 0.3008 - val_loss: 1.9772\n",
            "Epoch 12/50\n",
            "\u001b[1m313/313\u001b[0m \u001b[32m━━━━━━━━━━━━━━━━━━━━\u001b[0m\u001b[37m\u001b[0m \u001b[1m1s\u001b[0m 3ms/step - accuracy: 0.2772 - loss: 1.9768 - val_accuracy: 0.2946 - val_loss: 1.9792\n",
            "Epoch 13/50\n",
            "\u001b[1m313/313\u001b[0m \u001b[32m━━━━━━━━━━━━━━━━━━━━\u001b[0m\u001b[37m\u001b[0m \u001b[1m1s\u001b[0m 3ms/step - accuracy: 0.2797 - loss: 1.9751 - val_accuracy: 0.3066 - val_loss: 1.9710\n",
            "Epoch 14/50\n",
            "\u001b[1m313/313\u001b[0m \u001b[32m━━━━━━━━━━━━━━━━━━━━\u001b[0m\u001b[37m\u001b[0m \u001b[1m1s\u001b[0m 3ms/step - accuracy: 0.2823 - loss: 1.9702 - val_accuracy: 0.2991 - val_loss: 1.9748\n",
            "Epoch 15/50\n",
            "\u001b[1m313/313\u001b[0m \u001b[32m━━━━━━━━━━━━━━━━━━━━\u001b[0m\u001b[37m\u001b[0m \u001b[1m1s\u001b[0m 4ms/step - accuracy: 0.2813 - loss: 1.9693 - val_accuracy: 0.2996 - val_loss: 1.9731\n",
            "Epoch 16/50\n",
            "\u001b[1m313/313\u001b[0m \u001b[32m━━━━━━━━━━━━━━━━━━━━\u001b[0m\u001b[37m\u001b[0m \u001b[1m1s\u001b[0m 3ms/step - accuracy: 0.2797 - loss: 1.9662 - val_accuracy: 0.2973 - val_loss: 1.9744\n",
            "Epoch 17/50\n",
            "\u001b[1m313/313\u001b[0m \u001b[32m━━━━━━━━━━━━━━━━━━━━\u001b[0m\u001b[37m\u001b[0m \u001b[1m1s\u001b[0m 3ms/step - accuracy: 0.2851 - loss: 1.9560 - val_accuracy: 0.2861 - val_loss: 1.9877\n",
            "Epoch 18/50\n",
            "\u001b[1m313/313\u001b[0m \u001b[32m━━━━━━━━━━━━━━━━━━━━\u001b[0m\u001b[37m\u001b[0m \u001b[1m1s\u001b[0m 3ms/step - accuracy: 0.2852 - loss: 1.9585 - val_accuracy: 0.2974 - val_loss: 1.9810\n",
            "\u001b[1m313/313\u001b[0m \u001b[32m━━━━━━━━━━━━━━━━━━━━\u001b[0m\u001b[37m\u001b[0m \u001b[1m0s\u001b[0m 943us/step - accuracy: 0.3113 - loss: 1.9704\n",
            "Acurácia no teste: 0.3113\n"
          ]
        },
        {
          "data": {
            "image/png": "[encoded data removed]",
            "text/plain": [
              "<Figure size 640x480 with 1 Axes>"
            ]
          },
          "metadata": {},
          "output_type": "display_data"
        },
        {
          "name": "stdout",
          "output_type": "stream",
          "text": [
            "\u001b[1m313/313\u001b[0m \u001b[32m━━━━━━━━━━━━━━━━━━━━\u001b[0m\u001b[37m\u001b[0m \u001b[1m0s\u001b[0m 746us/step\n"
          ]
        },
        {
          "data": {
            "image/png": "[encoded data removed]",
            "text/plain": [
              "<Figure size 640x480 with 2 Axes>"
            ]
          },
          "metadata": {},
          "output_type": "display_data"
        }
      ],
      "source": [
        "import tensorflow as tf\n",
        "from tensorflow import keras\n",
        "from tensorflow.keras import layers # type: ignore\n",
        "import matplotlib.pyplot as plt\n",
        "from sklearn.metrics import confusion_matrix, ConfusionMatrixDisplay # type: ignore\n",
        "import numpy as np\n",
        "\n",
        "# Dados (usando o canal R já preparado)\n",
        "x_train_mlp = x_train_r.reshape((x_train_r.shape[0], -1))  # Flatten\n",
        "x_test_mlp = x_test_r.reshape((x_test_r.shape[0], -1))\n",
        "\n",
        "num_classes = 10\n",
        "\n",
        "# Modelo MLP\n",
        "mlp = keras.Sequential([\n",
        "    layers.Input(shape=(32*32,)),       # Flatten implícito\n",
        "    layers.Dense(256, activation=\"relu\"),\n",
        "    layers.Dropout(0.5),\n",
        "    layers.Dense(128, activation=\"relu\"),\n",
        "    layers.Dense(num_classes, activation=\"softmax\")\n",
        "])\n",
        "\n",
        "mlp.compile(\n",
        "    optimizer=\"adam\",\n",
        "    loss=\"sparse_categorical_crossentropy\",\n",
        "    metrics=[\"accuracy\"]\n",
        ")\n",
        "\n",
        "# Callbacks\n",
        "callbacks = [\n",
        "    keras.callbacks.EarlyStopping(patience=5, restore_best_weights=True),\n",
        "    keras.callbacks.ModelCheckpoint(\"mlp_best.keras\", save_best_only=True)\n",
        "]\n",
        "\n",
        "# Treinamento\n",
        "history = mlp.fit(\n",
        "    x_train_mlp, y_train,\n",
        "    validation_split=0.2,\n",
        "    epochs=50,\n",
        "    batch_size=128,\n",
        "    callbacks=callbacks\n",
        ")\n",
        "\n",
        "# Avaliação no teste\n",
        "test_loss, test_acc = mlp.evaluate(x_test_mlp, y_test)\n",
        "print(f\"Acurácia no teste: {test_acc:.4f}\")\n",
        "\n",
        "# Curvas\n",
        "plt.plot(history.history[\"accuracy\"], label=\"Treino\")\n",
        "plt.plot(history.history[\"val_accuracy\"], label=\"Validação\")\n",
        "plt.xlabel(\"Épocas\")\n",
        "plt.ylabel(\"Acurácia\")\n",
        "plt.legend()\n",
        "plt.show()\n",
        "\n",
        "# Matriz de confusão\n",
        "y_pred = np.argmax(mlp.predict(x_test_mlp), axis=1)\n",
        "cm = confusion_matrix(y_test, y_pred)\n",
        "disp = ConfusionMatrixDisplay(cm)\n",
        "disp.plot(cmap=\"Blues\")\n",
        "plt.show()\n"
      ]
    },
    {
      "cell_type": "markdown",
      "metadata": {
        "id": "W9wKFX1OoMYc"
      },
      "source": [
        "02_cnn_model:"
      ]
    },
    {
      "cell_type": "code",
      "execution_count": 7,
      "metadata": {
        "colab": {
          "base_uri": "https://localhost:8080/"
        },
        "id": "5RgffpBaPIaB",
        "outputId": "9f1f4e44-4096-4120-c0cf-748e24b3cef5"
      },
      "outputs": [
        {
          "name": "stdout",
          "output_type": "stream",
          "text": [
            "Epoch 1/50\n",
            "\u001b[1m313/313\u001b[0m \u001b[32m━━━━━━━━━━━━━━━━━━━━\u001b[0m\u001b[37m\u001b[0m \u001b[1m13s\u001b[0m 37ms/step - accuracy: 0.3893 - loss: 1.7092 - val_accuracy: 0.5047 - val_loss: 1.4623\n",
            "Epoch 2/50\n",
            "\u001b[1m313/313\u001b[0m \u001b[32m━━━━━━━━━━━━━━━━━━━━\u001b[0m\u001b[37m\u001b[0m \u001b[1m11s\u001b[0m 36ms/step - accuracy: 0.5516 - loss: 1.2866 - val_accuracy: 0.6060 - val_loss: 1.1537\n",
            "Epoch 3/50\n",
            "\u001b[1m313/313\u001b[0m \u001b[32m━━━━━━━━━━━━━━━━━━━━\u001b[0m\u001b[37m\u001b[0m \u001b[1m11s\u001b[0m 36ms/step - accuracy: 0.6123 - loss: 1.1213 - val_accuracy: 0.6347 - val_loss: 1.0532\n",
            "Epoch 4/50\n",
            "\u001b[1m313/313\u001b[0m \u001b[32m━━━━━━━━━━━━━━━━━━━━\u001b[0m\u001b[37m\u001b[0m \u001b[1m11s\u001b[0m 36ms/step - accuracy: 0.6453 - loss: 1.0162 - val_accuracy: 0.6479 - val_loss: 0.9927\n",
            "Epoch 5/50\n",
            "\u001b[1m313/313\u001b[0m \u001b[32m━━━━━━━━━━━━━━━━━━━━\u001b[0m\u001b[37m\u001b[0m \u001b[1m11s\u001b[0m 36ms/step - accuracy: 0.6769 - loss: 0.9333 - val_accuracy: 0.6665 - val_loss: 0.9552\n",
            "Epoch 6/50\n",
            "\u001b[1m313/313\u001b[0m \u001b[32m━━━━━━━━━━━━━━━━━━━━\u001b[0m\u001b[37m\u001b[0m \u001b[1m11s\u001b[0m 36ms/step - accuracy: 0.6949 - loss: 0.8778 - val_accuracy: 0.7011 - val_loss: 0.8672\n",
            "Epoch 7/50\n",
            "\u001b[1m313/313\u001b[0m \u001b[32m━━━━━━━━━━━━━━━━━━━━\u001b[0m\u001b[37m\u001b[0m \u001b[1m11s\u001b[0m 36ms/step - accuracy: 0.7164 - loss: 0.8154 - val_accuracy: 0.6917 - val_loss: 0.8969\n",
            "Epoch 8/50\n",
            "\u001b[1m313/313\u001b[0m \u001b[32m━━━━━━━━━━━━━━━━━━━━\u001b[0m\u001b[37m\u001b[0m \u001b[1m11s\u001b[0m 36ms/step - accuracy: 0.7359 - loss: 0.7650 - val_accuracy: 0.7117 - val_loss: 0.8355\n",
            "Epoch 9/50\n",
            "\u001b[1m313/313\u001b[0m \u001b[32m━━━━━━━━━━━━━━━━━━━━\u001b[0m\u001b[37m\u001b[0m \u001b[1m11s\u001b[0m 35ms/step - accuracy: 0.7474 - loss: 0.7199 - val_accuracy: 0.7043 - val_loss: 0.8598\n",
            "Epoch 10/50\n",
            "\u001b[1m313/313\u001b[0m \u001b[32m━━━━━━━━━━━━━━━━━━━━\u001b[0m\u001b[37m\u001b[0m \u001b[1m11s\u001b[0m 36ms/step - accuracy: 0.7639 - loss: 0.6793 - val_accuracy: 0.7144 - val_loss: 0.8337\n",
            "Epoch 11/50\n",
            "\u001b[1m313/313\u001b[0m \u001b[32m━━━━━━━━━━━━━━━━━━━━\u001b[0m\u001b[37m\u001b[0m \u001b[1m12s\u001b[0m 39ms/step - accuracy: 0.7766 - loss: 0.6354 - val_accuracy: 0.7270 - val_loss: 0.8016\n",
            "Epoch 12/50\n",
            "\u001b[1m313/313\u001b[0m \u001b[32m━━━━━━━━━━━━━━━━━━━━\u001b[0m\u001b[37m\u001b[0m \u001b[1m12s\u001b[0m 38ms/step - accuracy: 0.7886 - loss: 0.6047 - val_accuracy: 0.7304 - val_loss: 0.7952\n",
            "Epoch 13/50\n",
            "\u001b[1m313/313\u001b[0m \u001b[32m━━━━━━━━━━━━━━━━━━━━\u001b[0m\u001b[37m\u001b[0m \u001b[1m12s\u001b[0m 38ms/step - accuracy: 0.8039 - loss: 0.5630 - val_accuracy: 0.7214 - val_loss: 0.8370\n",
            "Epoch 14/50\n",
            "\u001b[1m313/313\u001b[0m \u001b[32m━━━━━━━━━━━━━━━━━━━━\u001b[0m\u001b[37m\u001b[0m \u001b[1m13s\u001b[0m 40ms/step - accuracy: 0.8165 - loss: 0.5272 - val_accuracy: 0.7263 - val_loss: 0.8287\n",
            "Epoch 15/50\n",
            "\u001b[1m313/313\u001b[0m \u001b[32m━━━━━━━━━━━━━━━━━━━━\u001b[0m\u001b[37m\u001b[0m \u001b[1m11s\u001b[0m 36ms/step - accuracy: 0.8247 - loss: 0.4975 - val_accuracy: 0.7256 - val_loss: 0.8307\n",
            "Epoch 16/50\n",
            "\u001b[1m313/313\u001b[0m \u001b[32m━━━━━━━━━━━━━━━━━━━━\u001b[0m\u001b[37m\u001b[0m \u001b[1m12s\u001b[0m 38ms/step - accuracy: 0.8359 - loss: 0.4696 - val_accuracy: 0.7307 - val_loss: 0.8173\n",
            "Epoch 17/50\n",
            "\u001b[1m313/313\u001b[0m \u001b[32m━━━━━━━━━━━━━━━━━━━━\u001b[0m\u001b[37m\u001b[0m \u001b[1m12s\u001b[0m 37ms/step - accuracy: 0.8466 - loss: 0.4351 - val_accuracy: 0.7262 - val_loss: 0.8684\n",
            "\u001b[1m313/313\u001b[0m \u001b[32m━━━━━━━━━━━━━━━━━━━━\u001b[0m\u001b[37m\u001b[0m \u001b[1m1s\u001b[0m 4ms/step - accuracy: 0.7239 - loss: 0.8322\n",
            "Acurácia no teste: 0.7239\n"
          ]
        }
      ],
      "source": [
        "import tensorflow as tf\n",
        "from tensorflow import keras\n",
        "from tensorflow.keras import layers # type: ignore\n",
        "\n",
        "num_classes = 10\n",
        "\n",
        "# CNN baseline\n",
        "cnn = keras.Sequential([\n",
        "    layers.Input(shape=(32, 32, 1)),\n",
        "    layers.Conv2D(32, (3,3), activation=\"relu\", padding=\"same\"),\n",
        "    layers.MaxPooling2D((2,2)),\n",
        "    layers.Conv2D(64, (3,3), activation=\"relu\", padding=\"same\"),\n",
        "    layers.MaxPooling2D((2,2)),\n",
        "    layers.Conv2D(128, (3,3), activation=\"relu\", padding=\"same\"),\n",
        "    layers.Flatten(),\n",
        "    layers.Dropout(0.5),  # regularização\n",
        "    layers.Dense(128, activation=\"relu\"),\n",
        "    layers.Dense(num_classes, activation=\"softmax\")\n",
        "])\n",
        "\n",
        "cnn.compile(\n",
        "    optimizer=\"adam\",\n",
        "    loss=\"sparse_categorical_crossentropy\",\n",
        "    metrics=[\"accuracy\"]\n",
        ")\n",
        "\n",
        "# Callbacks (early stopping e melhor modelo salvo)\n",
        "callbacks = [\n",
        "    keras.callbacks.EarlyStopping(patience=5, restore_best_weights=True),\n",
        "    keras.callbacks.ModelCheckpoint(\"cnn_best.keras\", save_best_only=True)\n",
        "]\n",
        "\n",
        "# Treinamento\n",
        "history = cnn.fit(\n",
        "    x_train_r, y_train,\n",
        "    validation_split=0.2,\n",
        "    epochs=50,\n",
        "    batch_size=128,\n",
        "    callbacks=callbacks\n",
        ")\n",
        "\n",
        "# Avaliação no teste\n",
        "test_loss, test_acc = cnn.evaluate(x_test_r, y_test)\n",
        "print(f\"Acurácia no teste: {test_acc:.4f}\")\n",
        "\n",
        "# Salvar modelo final\n",
        "cnn.save(\"cnn_best.keras\")\n",
        "\n"
      ]
    },
    {
      "cell_type": "markdown",
      "metadata": {
        "id": "m_x3lZrAonw3"
      },
      "source": [
        "03_gradcam_e_erros:"
      ]
    },
    {
      "cell_type": "code",
      "execution_count": 8,
      "metadata": {
        "colab": {
          "base_uri": "https://localhost:8080/",
          "height": 1000
        },
        "id": "rQRLx0yXoosn",
        "outputId": "33d5e898-82d2-449b-84b5-11514c4aff96"
      },
      "outputs": [
        {
          "name": "stdout",
          "output_type": "stream",
          "text": [
            "\u001b[1m313/313\u001b[0m \u001b[32m━━━━━━━━━━━━━━━━━━━━\u001b[0m\u001b[37m\u001b[0m \u001b[1m0s\u001b[0m 751us/step\n",
            "Total de erros: 6887\n",
            "Acurácia: 0.3113\n"
          ]
        },
        {
          "data": {
            "image/png": "[encoded data removed]",
            "text/plain": [
              "<Figure size 1500x600 with 10 Axes>"
            ]
          },
          "metadata": {},
          "output_type": "display_data"
        },
        {
          "data": {
            "image/png": "[encoded data removed]",
            "text/plain": [
              "<Figure size 1000x400 with 3 Axes>"
            ]
          },
          "metadata": {},
          "output_type": "display_data"
        },
        {
          "data": {
            "image/png": "[encoded data removed]",
            "text/plain": [
              "<Figure size 1000x500 with 1 Axes>"
            ]
          },
          "metadata": {},
          "output_type": "display_data"
        },
        {
          "name": "stdout",
          "output_type": "stream",
          "text": [
            "\n",
            "Análise Detalhada por Classe:\n",
            "avião: 0.819 (819/1000)\n",
            "  Confundido com: carro:59, pássaro:206, gato:3, veado:118, cachorro:1, sapo:152, cavalo:99, navio:117, caminhão:64\n",
            "carro: 0.643 (643/1000)\n",
            "  Confundido com: avião:40, pássaro:11, gato:5, veado:39, cachorro:3, sapo:143, cavalo:43, navio:115, caminhão:244\n",
            "pássaro: 0.660 (660/1000)\n",
            "  Confundido com: avião:47, carro:17, gato:17, veado:158, cachorro:12, sapo:278, cavalo:68, navio:40, caminhão:23\n",
            "gato: 0.953 (953/1000)\n",
            "  Confundido com: avião:43, carro:27, pássaro:137, veado:161, cachorro:37, sapo:346, cavalo:79, navio:51, caminhão:72\n",
            "veado: 0.667 (667/1000)\n",
            "  Confundido com: avião:55, carro:24, pássaro:193, gato:3, cachorro:9, sapo:230, cavalo:80, navio:50, caminhão:23\n",
            "cachorro: 0.889 (889/1000)\n",
            "  Confundido com: avião:28, carro:17, pássaro:137, gato:27, veado:152, sapo:352, cavalo:93, navio:55, caminhão:28\n",
            "sapo: 0.408 (408/1000)\n",
            "  Confundido com: avião:24, carro:23, pássaro:98, gato:8, veado:124, cachorro:5, cavalo:43, navio:37, caminhão:46\n",
            "cavalo: 0.676 (676/1000)\n",
            "  Confundido com: avião:50, carro:25, pássaro:111, gato:8, veado:146, cachorro:13, sapo:209, navio:39, caminhão:75\n",
            "navio: 0.610 (610/1000)\n",
            "  Confundido com: avião:97, carro:92, pássaro:45, gato:12, veado:61, cachorro:7, sapo:114, cavalo:42, caminhão:140\n",
            "caminhão: 0.562 (562/1000)\n",
            "  Confundido com: avião:36, carro:166, pássaro:17, gato:6, veado:32, cachorro:11, sapo:147, cavalo:58, navio:89\n"
          ]
        }
      ],
      "source": [
        "# 03_gradcam_e_erros\n",
        "import numpy as np\n",
        "import matplotlib.pyplot as plt\n",
        "import tensorflow as tf\n",
        "from tensorflow import keras\n",
        "from tf_keras_vis.gradcam import Gradcam # type: ignore\n",
        "from tf_keras_vis.utils import normalize # type: ignore\n",
        "from tf_keras_vis.gradcam_plus_plus import GradcamPlusPlus # type: ignore\n",
        "import cv2\n",
        "\n",
        "# Carregar o modelo treinado\n",
        "model = keras.models.load_model('mlp_best.keras')\n",
        "\n",
        "# Preparar os dados (usando canal R)\n",
        "(x_train, y_train), (x_test, y_test) = keras.datasets.cifar10.load_data()\n",
        "x_test_r = x_test[:,:,:,0:1].astype(\"float32\") / 255.0\n",
        "x_test_mlp = x_test_r.reshape((x_test_r.shape[0], -1))\n",
        "\n",
        "# Fazer previsões\n",
        "y_pred = model.predict(x_test_mlp)\n",
        "y_pred_classes = np.argmax(y_pred, axis=1)\n",
        "y_true = y_test.squeeze()\n",
        "\n",
        "# Encontrar erros\n",
        "errors = y_pred_classes != y_true\n",
        "error_indices = np.where(errors)[0]\n",
        "\n",
        "print(f\"Total de erros: {len(error_indices)}\")\n",
        "print(f\"Acurácia: {1 - len(error_indices)/len(y_test):.4f}\")\n",
        "\n",
        "# Analisar alguns erros\n",
        "class_names = ['avião', 'carro', 'pássaro', 'gato', 'veado',\n",
        "               'cachorro', 'sapo', 'cavalo', 'navio', 'caminhão']\n",
        "\n",
        "# Plotar alguns erros\n",
        "fig, axes = plt.subplots(2, 5, figsize=(15, 6))\n",
        "fig.suptitle('Exemplos de Erros de Classificação', fontsize=16)\n",
        "\n",
        "for i, idx in enumerate(error_indices[:10]):\n",
        "    ax = axes[i//5, i%5]\n",
        "\n",
        "    # Imagem original (canal R)\n",
        "    img = x_test_r[idx].squeeze()\n",
        "    ax.imshow(img, cmap='gray')\n",
        "\n",
        "    true_class = class_names[y_true[idx]]\n",
        "    pred_class = class_names[y_pred_classes[idx]]\n",
        "    confidence = np.max(y_pred[idx])\n",
        "\n",
        "    ax.set_title(f'True: {true_class}\\nPred: {pred_class}\\nConf: {confidence:.2f}',\n",
        "                 fontsize=8, color='red')\n",
        "    ax.axis('off')\n",
        "\n",
        "plt.tight_layout()\n",
        "plt.show()\n",
        "\n",
        "# Análise de confiança nos erros\n",
        "confidences_errors = np.max(y_pred[errors], axis=1)\n",
        "confidences_correct = np.max(y_pred[~errors], axis=1)\n",
        "\n",
        "plt.figure(figsize=(10, 4))\n",
        "\n",
        "plt.subplot(1, 2, 1)\n",
        "plt.hist(confidences_correct, alpha=0.7, label='Corretas', bins=20)\n",
        "plt.hist(confidences_errors, alpha=0.7, label='Erros', bins=20)\n",
        "plt.xlabel('Confiança da Predição')\n",
        "plt.ylabel('Frequência')\n",
        "plt.legend()\n",
        "plt.title('Distribuição de Confiança')\n",
        "\n",
        "plt.subplot(1, 2, 2)\n",
        "# Matriz de confusão dos erros\n",
        "from sklearn.metrics import confusion_matrix # type: ignore\n",
        "cm = confusion_matrix(y_true[errors], y_pred_classes[errors])\n",
        "\n",
        "plt.imshow(cm, cmap='Blues')\n",
        "plt.colorbar()\n",
        "plt.xlabel('Predito')\n",
        "plt.ylabel('Verdadeiro')\n",
        "plt.title('Matriz de Confusão - Erros')\n",
        "\n",
        "# Adicionar valores na matriz\n",
        "for i in range(cm.shape[0]):\n",
        "    for j in range(cm.shape[1]):\n",
        "        plt.text(j, i, f'{cm[i, j]}',\n",
        "                ha='center', va='center',\n",
        "                color='white' if cm[i, j] > cm.max()/2 else 'black')\n",
        "\n",
        "plt.tight_layout()\n",
        "plt.show()\n",
        "\n",
        "# Análise por classe\n",
        "error_rates = []\n",
        "for i in range(10):\n",
        "    class_indices = y_true == i\n",
        "    class_errors = np.sum(y_pred_classes[class_indices] != i)\n",
        "    total_class = np.sum(class_indices)\n",
        "    error_rate = class_errors / total_class if total_class > 0 else 0\n",
        "    error_rates.append(error_rate)\n",
        "\n",
        "plt.figure(figsize=(10, 5))\n",
        "bars = plt.bar(range(10), error_rates)\n",
        "plt.xlabel('Classe')\n",
        "plt.ylabel('Taxa de Erro')\n",
        "plt.title('Taxa de Erro por Classe')\n",
        "plt.xticks(range(10), class_names, rotation=45)\n",
        "\n",
        "# Adicionar valores nas barras\n",
        "for bar, rate in zip(bars, error_rates):\n",
        "    plt.text(bar.get_x() + bar.get_width()/2, bar.get_height() + 0.01,\n",
        "             f'{rate:.3f}', ha='center', va='bottom')\n",
        "\n",
        "plt.tight_layout()\n",
        "plt.show()\n",
        "\n",
        "print(\"\\nAnálise Detalhada por Classe:\")\n",
        "for i, class_name in enumerate(class_names):\n",
        "    class_indices = y_true == i\n",
        "    if np.sum(class_indices) > 0:\n",
        "        class_errors = np.sum(y_pred_classes[class_indices] != i)\n",
        "        total_class = np.sum(class_indices)\n",
        "        error_rate = class_errors / total_class\n",
        "\n",
        "        # Quais classes são confundidas\n",
        "        confusion_with = []\n",
        "        for j in range(10):\n",
        "            if i != j:\n",
        "                confusions = np.sum((y_true == i) & (y_pred_classes == j))\n",
        "                if confusions > 0:\n",
        "                    confusion_with.append(f\"{class_names[j]}:{confusions}\")\n",
        "\n",
        "        print(f\"{class_name}: {error_rate:.3f} ({class_errors}/{total_class})\")\n",
        "        if confusion_with:\n",
        "            print(f\"  Confundido com: {', '.join(confusion_with)}\")\n"
      ]
    },
    {
      "cell_type": "markdown",
      "metadata": {
        "id": "OLQD6cYDZxTu"
      },
      "source": [
        "src/app.py"
      ]
    },
    {
      "cell_type": "code",
      "execution_count": 9,
      "metadata": {
        "colab": {
          "base_uri": "https://localhost:8080/"
        },
        "id": "bLxsdzuRZ2j2",
        "outputId": "e36ff704-b764-4d3e-bab6-d71f6be68af8"
      },
      "outputs": [
        {
          "name": "stdout",
          "output_type": "stream",
          "text": [
            "Requirement already satisfied: streamlit in c:\\users\\flori\\appdata\\local\\programs\\python\\python313\\lib\\site-packages (1.50.0)\n",
            "Requirement already satisfied: pyngrok in c:\\users\\flori\\appdata\\local\\programs\\python\\python313\\lib\\site-packages (7.4.0)\n",
            "Requirement already satisfied: altair!=5.4.0,!=5.4.1,<6,>=4.0 in c:\\users\\flori\\appdata\\local\\programs\\python\\python313\\lib\\site-packages (from streamlit) (5.5.0)\n",
            "Requirement already satisfied: blinker<2,>=1.5.0 in c:\\users\\flori\\appdata\\local\\programs\\python\\python313\\lib\\site-packages (from streamlit) (1.9.0)\n",
            "Requirement already satisfied: cachetools<7,>=4.0 in c:\\users\\flori\\appdata\\local\\programs\\python\\python313\\lib\\site-packages (from streamlit) (6.2.0)\n",
            "Requirement already satisfied: click<9,>=7.0 in c:\\users\\flori\\appdata\\local\\programs\\python\\python313\\lib\\site-packages (from streamlit) (8.1.7)\n",
            "Requirement already satisfied: numpy<3,>=1.23 in c:\\users\\flori\\appdata\\local\\programs\\python\\python313\\lib\\site-packages (from streamlit) (2.2.0)\n",
            "Requirement already satisfied: packaging<26,>=20 in c:\\users\\flori\\appdata\\local\\programs\\python\\python313\\lib\\site-packages (from streamlit) (24.2)\n",
            "Requirement already satisfied: pandas<3,>=1.4.0 in c:\\users\\flori\\appdata\\local\\programs\\python\\python313\\lib\\site-packages (from streamlit) (2.2.3)\n",
            "Requirement already satisfied: pillow<12,>=7.1.0 in c:\\users\\flori\\appdata\\local\\programs\\python\\python313\\lib\\site-packages (from streamlit) (11.1.0)\n",
            "Requirement already satisfied: protobuf<7,>=3.20 in c:\\users\\flori\\appdata\\local\\programs\\python\\python313\\lib\\site-packages (from streamlit) (6.32.1)\n",
            "Requirement already satisfied: pyarrow>=7.0 in c:\\users\\flori\\appdata\\local\\programs\\python\\python313\\lib\\site-packages (from streamlit) (21.0.0)\n",
            "Requirement already satisfied: requests<3,>=2.27 in c:\\users\\flori\\appdata\\local\\programs\\python\\python313\\lib\\site-packages (from streamlit) (2.32.5)\n",
            "Requirement already satisfied: tenacity<10,>=8.1.0 in c:\\users\\flori\\appdata\\local\\programs\\python\\python313\\lib\\site-packages (from streamlit) (9.1.2)\n",
            "Requirement already satisfied: toml<2,>=0.10.1 in c:\\users\\flori\\appdata\\local\\programs\\python\\python313\\lib\\site-packages (from streamlit) (0.10.2)\n",
            "Requirement already satisfied: typing-extensions<5,>=4.4.0 in c:\\users\\flori\\appdata\\local\\programs\\python\\python313\\lib\\site-packages (from streamlit) (4.12.2)\n",
            "Requirement already satisfied: watchdog<7,>=2.1.5 in c:\\users\\flori\\appdata\\local\\programs\\python\\python313\\lib\\site-packages (from streamlit) (6.0.0)\n",
            "Requirement already satisfied: gitpython!=3.1.19,<4,>=3.0.7 in c:\\users\\flori\\appdata\\local\\programs\\python\\python313\\lib\\site-packages (from streamlit) (3.1.45)\n",
            "Requirement already satisfied: pydeck<1,>=0.8.0b4 in c:\\users\\flori\\appdata\\local\\programs\\python\\python313\\lib\\site-packages (from streamlit) (0.9.1)\n",
            "Requirement already satisfied: tornado!=6.5.0,<7,>=6.0.3 in c:\\users\\flori\\appdata\\roaming\\python\\python313\\site-packages (from streamlit) (6.5.2)\n",
            "Requirement already satisfied: jinja2 in c:\\users\\flori\\appdata\\local\\programs\\python\\python313\\lib\\site-packages (from altair!=5.4.0,!=5.4.1,<6,>=4.0->streamlit) (3.1.4)\n",
            "Requirement already satisfied: jsonschema>=3.0 in c:\\users\\flori\\appdata\\local\\programs\\python\\python313\\lib\\site-packages (from altair!=5.4.0,!=5.4.1,<6,>=4.0->streamlit) (4.25.1)\n",
            "Requirement already satisfied: narwhals>=1.14.2 in c:\\users\\flori\\appdata\\local\\programs\\python\\python313\\lib\\site-packages (from altair!=5.4.0,!=5.4.1,<6,>=4.0->streamlit) (2.5.0)\n",
            "Requirement already satisfied: colorama in c:\\users\\flori\\appdata\\local\\programs\\python\\python313\\lib\\site-packages (from click<9,>=7.0->streamlit) (0.4.6)\n",
            "Requirement already satisfied: gitdb<5,>=4.0.1 in c:\\users\\flori\\appdata\\local\\programs\\python\\python313\\lib\\site-packages (from gitpython!=3.1.19,<4,>=3.0.7->streamlit) (4.0.12)\n",
            "Requirement already satisfied: smmap<6,>=3.0.1 in c:\\users\\flori\\appdata\\local\\programs\\python\\python313\\lib\\site-packages (from gitdb<5,>=4.0.1->gitpython!=3.1.19,<4,>=3.0.7->streamlit) (5.0.2)\n",
            "Requirement already satisfied: python-dateutil>=2.8.2 in c:\\users\\flori\\appdata\\local\\programs\\python\\python313\\lib\\site-packages (from pandas<3,>=1.4.0->streamlit) (2.9.0.post0)\n",
            "Requirement already satisfied: pytz>=2020.1 in c:\\users\\flori\\appdata\\local\\programs\\python\\python313\\lib\\site-packages (from pandas<3,>=1.4.0->streamlit) (2024.2)\n",
            "Requirement already satisfied: tzdata>=2022.7 in c:\\users\\flori\\appdata\\local\\programs\\python\\python313\\lib\\site-packages (from pandas<3,>=1.4.0->streamlit) (2024.2)\n",
            "Requirement already satisfied: charset_normalizer<4,>=2 in c:\\users\\flori\\appdata\\local\\programs\\python\\python313\\lib\\site-packages (from requests<3,>=2.27->streamlit) (3.4.3)\n",
            "Requirement already satisfied: idna<4,>=2.5 in c:\\users\\flori\\appdata\\local\\programs\\python\\python313\\lib\\site-packages (from requests<3,>=2.27->streamlit) (3.10)\n",
            "Requirement already satisfied: urllib3<3,>=1.21.1 in c:\\users\\flori\\appdata\\local\\programs\\python\\python313\\lib\\site-packages (from requests<3,>=2.27->streamlit) (2.5.0)\n",
            "Requirement already satisfied: certifi>=2017.4.17 in c:\\users\\flori\\appdata\\local\\programs\\python\\python313\\lib\\site-packages (from requests<3,>=2.27->streamlit) (2025.8.3)\n",
            "Requirement already satisfied: PyYAML>=5.1 in c:\\users\\flori\\appdata\\local\\programs\\python\\python313\\lib\\site-packages (from pyngrok) (6.0.3)\n",
            "Requirement already satisfied: MarkupSafe>=2.0 in c:\\users\\flori\\appdata\\local\\programs\\python\\python313\\lib\\site-packages (from jinja2->altair!=5.4.0,!=5.4.1,<6,>=4.0->streamlit) (3.0.2)\n",
            "Requirement already satisfied: attrs>=22.2.0 in c:\\users\\flori\\appdata\\local\\programs\\python\\python313\\lib\\site-packages (from jsonschema>=3.0->altair!=5.4.0,!=5.4.1,<6,>=4.0->streamlit) (25.3.0)\n",
            "Requirement already satisfied: jsonschema-specifications>=2023.03.6 in c:\\users\\flori\\appdata\\local\\programs\\python\\python313\\lib\\site-packages (from jsonschema>=3.0->altair!=5.4.0,!=5.4.1,<6,>=4.0->streamlit) (2025.9.1)\n",
            "Requirement already satisfied: referencing>=0.28.4 in c:\\users\\flori\\appdata\\local\\programs\\python\\python313\\lib\\site-packages (from jsonschema>=3.0->altair!=5.4.0,!=5.4.1,<6,>=4.0->streamlit) (0.36.2)\n",
            "Requirement already satisfied: rpds-py>=0.7.1 in c:\\users\\flori\\appdata\\local\\programs\\python\\python313\\lib\\site-packages (from jsonschema>=3.0->altair!=5.4.0,!=5.4.1,<6,>=4.0->streamlit) (0.27.1)\n",
            "Requirement already satisfied: six>=1.5 in c:\\users\\flori\\appdata\\local\\programs\\python\\python313\\lib\\site-packages (from python-dateutil>=2.8.2->pandas<3,>=1.4.0->streamlit) (1.17.0)\n"
          ]
        },
        {
          "name": "stderr",
          "output_type": "stream",
          "text": [
            "\n",
            "[notice] A new release of pip is available: 25.1.1 -> 25.2\n",
            "[notice] To update, run: python.exe -m pip install --upgrade pip\n"
          ]
        }
      ],
      "source": [
        "%pip install streamlit pyngrok"
      ]
    },
    {
      "cell_type": "code",
      "execution_count": 11,
      "metadata": {
        "colab": {
          "base_uri": "https://localhost:8080/",
          "height": 412
        },
        "id": "3gy2mX7sZzXu",
        "outputId": "3a78b28e-c41c-4d04-e374-54e840086aa2"
      },
      "outputs": [
        {
          "name": "stderr",
          "output_type": "stream",
          "text": [
            "2025-09-27 12:21:19.940 WARNING streamlit.runtime.scriptrunner_utils.script_run_context: Thread 'MainThread': missing ScriptRunContext! This warning can be ignored when running in bare mode.\n",
            "2025-09-27 12:21:20.267 \n",
            "  \u001b[33m\u001b[1mWarning:\u001b[0m to view this Streamlit app on a browser, run it with the following\n",
            "  command:\n",
            "\n",
            "    streamlit run C:\\Users\\flori\\AppData\\Roaming\\Python\\Python313\\site-packages\\ipykernel_launcher.py [ARGUMENTS]\n",
            "2025-09-27 12:21:20.268 Thread 'MainThread': missing ScriptRunContext! This warning can be ignored when running in bare mode.\n",
            "2025-09-27 12:21:20.268 Thread 'MainThread': missing ScriptRunContext! This warning can be ignored when running in bare mode.\n",
            "2025-09-27 12:21:20.268 Thread 'MainThread': missing ScriptRunContext! This warning can be ignored when running in bare mode.\n",
            "2025-09-27 12:21:20.269 Thread 'MainThread': missing ScriptRunContext! This warning can be ignored when running in bare mode.\n",
            "2025-09-27 12:21:20.269 Thread 'MainThread': missing ScriptRunContext! This warning can be ignored when running in bare mode.\n",
            "2025-09-27 12:21:20.269 Thread 'MainThread': missing ScriptRunContext! This warning can be ignored when running in bare mode.\n",
            "2025-09-27 12:21:20.270 Thread 'MainThread': missing ScriptRunContext! This warning can be ignored when running in bare mode.\n",
            "2025-09-27 12:21:20.270 Thread 'MainThread': missing ScriptRunContext! This warning can be ignored when running in bare mode.\n"
          ]
        }
      ],
      "source": [
        "import streamlit as st\n",
        "import numpy as np\n",
        "import matplotlib.pyplot as plt\n",
        "from tensorflow import keras\n",
        "from tensorflow.keras.preprocessing import image # type: ignore\n",
        "import cv2\n",
        "\n",
        "# Carregar modelo\n",
        "cnn = keras.models.load_model(\"cnn_best.keras\")\n",
        "\n",
        "# Classes do CIFAR-10\n",
        "classes = [\"avião\", \"automóvel\", \"pássaro\", \"gato\", \"cervo\",\n",
        "           \"cachorro\", \"sapo\", \"cavalo\", \"navio\", \"caminhão\"]\n",
        "\n",
        "st.title(\"Classificação CIFAR-10 com CNN\")\n",
        "uploaded_file = st.file_uploader(\"Envie uma imagem\", type=[\"jpg\", \"jpeg\", \"png\"])\n",
        "\n",
        "if uploaded_file is not None:\n",
        "    # Abrir imagem\n",
        "    img = image.load_img(uploaded_file, target_size=(32, 32))\n",
        "    img_array = image.img_to_array(img) / 255.0\n",
        "    img_array = np.expand_dims(img_array, axis=0)\n",
        "\n",
        "    # Predição\n",
        "    predictions = cnn.predict(img_array)\n",
        "    class_idx = np.argmax(predictions)\n",
        "    class_name = classes[class_idx]\n",
        "\n",
        "    st.image(uploaded_file, caption=f\"Classe prevista: {class_name}\", use_column_width=True)\n",
        "\n",
        "    # Probabilidades\n",
        "    fig, ax = plt.subplots()\n",
        "    ax.bar(classes, predictions[0])\n",
        "    ax.set_xticklabels(classes, rotation=45, ha=\"right\")\n",
        "    st.pyplot(fig)\n"
      ]
    },
    {
      "cell_type": "code",
      "execution_count": 13,
      "metadata": {
        "colab": {
          "base_uri": "https://localhost:8080/"
        },
        "id": "cnUEcfxZcCvG",
        "outputId": "beee7c9d-290a-4b74-e630-593a18b8db54"
      },
      "outputs": [
        {
          "name": "stdout",
          "output_type": "stream",
          "text": [
            "Downloading ngrok ...\n",
            "Downloading ngrok: 0%\n",
            "Downloading ngrok: 1%\n",
            "Downloading ngrok: 2%\n",
            "Downloading ngrok: 3%\n",
            "Downloading ngrok: 4%\n",
            "Downloading ngrok: 5%\n",
            "Downloading ngrok: 6%\n",
            "Downloading ngrok: 7%\n",
            "Downloading ngrok: 8%\n",
            "Downloading ngrok: 9%\n",
            "Downloading ngrok: 10%\n",
            "Downloading ngrok: 11%\n",
            "Downloading ngrok: 12%\n",
            "Downloading ngrok: 13%\n",
            "Downloading ngrok: 14%\n",
            "Downloading ngrok: 15%\n",
            "Downloading ngrok: 16%\n",
            "Downloading ngrok: 17%\n",
            "Downloading ngrok: 18%\n",
            "Downloading ngrok: 19%\n",
            "Downloading ngrok: 20%\n",
            "Downloading ngrok: 21%\n",
            "Downloading ngrok: 22%\n",
            "Downloading ngrok: 23%\n",
            "Downloading ngrok: 24%\n",
            "Downloading ngrok: 25%\n",
            "Downloading ngrok: 26%\n",
            "Downloading ngrok: 27%\n",
            "Downloading ngrok: 28%\n",
            "Downloading ngrok: 29%\n",
            "Downloading ngrok: 30%\n",
            "Downloading ngrok: 31%\n",
            "Downloading ngrok: 32%\n",
            "Downloading ngrok: 33%\n",
            "Downloading ngrok: 34%\n",
            "Downloading ngrok: 35%\n",
            "Downloading ngrok: 36%\n",
            "Downloading ngrok: 37%\n",
            "Downloading ngrok: 38%\n",
            "Downloading ngrok: 39%\n",
            "Downloading ngrok: 40%\n",
            "Downloading ngrok: 41%\n",
            "Downloading ngrok: 42%\n",
            "Downloading ngrok: 43%\n",
            "Downloading ngrok: 44%\n",
            "Downloading ngrok: 45%\n",
            "Downloading ngrok: 46%\n",
            "Downloading ngrok: 47%\n",
            "Downloading ngrok: 48%\n",
            "Downloading ngrok: 49%\n",
            "Downloading ngrok: 50%\n",
            "Downloading ngrok: 51%\n",
            "Downloading ngrok: 52%\n",
            "Downloading ngrok: 53%\n",
            "Downloading ngrok: 54%\n",
            "Downloading ngrok: 55%\n",
            "Downloading ngrok: 56%\n",
            "Downloading ngrok: 57%\n",
            "Downloading ngrok: 58%\n",
            "Downloading ngrok: 59%\n",
            "Downloading ngrok: 60%\n",
            "Downloading ngrok: 61%\n",
            "Downloading ngrok: 62%\n",
            "Downloading ngrok: 63%\n",
            "Downloading ngrok: 64%\n",
            "Downloading ngrok: 65%\n",
            "Downloading ngrok: 66%\n",
            "Downloading ngrok: 67%\n",
            "Downloading ngrok: 68%\n",
            "Downloading ngrok: 69%\n",
            "Downloading ngrok: 70%\n",
            "Downloading ngrok: 71%\n",
            "Downloading ngrok: 72%\n",
            "Downloading ngrok: 73%\n",
            "Downloading ngrok: 74%\n",
            "Downloading ngrok: 75%\n",
            "Downloading ngrok: 76%\n",
            "Downloading ngrok: 77%\n",
            "Downloading ngrok: 78%\n",
            "Downloading ngrok: 79%\n",
            "Downloading ngrok: 80%\n",
            "Downloading ngrok: 81%\n",
            "Downloading ngrok: 82%\n",
            "Downloading ngrok: 83%\n",
            "Downloading ngrok: 84%\n",
            "Downloading ngrok: 85%\n",
            "Downloading ngrok: 86%\n",
            "Downloading ngrok: 87%\n",
            "Downloading ngrok: 88%\n",
            "Downloading ngrok: 89%\n",
            "Downloading ngrok: 90%\n",
            "Downloading ngrok: 91%\n",
            "Downloading ngrok: 92%\n",
            "Downloading ngrok: 93%\n",
            "Downloading ngrok: 94%\n",
            "Downloading ngrok: 95%\n",
            "Downloading ngrok: 96%\n",
            "Downloading ngrok: 97%\n",
            "Downloading ngrok: 98%\n",
            "Downloading ngrok: 99%\n",
            "Downloading ngrok: 100%\n",
            "                                                                                                    \n",
            "Installing ngrok ... \n",
            "                                                                                                    \n",
            "Authtoken saved to configuration file: C:\\Users\\flori\\AppData\\Local/ngrok/ngrok.yml\n"
          ]
        }
      ],
      "source": [
        "!ngrok config add-authtoken 33Ez6uwEMvrZ4V6SWB5fjiuv6GT_6YfJTdLqweVG4xBWU3p4A"
      ]
    },
    {
      "cell_type": "code",
      "execution_count": 14,
      "metadata": {
        "colab": {
          "base_uri": "https://localhost:8080/",
          "height": 412
        },
        "id": "2CKA-HPVaduT",
        "outputId": "ea195092-c12f-45ef-b83d-750e62f02c1d"
      },
      "outputs": [
        {
          "name": "stdout",
          "output_type": "stream",
          "text": [
            "Acesse o app em: NgrokTunnel: \"https://carinal-imagerial-adina.ngrok-free.dev\" -> \"http://localhost:8501\"\n",
            "\n",
            "added 22 packages, and audited 23 packages in 1s\n",
            "\n",
            "3 packages are looking for funding\n",
            "  run `npm fund` for details\n",
            "\n",
            "1 high severity vulnerability\n",
            "\n",
            "To address all issues (including breaking changes), run:\n",
            "  npm audit fix --force\n",
            "\n",
            "Run `npm audit` for details.\n"
          ]
        },
        {
          "name": "stderr",
          "output_type": "stream",
          "text": [
            "npm notice \n",
            "npm notice New major version of npm available! 8.15.0 -> 11.6.1\n",
            "npm notice Changelog: <https://github.com/npm/cli/releases/tag/v11.6.1>\n",
            "npm notice Run `npm install -g npm@11.6.1` to update!\n",
            "npm notice \n"
          ]
        },
        {
          "name": "stdout",
          "output_type": "stream",
          "text": [
            "your url is: https://long-onions-hunt.loca.lt\n"
          ]
        },
        {
          "name": "stderr",
          "output_type": "stream",
          "text": [
            "Usage: streamlit run [OPTIONS] TARGET [ARGS]...\n",
            "Try 'streamlit run --help' for help.\n",
            "\n",
            "Error: Invalid value: File does not exist: app.py\n",
            "npm WARN exec The following package was not found and will be installed: localtunnel@2.0.2\n",
            "C:\\Users\\flori\\AppData\\Local\\npm-cache\\_npx\\75ac80b86e83d4a2\\node_modules\\localtunnel\\bin\\lt.js:81\n",
            "    throw err;\n",
            "    ^\n",
            "\n",
            "Error: connection refused: localtunnel.me:26395 (check your firewall settings)\n",
            "    at Socket.<anonymous> (C:\\Users\\flori\\AppData\\Local\\npm-cache\\_npx\\75ac80b86e83d4a2\\node_modules\\\u001b[4mlocaltunnel\u001b[24m\\lib\\TunnelCluster.js:52:11)\n",
            "\u001b[90m    at Socket.emit (node:events:518:28)\u001b[39m\n",
            "\u001b[90m    at emitErrorNT (node:internal/streams/destroy:170:8)\u001b[39m\n",
            "\u001b[90m    at emitErrorCloseNT (node:internal/streams/destroy:129:3)\u001b[39m\n",
            "\u001b[90m    at process.processTicksAndRejections (node:internal/process/task_queues:90:21)\u001b[39m\n",
            "\n",
            "Node.js v22.11.0\n"
          ]
        }
      ],
      "source": [
        "from pyngrok import ngrok\n",
        "\n",
        "# abre túnel para o localhost:8501\n",
        "public_url = ngrok.connect(\"http://localhost:8501\")\n",
        "print(\"Acesse o app em:\", public_url)\n",
        "\n",
        "# inicia o app streamlit em segundo plano\n",
        "!npm install -g localtunnel\n",
        "!streamlit run app.py --server.port 8501 & npx localtunnel --port 8501"
      ]
    },
    {
      "cell_type": "code",
      "execution_count": 1,
      "metadata": {},
      "outputs": [
        {
          "name": "stdout",
          "output_type": "stream",
          "text": [
            "TF version: 2.20.0\n",
            "GPU available: []\n"
          ]
        }
      ],
      "source": [
        "# Célula: 00-setup\n",
        "import os, random, pathlib, time\n",
        "import numpy as np, matplotlib.pyplot as plt\n",
        "import tensorflow as tf\n",
        "from tensorflow import keras\n",
        "from tensorflow.keras import layers\n",
        "from sklearn.model_selection import train_test_split\n",
        "from sklearn.metrics import confusion_matrix, classification_report, f1_score\n",
        "os.makedirs(\"figures\", exist_ok=True)\n",
        "\n",
        "def set_seed(seed=42):\n",
        "    random.seed(seed)\n",
        "    np.random.seed(seed)\n",
        "    tf.random.set_seed(seed)\n",
        "\n",
        "print(\"TF version:\", tf.__version__)\n",
        "print(\"GPU available:\", tf.config.list_physical_devices('GPU'))\n"
      ]
    },
    {
      "cell_type": "code",
      "execution_count": 2,
      "metadata": {},
      "outputs": [
        {
          "name": "stdout",
          "output_type": "stream",
          "text": [
            "(45000, 32, 32, 3) (5000, 32, 32, 3) (10000, 32, 32, 3)\n"
          ]
        }
      ],
      "source": [
        "# Célula: 01-data-load\n",
        "(X_train, y_train), (X_test, y_test) = tf.keras.datasets.cifar10.load_data()\n",
        "y_train = y_train.ravel(); y_test = y_test.ravel()\n",
        "\n",
        "# criar validação estratificada\n",
        "X_train, X_val, y_train, y_val = train_test_split(\n",
        "    X_train, y_train, test_size=5000, stratify=y_train, random_state=42)\n",
        "\n",
        "print(X_train.shape, X_val.shape, X_test.shape)\n"
      ]
    },
    {
      "cell_type": "code",
      "execution_count": 3,
      "metadata": {},
      "outputs": [
        {
          "data": {
            "image/png": "[encoded data removed]",
            "text/plain": [
              "<Figure size 1200x600 with 50 Axes>"
            ]
          },
          "metadata": {},
          "output_type": "display_data"
        }
      ],
      "source": [
        "# Célula: 02-EDA (exemplo simples)\n",
        "fig, axes = plt.subplots(5, 10, figsize=(12,6))\n",
        "classes = ['airplane','automobile','bird','cat','deer','dog','frog','horse','ship','truck']\n",
        "for cls in range(10):\n",
        "    idxs = np.where(y_train==cls)[0][:5]\n",
        "    for i, ax in enumerate(axes[:,cls]):\n",
        "        ax.imshow(X_train[idxs[i]])\n",
        "        ax.axis('off')\n",
        "        if i==0: ax.set_title(classes[cls])\n",
        "plt.tight_layout()\n",
        "plt.savefig(\"figures/dataset_examples.png\", dpi=150)\n"
      ]
    },
    {
      "cell_type": "code",
      "execution_count": 4,
      "metadata": {},
      "outputs": [],
      "source": [
        "# Célula: 03-preproc\n",
        "from tensorflow.keras.layers import Rescaling, RandomFlip, RandomRotation, RandomZoom\n",
        "\n",
        "rescale = Rescaling(1./255)\n",
        "data_augment = keras.Sequential([\n",
        "    RandomFlip(\"horizontal\"),\n",
        "    RandomRotation(0.1),\n",
        "    RandomZoom(0.1),\n",
        "])\n"
      ]
    },
    {
      "cell_type": "code",
      "execution_count": 5,
      "metadata": {},
      "outputs": [],
      "source": [
        "# Célula: 04-dataset-pipeline\n",
        "def make_ds(X, y, batch=64, training=False):\n",
        "    ds = tf.data.Dataset.from_tensor_slices((X, y))\n",
        "    if training:\n",
        "        ds = ds.shuffle(2000)\n",
        "    ds = ds.map(lambda x,y: (tf.cast(x, tf.float32)/255.0, y), num_parallel_calls=tf.data.AUTOTUNE)\n",
        "    if training:\n",
        "        ds = ds.map(lambda x,y: (data_augment(x, training=True), y), num_parallel_calls=tf.data.AUTOTUNE)\n",
        "    ds = ds.batch(batch).prefetch(tf.data.AUTOTUNE)\n",
        "    return ds\n",
        "\n",
        "batch_size = 128\n",
        "ds_train = make_ds(X_train, y_train, batch=batch_size, training=True)\n",
        "ds_val   = make_ds(X_val, y_val, batch=batch_size, training=False)\n",
        "ds_test  = make_ds(X_test, y_test, batch=batch_size, training=False)\n"
      ]
    },
    {
      "cell_type": "code",
      "execution_count": 6,
      "metadata": {},
      "outputs": [
        {
          "data": {
            "text/html": [
              "<pre style=\"white-space:pre;overflow-x:auto;line-height:normal;font-family:Menlo,'DejaVu Sans Mono',consolas,'Courier New',monospace\"><span style=\"font-weight: bold\">Model: \"MLP\"</span>\n",
              "</pre>\n"
            ],
            "text/plain": [
              "\u001b[1mModel: \"MLP\"\u001b[0m\n"
            ]
          },
          "metadata": {},
          "output_type": "display_data"
        },
        {
          "data": {
            "text/html": [
              "<pre style=\"white-space:pre;overflow-x:auto;line-height:normal;font-family:Menlo,'DejaVu Sans Mono',consolas,'Courier New',monospace\">┏━━━━━━━━━━━━━━━━━━━━━━━━━━━━━━━━━┳━━━━━━━━━━━━━━━━━━━━━━━━┳━━━━━━━━━━━━━━━┓\n",
              "┃<span style=\"font-weight: bold\"> Layer (type)                    </span>┃<span style=\"font-weight: bold\"> Output Shape           </span>┃<span style=\"font-weight: bold\">       Param # </span>┃\n",
              "┡━━━━━━━━━━━━━━━━━━━━━━━━━━━━━━━━━╇━━━━━━━━━━━━━━━━━━━━━━━━╇━━━━━━━━━━━━━━━┩\n",
              "│ input_layer_1 (<span style=\"color: #0087ff; text-decoration-color: #0087ff\">InputLayer</span>)      │ (<span style=\"color: #00d7ff; text-decoration-color: #00d7ff\">None</span>, <span style=\"color: #00af00; text-decoration-color: #00af00\">32</span>, <span style=\"color: #00af00; text-decoration-color: #00af00\">32</span>, <span style=\"color: #00af00; text-decoration-color: #00af00\">3</span>)      │             <span style=\"color: #00af00; text-decoration-color: #00af00\">0</span> │\n",
              "├─────────────────────────────────┼────────────────────────┼───────────────┤\n",
              "│ flatten (<span style=\"color: #0087ff; text-decoration-color: #0087ff\">Flatten</span>)               │ (<span style=\"color: #00d7ff; text-decoration-color: #00d7ff\">None</span>, <span style=\"color: #00af00; text-decoration-color: #00af00\">3072</span>)           │             <span style=\"color: #00af00; text-decoration-color: #00af00\">0</span> │\n",
              "├─────────────────────────────────┼────────────────────────┼───────────────┤\n",
              "│ dense (<span style=\"color: #0087ff; text-decoration-color: #0087ff\">Dense</span>)                   │ (<span style=\"color: #00d7ff; text-decoration-color: #00d7ff\">None</span>, <span style=\"color: #00af00; text-decoration-color: #00af00\">512</span>)            │     <span style=\"color: #00af00; text-decoration-color: #00af00\">1,573,376</span> │\n",
              "├─────────────────────────────────┼────────────────────────┼───────────────┤\n",
              "│ dropout (<span style=\"color: #0087ff; text-decoration-color: #0087ff\">Dropout</span>)               │ (<span style=\"color: #00d7ff; text-decoration-color: #00d7ff\">None</span>, <span style=\"color: #00af00; text-decoration-color: #00af00\">512</span>)            │             <span style=\"color: #00af00; text-decoration-color: #00af00\">0</span> │\n",
              "├─────────────────────────────────┼────────────────────────┼───────────────┤\n",
              "│ dense_1 (<span style=\"color: #0087ff; text-decoration-color: #0087ff\">Dense</span>)                 │ (<span style=\"color: #00d7ff; text-decoration-color: #00d7ff\">None</span>, <span style=\"color: #00af00; text-decoration-color: #00af00\">256</span>)            │       <span style=\"color: #00af00; text-decoration-color: #00af00\">131,328</span> │\n",
              "├─────────────────────────────────┼────────────────────────┼───────────────┤\n",
              "│ dropout_1 (<span style=\"color: #0087ff; text-decoration-color: #0087ff\">Dropout</span>)             │ (<span style=\"color: #00d7ff; text-decoration-color: #00d7ff\">None</span>, <span style=\"color: #00af00; text-decoration-color: #00af00\">256</span>)            │             <span style=\"color: #00af00; text-decoration-color: #00af00\">0</span> │\n",
              "├─────────────────────────────────┼────────────────────────┼───────────────┤\n",
              "│ dense_2 (<span style=\"color: #0087ff; text-decoration-color: #0087ff\">Dense</span>)                 │ (<span style=\"color: #00d7ff; text-decoration-color: #00d7ff\">None</span>, <span style=\"color: #00af00; text-decoration-color: #00af00\">10</span>)             │         <span style=\"color: #00af00; text-decoration-color: #00af00\">2,570</span> │\n",
              "└─────────────────────────────────┴────────────────────────┴───────────────┘\n",
              "</pre>\n"
            ],
            "text/plain": [
              "┏━━━━━━━━━━━━━━━━━━━━━━━━━━━━━━━━━┳━━━━━━━━━━━━━━━━━━━━━━━━┳━━━━━━━━━━━━━━━┓\n",
              "┃\u001b[1m \u001b[0m\u001b[1mLayer (type)                   \u001b[0m\u001b[1m \u001b[0m┃\u001b[1m \u001b[0m\u001b[1mOutput Shape          \u001b[0m\u001b[1m \u001b[0m┃\u001b[1m \u001b[0m\u001b[1m      Param #\u001b[0m\u001b[1m \u001b[0m┃\n",
              "┡━━━━━━━━━━━━━━━━━━━━━━━━━━━━━━━━━╇━━━━━━━━━━━━━━━━━━━━━━━━╇━━━━━━━━━━━━━━━┩\n",
              "│ input_layer_1 (\u001b[38;5;33mInputLayer\u001b[0m)      │ (\u001b[38;5;45mNone\u001b[0m, \u001b[38;5;34m32\u001b[0m, \u001b[38;5;34m32\u001b[0m, \u001b[38;5;34m3\u001b[0m)      │             \u001b[38;5;34m0\u001b[0m │\n",
              "├─────────────────────────────────┼────────────────────────┼───────────────┤\n",
              "│ flatten (\u001b[38;5;33mFlatten\u001b[0m)               │ (\u001b[38;5;45mNone\u001b[0m, \u001b[38;5;34m3072\u001b[0m)           │             \u001b[38;5;34m0\u001b[0m │\n",
              "├─────────────────────────────────┼────────────────────────┼───────────────┤\n",
              "│ dense (\u001b[38;5;33mDense\u001b[0m)                   │ (\u001b[38;5;45mNone\u001b[0m, \u001b[38;5;34m512\u001b[0m)            │     \u001b[38;5;34m1,573,376\u001b[0m │\n",
              "├─────────────────────────────────┼────────────────────────┼───────────────┤\n",
              "│ dropout (\u001b[38;5;33mDropout\u001b[0m)               │ (\u001b[38;5;45mNone\u001b[0m, \u001b[38;5;34m512\u001b[0m)            │             \u001b[38;5;34m0\u001b[0m │\n",
              "├─────────────────────────────────┼────────────────────────┼───────────────┤\n",
              "│ dense_1 (\u001b[38;5;33mDense\u001b[0m)                 │ (\u001b[38;5;45mNone\u001b[0m, \u001b[38;5;34m256\u001b[0m)            │       \u001b[38;5;34m131,328\u001b[0m │\n",
              "├─────────────────────────────────┼────────────────────────┼───────────────┤\n",
              "│ dropout_1 (\u001b[38;5;33mDropout\u001b[0m)             │ (\u001b[38;5;45mNone\u001b[0m, \u001b[38;5;34m256\u001b[0m)            │             \u001b[38;5;34m0\u001b[0m │\n",
              "├─────────────────────────────────┼────────────────────────┼───────────────┤\n",
              "│ dense_2 (\u001b[38;5;33mDense\u001b[0m)                 │ (\u001b[38;5;45mNone\u001b[0m, \u001b[38;5;34m10\u001b[0m)             │         \u001b[38;5;34m2,570\u001b[0m │\n",
              "└─────────────────────────────────┴────────────────────────┴───────────────┘\n"
            ]
          },
          "metadata": {},
          "output_type": "display_data"
        },
        {
          "data": {
            "text/html": [
              "<pre style=\"white-space:pre;overflow-x:auto;line-height:normal;font-family:Menlo,'DejaVu Sans Mono',consolas,'Courier New',monospace\"><span style=\"font-weight: bold\"> Total params: </span><span style=\"color: #00af00; text-decoration-color: #00af00\">1,707,274</span> (6.51 MB)\n",
              "</pre>\n"
            ],
            "text/plain": [
              "\u001b[1m Total params: \u001b[0m\u001b[38;5;34m1,707,274\u001b[0m (6.51 MB)\n"
            ]
          },
          "metadata": {},
          "output_type": "display_data"
        },
        {
          "data": {
            "text/html": [
              "<pre style=\"white-space:pre;overflow-x:auto;line-height:normal;font-family:Menlo,'DejaVu Sans Mono',consolas,'Courier New',monospace\"><span style=\"font-weight: bold\"> Trainable params: </span><span style=\"color: #00af00; text-decoration-color: #00af00\">1,707,274</span> (6.51 MB)\n",
              "</pre>\n"
            ],
            "text/plain": [
              "\u001b[1m Trainable params: \u001b[0m\u001b[38;5;34m1,707,274\u001b[0m (6.51 MB)\n"
            ]
          },
          "metadata": {},
          "output_type": "display_data"
        },
        {
          "data": {
            "text/html": [
              "<pre style=\"white-space:pre;overflow-x:auto;line-height:normal;font-family:Menlo,'DejaVu Sans Mono',consolas,'Courier New',monospace\"><span style=\"font-weight: bold\"> Non-trainable params: </span><span style=\"color: #00af00; text-decoration-color: #00af00\">0</span> (0.00 B)\n",
              "</pre>\n"
            ],
            "text/plain": [
              "\u001b[1m Non-trainable params: \u001b[0m\u001b[38;5;34m0\u001b[0m (0.00 B)\n"
            ]
          },
          "metadata": {},
          "output_type": "display_data"
        },
        {
          "name": "stdout",
          "output_type": "stream",
          "text": [
            "params: 1707274\n"
          ]
        }
      ],
      "source": [
        "# Célula: 05-mlp\n",
        "def build_mlp(input_shape=(32,32,3), num_classes=10, dropout=0.5, l2_reg=1e-4):\n",
        "    inputs = keras.Input(shape=input_shape)\n",
        "    x = layers.Flatten()(inputs)\n",
        "    x = layers.Dense(512, activation='relu', kernel_regularizer=keras.regularizers.l2(l2_reg))(x)\n",
        "    x = layers.Dropout(dropout)(x)\n",
        "    x = layers.Dense(256, activation='relu', kernel_regularizer=keras.regularizers.l2(l2_reg))(x)\n",
        "    x = layers.Dropout(dropout)(x)\n",
        "    outputs = layers.Dense(num_classes, activation='softmax')(x)\n",
        "    model = keras.Model(inputs, outputs, name=\"MLP\")\n",
        "    return model\n",
        "\n",
        "mlp = build_mlp()\n",
        "mlp.summary()\n",
        "print(\"params:\", mlp.count_params())\n"
      ]
    },
    {
      "cell_type": "code",
      "execution_count": 7,
      "metadata": {},
      "outputs": [
        {
          "data": {
            "text/html": [
              "<pre style=\"white-space:pre;overflow-x:auto;line-height:normal;font-family:Menlo,'DejaVu Sans Mono',consolas,'Courier New',monospace\"><span style=\"font-weight: bold\">Model: \"CNN\"</span>\n",
              "</pre>\n"
            ],
            "text/plain": [
              "\u001b[1mModel: \"CNN\"\u001b[0m\n"
            ]
          },
          "metadata": {},
          "output_type": "display_data"
        },
        {
          "data": {
            "text/html": [
              "<pre style=\"white-space:pre;overflow-x:auto;line-height:normal;font-family:Menlo,'DejaVu Sans Mono',consolas,'Courier New',monospace\">┏━━━━━━━━━━━━━━━━━━━━━━━━━━━━━━━━━┳━━━━━━━━━━━━━━━━━━━━━━━━┳━━━━━━━━━━━━━━━┓\n",
              "┃<span style=\"font-weight: bold\"> Layer (type)                    </span>┃<span style=\"font-weight: bold\"> Output Shape           </span>┃<span style=\"font-weight: bold\">       Param # </span>┃\n",
              "┡━━━━━━━━━━━━━━━━━━━━━━━━━━━━━━━━━╇━━━━━━━━━━━━━━━━━━━━━━━━╇━━━━━━━━━━━━━━━┩\n",
              "│ input_layer_2 (<span style=\"color: #0087ff; text-decoration-color: #0087ff\">InputLayer</span>)      │ (<span style=\"color: #00d7ff; text-decoration-color: #00d7ff\">None</span>, <span style=\"color: #00af00; text-decoration-color: #00af00\">32</span>, <span style=\"color: #00af00; text-decoration-color: #00af00\">32</span>, <span style=\"color: #00af00; text-decoration-color: #00af00\">3</span>)      │             <span style=\"color: #00af00; text-decoration-color: #00af00\">0</span> │\n",
              "├─────────────────────────────────┼────────────────────────┼───────────────┤\n",
              "│ rescaling (<span style=\"color: #0087ff; text-decoration-color: #0087ff\">Rescaling</span>)           │ (<span style=\"color: #00d7ff; text-decoration-color: #00d7ff\">None</span>, <span style=\"color: #00af00; text-decoration-color: #00af00\">32</span>, <span style=\"color: #00af00; text-decoration-color: #00af00\">32</span>, <span style=\"color: #00af00; text-decoration-color: #00af00\">3</span>)      │             <span style=\"color: #00af00; text-decoration-color: #00af00\">0</span> │\n",
              "├─────────────────────────────────┼────────────────────────┼───────────────┤\n",
              "│ conv2d (<span style=\"color: #0087ff; text-decoration-color: #0087ff\">Conv2D</span>)                 │ (<span style=\"color: #00d7ff; text-decoration-color: #00d7ff\">None</span>, <span style=\"color: #00af00; text-decoration-color: #00af00\">32</span>, <span style=\"color: #00af00; text-decoration-color: #00af00\">32</span>, <span style=\"color: #00af00; text-decoration-color: #00af00\">32</span>)     │           <span style=\"color: #00af00; text-decoration-color: #00af00\">896</span> │\n",
              "├─────────────────────────────────┼────────────────────────┼───────────────┤\n",
              "│ conv2d_1 (<span style=\"color: #0087ff; text-decoration-color: #0087ff\">Conv2D</span>)               │ (<span style=\"color: #00d7ff; text-decoration-color: #00d7ff\">None</span>, <span style=\"color: #00af00; text-decoration-color: #00af00\">32</span>, <span style=\"color: #00af00; text-decoration-color: #00af00\">32</span>, <span style=\"color: #00af00; text-decoration-color: #00af00\">32</span>)     │         <span style=\"color: #00af00; text-decoration-color: #00af00\">9,248</span> │\n",
              "├─────────────────────────────────┼────────────────────────┼───────────────┤\n",
              "│ max_pooling2d (<span style=\"color: #0087ff; text-decoration-color: #0087ff\">MaxPooling2D</span>)    │ (<span style=\"color: #00d7ff; text-decoration-color: #00d7ff\">None</span>, <span style=\"color: #00af00; text-decoration-color: #00af00\">16</span>, <span style=\"color: #00af00; text-decoration-color: #00af00\">16</span>, <span style=\"color: #00af00; text-decoration-color: #00af00\">32</span>)     │             <span style=\"color: #00af00; text-decoration-color: #00af00\">0</span> │\n",
              "├─────────────────────────────────┼────────────────────────┼───────────────┤\n",
              "│ dropout_2 (<span style=\"color: #0087ff; text-decoration-color: #0087ff\">Dropout</span>)             │ (<span style=\"color: #00d7ff; text-decoration-color: #00d7ff\">None</span>, <span style=\"color: #00af00; text-decoration-color: #00af00\">16</span>, <span style=\"color: #00af00; text-decoration-color: #00af00\">16</span>, <span style=\"color: #00af00; text-decoration-color: #00af00\">32</span>)     │             <span style=\"color: #00af00; text-decoration-color: #00af00\">0</span> │\n",
              "├─────────────────────────────────┼────────────────────────┼───────────────┤\n",
              "│ conv2d_2 (<span style=\"color: #0087ff; text-decoration-color: #0087ff\">Conv2D</span>)               │ (<span style=\"color: #00d7ff; text-decoration-color: #00d7ff\">None</span>, <span style=\"color: #00af00; text-decoration-color: #00af00\">16</span>, <span style=\"color: #00af00; text-decoration-color: #00af00\">16</span>, <span style=\"color: #00af00; text-decoration-color: #00af00\">64</span>)     │        <span style=\"color: #00af00; text-decoration-color: #00af00\">18,496</span> │\n",
              "├─────────────────────────────────┼────────────────────────┼───────────────┤\n",
              "│ conv2d_3 (<span style=\"color: #0087ff; text-decoration-color: #0087ff\">Conv2D</span>)               │ (<span style=\"color: #00d7ff; text-decoration-color: #00d7ff\">None</span>, <span style=\"color: #00af00; text-decoration-color: #00af00\">16</span>, <span style=\"color: #00af00; text-decoration-color: #00af00\">16</span>, <span style=\"color: #00af00; text-decoration-color: #00af00\">64</span>)     │        <span style=\"color: #00af00; text-decoration-color: #00af00\">36,928</span> │\n",
              "├─────────────────────────────────┼────────────────────────┼───────────────┤\n",
              "│ max_pooling2d_1 (<span style=\"color: #0087ff; text-decoration-color: #0087ff\">MaxPooling2D</span>)  │ (<span style=\"color: #00d7ff; text-decoration-color: #00d7ff\">None</span>, <span style=\"color: #00af00; text-decoration-color: #00af00\">8</span>, <span style=\"color: #00af00; text-decoration-color: #00af00\">8</span>, <span style=\"color: #00af00; text-decoration-color: #00af00\">64</span>)       │             <span style=\"color: #00af00; text-decoration-color: #00af00\">0</span> │\n",
              "├─────────────────────────────────┼────────────────────────┼───────────────┤\n",
              "│ dropout_3 (<span style=\"color: #0087ff; text-decoration-color: #0087ff\">Dropout</span>)             │ (<span style=\"color: #00d7ff; text-decoration-color: #00d7ff\">None</span>, <span style=\"color: #00af00; text-decoration-color: #00af00\">8</span>, <span style=\"color: #00af00; text-decoration-color: #00af00\">8</span>, <span style=\"color: #00af00; text-decoration-color: #00af00\">64</span>)       │             <span style=\"color: #00af00; text-decoration-color: #00af00\">0</span> │\n",
              "├─────────────────────────────────┼────────────────────────┼───────────────┤\n",
              "│ global_average_pooling2d        │ (<span style=\"color: #00d7ff; text-decoration-color: #00d7ff\">None</span>, <span style=\"color: #00af00; text-decoration-color: #00af00\">64</span>)             │             <span style=\"color: #00af00; text-decoration-color: #00af00\">0</span> │\n",
              "│ (<span style=\"color: #0087ff; text-decoration-color: #0087ff\">GlobalAveragePooling2D</span>)        │                        │               │\n",
              "├─────────────────────────────────┼────────────────────────┼───────────────┤\n",
              "│ dense_3 (<span style=\"color: #0087ff; text-decoration-color: #0087ff\">Dense</span>)                 │ (<span style=\"color: #00d7ff; text-decoration-color: #00d7ff\">None</span>, <span style=\"color: #00af00; text-decoration-color: #00af00\">128</span>)            │         <span style=\"color: #00af00; text-decoration-color: #00af00\">8,320</span> │\n",
              "├─────────────────────────────────┼────────────────────────┼───────────────┤\n",
              "│ dropout_4 (<span style=\"color: #0087ff; text-decoration-color: #0087ff\">Dropout</span>)             │ (<span style=\"color: #00d7ff; text-decoration-color: #00d7ff\">None</span>, <span style=\"color: #00af00; text-decoration-color: #00af00\">128</span>)            │             <span style=\"color: #00af00; text-decoration-color: #00af00\">0</span> │\n",
              "├─────────────────────────────────┼────────────────────────┼───────────────┤\n",
              "│ dense_4 (<span style=\"color: #0087ff; text-decoration-color: #0087ff\">Dense</span>)                 │ (<span style=\"color: #00d7ff; text-decoration-color: #00d7ff\">None</span>, <span style=\"color: #00af00; text-decoration-color: #00af00\">10</span>)             │         <span style=\"color: #00af00; text-decoration-color: #00af00\">1,290</span> │\n",
              "└─────────────────────────────────┴────────────────────────┴───────────────┘\n",
              "</pre>\n"
            ],
            "text/plain": [
              "┏━━━━━━━━━━━━━━━━━━━━━━━━━━━━━━━━━┳━━━━━━━━━━━━━━━━━━━━━━━━┳━━━━━━━━━━━━━━━┓\n",
              "┃\u001b[1m \u001b[0m\u001b[1mLayer (type)                   \u001b[0m\u001b[1m \u001b[0m┃\u001b[1m \u001b[0m\u001b[1mOutput Shape          \u001b[0m\u001b[1m \u001b[0m┃\u001b[1m \u001b[0m\u001b[1m      Param #\u001b[0m\u001b[1m \u001b[0m┃\n",
              "┡━━━━━━━━━━━━━━━━━━━━━━━━━━━━━━━━━╇━━━━━━━━━━━━━━━━━━━━━━━━╇━━━━━━━━━━━━━━━┩\n",
              "│ input_layer_2 (\u001b[38;5;33mInputLayer\u001b[0m)      │ (\u001b[38;5;45mNone\u001b[0m, \u001b[38;5;34m32\u001b[0m, \u001b[38;5;34m32\u001b[0m, \u001b[38;5;34m3\u001b[0m)      │             \u001b[38;5;34m0\u001b[0m │\n",
              "├─────────────────────────────────┼────────────────────────┼───────────────┤\n",
              "│ rescaling (\u001b[38;5;33mRescaling\u001b[0m)           │ (\u001b[38;5;45mNone\u001b[0m, \u001b[38;5;34m32\u001b[0m, \u001b[38;5;34m32\u001b[0m, \u001b[38;5;34m3\u001b[0m)      │             \u001b[38;5;34m0\u001b[0m │\n",
              "├─────────────────────────────────┼────────────────────────┼───────────────┤\n",
              "│ conv2d (\u001b[38;5;33mConv2D\u001b[0m)                 │ (\u001b[38;5;45mNone\u001b[0m, \u001b[38;5;34m32\u001b[0m, \u001b[38;5;34m32\u001b[0m, \u001b[38;5;34m32\u001b[0m)     │           \u001b[38;5;34m896\u001b[0m │\n",
              "├─────────────────────────────────┼────────────────────────┼───────────────┤\n",
              "│ conv2d_1 (\u001b[38;5;33mConv2D\u001b[0m)               │ (\u001b[38;5;45mNone\u001b[0m, \u001b[38;5;34m32\u001b[0m, \u001b[38;5;34m32\u001b[0m, \u001b[38;5;34m32\u001b[0m)     │         \u001b[38;5;34m9,248\u001b[0m │\n",
              "├─────────────────────────────────┼────────────────────────┼───────────────┤\n",
              "│ max_pooling2d (\u001b[38;5;33mMaxPooling2D\u001b[0m)    │ (\u001b[38;5;45mNone\u001b[0m, \u001b[38;5;34m16\u001b[0m, \u001b[38;5;34m16\u001b[0m, \u001b[38;5;34m32\u001b[0m)     │             \u001b[38;5;34m0\u001b[0m │\n",
              "├─────────────────────────────────┼────────────────────────┼───────────────┤\n",
              "│ dropout_2 (\u001b[38;5;33mDropout\u001b[0m)             │ (\u001b[38;5;45mNone\u001b[0m, \u001b[38;5;34m16\u001b[0m, \u001b[38;5;34m16\u001b[0m, \u001b[38;5;34m32\u001b[0m)     │             \u001b[38;5;34m0\u001b[0m │\n",
              "├─────────────────────────────────┼────────────────────────┼───────────────┤\n",
              "│ conv2d_2 (\u001b[38;5;33mConv2D\u001b[0m)               │ (\u001b[38;5;45mNone\u001b[0m, \u001b[38;5;34m16\u001b[0m, \u001b[38;5;34m16\u001b[0m, \u001b[38;5;34m64\u001b[0m)     │        \u001b[38;5;34m18,496\u001b[0m │\n",
              "├─────────────────────────────────┼────────────────────────┼───────────────┤\n",
              "│ conv2d_3 (\u001b[38;5;33mConv2D\u001b[0m)               │ (\u001b[38;5;45mNone\u001b[0m, \u001b[38;5;34m16\u001b[0m, \u001b[38;5;34m16\u001b[0m, \u001b[38;5;34m64\u001b[0m)     │        \u001b[38;5;34m36,928\u001b[0m │\n",
              "├─────────────────────────────────┼────────────────────────┼───────────────┤\n",
              "│ max_pooling2d_1 (\u001b[38;5;33mMaxPooling2D\u001b[0m)  │ (\u001b[38;5;45mNone\u001b[0m, \u001b[38;5;34m8\u001b[0m, \u001b[38;5;34m8\u001b[0m, \u001b[38;5;34m64\u001b[0m)       │             \u001b[38;5;34m0\u001b[0m │\n",
              "├─────────────────────────────────┼────────────────────────┼───────────────┤\n",
              "│ dropout_3 (\u001b[38;5;33mDropout\u001b[0m)             │ (\u001b[38;5;45mNone\u001b[0m, \u001b[38;5;34m8\u001b[0m, \u001b[38;5;34m8\u001b[0m, \u001b[38;5;34m64\u001b[0m)       │             \u001b[38;5;34m0\u001b[0m │\n",
              "├─────────────────────────────────┼────────────────────────┼───────────────┤\n",
              "│ global_average_pooling2d        │ (\u001b[38;5;45mNone\u001b[0m, \u001b[38;5;34m64\u001b[0m)             │             \u001b[38;5;34m0\u001b[0m │\n",
              "│ (\u001b[38;5;33mGlobalAveragePooling2D\u001b[0m)        │                        │               │\n",
              "├─────────────────────────────────┼────────────────────────┼───────────────┤\n",
              "│ dense_3 (\u001b[38;5;33mDense\u001b[0m)                 │ (\u001b[38;5;45mNone\u001b[0m, \u001b[38;5;34m128\u001b[0m)            │         \u001b[38;5;34m8,320\u001b[0m │\n",
              "├─────────────────────────────────┼────────────────────────┼───────────────┤\n",
              "│ dropout_4 (\u001b[38;5;33mDropout\u001b[0m)             │ (\u001b[38;5;45mNone\u001b[0m, \u001b[38;5;34m128\u001b[0m)            │             \u001b[38;5;34m0\u001b[0m │\n",
              "├─────────────────────────────────┼────────────────────────┼───────────────┤\n",
              "│ dense_4 (\u001b[38;5;33mDense\u001b[0m)                 │ (\u001b[38;5;45mNone\u001b[0m, \u001b[38;5;34m10\u001b[0m)             │         \u001b[38;5;34m1,290\u001b[0m │\n",
              "└─────────────────────────────────┴────────────────────────┴───────────────┘\n"
            ]
          },
          "metadata": {},
          "output_type": "display_data"
        },
        {
          "data": {
            "text/html": [
              "<pre style=\"white-space:pre;overflow-x:auto;line-height:normal;font-family:Menlo,'DejaVu Sans Mono',consolas,'Courier New',monospace\"><span style=\"font-weight: bold\"> Total params: </span><span style=\"color: #00af00; text-decoration-color: #00af00\">75,178</span> (293.66 KB)\n",
              "</pre>\n"
            ],
            "text/plain": [
              "\u001b[1m Total params: \u001b[0m\u001b[38;5;34m75,178\u001b[0m (293.66 KB)\n"
            ]
          },
          "metadata": {},
          "output_type": "display_data"
        },
        {
          "data": {
            "text/html": [
              "<pre style=\"white-space:pre;overflow-x:auto;line-height:normal;font-family:Menlo,'DejaVu Sans Mono',consolas,'Courier New',monospace\"><span style=\"font-weight: bold\"> Trainable params: </span><span style=\"color: #00af00; text-decoration-color: #00af00\">75,178</span> (293.66 KB)\n",
              "</pre>\n"
            ],
            "text/plain": [
              "\u001b[1m Trainable params: \u001b[0m\u001b[38;5;34m75,178\u001b[0m (293.66 KB)\n"
            ]
          },
          "metadata": {},
          "output_type": "display_data"
        },
        {
          "data": {
            "text/html": [
              "<pre style=\"white-space:pre;overflow-x:auto;line-height:normal;font-family:Menlo,'DejaVu Sans Mono',consolas,'Courier New',monospace\"><span style=\"font-weight: bold\"> Non-trainable params: </span><span style=\"color: #00af00; text-decoration-color: #00af00\">0</span> (0.00 B)\n",
              "</pre>\n"
            ],
            "text/plain": [
              "\u001b[1m Non-trainable params: \u001b[0m\u001b[38;5;34m0\u001b[0m (0.00 B)\n"
            ]
          },
          "metadata": {},
          "output_type": "display_data"
        },
        {
          "name": "stdout",
          "output_type": "stream",
          "text": [
            "params: 75178\n"
          ]
        }
      ],
      "source": [
        "# Célula: 06-cnn\n",
        "def build_cnn(input_shape=(32,32,3), num_classes=10, dropout=0.5, l2_reg=1e-4):\n",
        "    inputs = keras.Input(shape=input_shape)\n",
        "    x = rescale(inputs)\n",
        "    x = layers.Conv2D(32,3,padding='same', activation='relu')(x)\n",
        "    x = layers.Conv2D(32,3,padding='same', activation='relu')(x)\n",
        "    x = layers.MaxPool2D()(x)\n",
        "    x = layers.Dropout(0.25)(x)\n",
        "\n",
        "    x = layers.Conv2D(64,3,padding='same', activation='relu')(x)\n",
        "    x = layers.Conv2D(64,3,padding='same', activation='relu')(x)\n",
        "    x = layers.MaxPool2D()(x)\n",
        "    x = layers.Dropout(0.25)(x)\n",
        "\n",
        "    x = layers.GlobalAveragePooling2D()(x)\n",
        "    x = layers.Dense(128, activation='relu', kernel_regularizer=keras.regularizers.l2(l2_reg))(x)\n",
        "    x = layers.Dropout(dropout)(x)\n",
        "    outputs = layers.Dense(num_classes, activation='softmax')(x)\n",
        "    model = keras.Model(inputs, outputs, name=\"CNN\")\n",
        "    return model\n",
        "\n",
        "cnn = build_cnn()\n",
        "cnn.summary()\n",
        "print(\"params:\", cnn.count_params())\n"
      ]
    },
    {
      "cell_type": "code",
      "execution_count": 8,
      "metadata": {},
      "outputs": [],
      "source": [
        "# Célula: 07-train-fn\n",
        "def train_model(model, ds_train, ds_val, seed=42, epochs=50, model_name=\"model\"):\n",
        "    set_seed(seed)\n",
        "    model.compile(\n",
        "        optimizer=keras.optimizers.Adam(),\n",
        "        loss=keras.losses.SparseCategoricalCrossentropy(),\n",
        "        metrics=['accuracy']\n",
        "    )\n",
        "    cb = [\n",
        "        keras.callbacks.EarlyStopping(monitor='val_loss', patience=6, restore_best_weights=True),\n",
        "        keras.callbacks.ReduceLROnPlateau(monitor='val_loss', factor=0.5, patience=3),\n",
        "        keras.callbacks.ModelCheckpoint(f\"{model_name}_best.h5\", save_best_only=True, monitor='val_loss')\n",
        "    ]\n",
        "    history = model.fit(ds_train, validation_data=ds_val, epochs=epochs, callbacks=cb)\n",
        "    return history, model\n",
        "\n",
        "# Exemplo:\n",
        "# h_mlp, mlp_trained = train_model(mlp, ds_train, ds_val, seed=42, epochs=50, model_name=\"mlp\")\n"
      ]
    },
    {
      "cell_type": "code",
      "execution_count": 9,
      "metadata": {},
      "outputs": [
        {
          "name": "stdout",
          "output_type": "stream",
          "text": [
            "Epoch 1/50\n",
            "\u001b[1m350/352\u001b[0m \u001b[32m━━━━━━━━━━━━━━━━━━━\u001b[0m\u001b[37m━\u001b[0m \u001b[1m0s\u001b[0m 17ms/step - accuracy: 0.1588 - loss: 2.4082"
          ]
        },
        {
          "name": "stderr",
          "output_type": "stream",
          "text": [
            "WARNING:absl:You are saving your model as an HDF5 file via `model.save()` or `keras.saving.save_model(model)`. This file format is considered legacy. We recommend using instead the native Keras format, e.g. `model.save('my_model.keras')` or `keras.saving.save_model(model, 'my_model.keras')`. \n"
          ]
        },
        {
          "name": "stdout",
          "output_type": "stream",
          "text": [
            "\u001b[1m352/352\u001b[0m \u001b[32m━━━━━━━━━━━━━━━━━━━━\u001b[0m\u001b[37m\u001b[0m \u001b[1m7s\u001b[0m 18ms/step - accuracy: 0.1800 - loss: 2.2665 - val_accuracy: 0.2662 - val_loss: 2.0694 - learning_rate: 0.0010\n",
            "Epoch 2/50\n",
            "\u001b[1m350/352\u001b[0m \u001b[32m━━━━━━━━━━━━━━━━━━━\u001b[0m\u001b[37m━\u001b[0m \u001b[1m0s\u001b[0m 17ms/step - accuracy: 0.2065 - loss: 2.1532"
          ]
        },
        {
          "name": "stderr",
          "output_type": "stream",
          "text": [
            "WARNING:absl:You are saving your model as an HDF5 file via `model.save()` or `keras.saving.save_model(model)`. This file format is considered legacy. We recommend using instead the native Keras format, e.g. `model.save('my_model.keras')` or `keras.saving.save_model(model, 'my_model.keras')`. \n"
          ]
        },
        {
          "name": "stdout",
          "output_type": "stream",
          "text": [
            "\u001b[1m352/352\u001b[0m \u001b[32m━━━━━━━━━━━━━━━━━━━━\u001b[0m\u001b[37m\u001b[0m \u001b[1m7s\u001b[0m 19ms/step - accuracy: 0.2102 - loss: 2.1363 - val_accuracy: 0.2938 - val_loss: 2.0121 - learning_rate: 0.0010\n",
            "Epoch 3/50\n",
            "\u001b[1m350/352\u001b[0m \u001b[32m━━━━━━━━━━━━━━━━━━━\u001b[0m\u001b[37m━\u001b[0m \u001b[1m0s\u001b[0m 16ms/step - accuracy: 0.2197 - loss: 2.0966"
          ]
        },
        {
          "name": "stderr",
          "output_type": "stream",
          "text": [
            "WARNING:absl:You are saving your model as an HDF5 file via `model.save()` or `keras.saving.save_model(model)`. This file format is considered legacy. We recommend using instead the native Keras format, e.g. `model.save('my_model.keras')` or `keras.saving.save_model(model, 'my_model.keras')`. \n"
          ]
        },
        {
          "name": "stdout",
          "output_type": "stream",
          "text": [
            "\u001b[1m352/352\u001b[0m \u001b[32m━━━━━━━━━━━━━━━━━━━━\u001b[0m\u001b[37m\u001b[0m \u001b[1m6s\u001b[0m 18ms/step - accuracy: 0.2240 - loss: 2.0868 - val_accuracy: 0.2968 - val_loss: 2.0013 - learning_rate: 0.0010\n",
            "Epoch 4/50\n",
            "\u001b[1m350/352\u001b[0m \u001b[32m━━━━━━━━━━━━━━━━━━━\u001b[0m\u001b[37m━\u001b[0m \u001b[1m0s\u001b[0m 16ms/step - accuracy: 0.2375 - loss: 2.0576"
          ]
        },
        {
          "name": "stderr",
          "output_type": "stream",
          "text": [
            "WARNING:absl:You are saving your model as an HDF5 file via `model.save()` or `keras.saving.save_model(model)`. This file format is considered legacy. We recommend using instead the native Keras format, e.g. `model.save('my_model.keras')` or `keras.saving.save_model(model, 'my_model.keras')`. \n"
          ]
        },
        {
          "name": "stdout",
          "output_type": "stream",
          "text": [
            "\u001b[1m352/352\u001b[0m \u001b[32m━━━━━━━━━━━━━━━━━━━━\u001b[0m\u001b[37m\u001b[0m \u001b[1m6s\u001b[0m 18ms/step - accuracy: 0.2391 - loss: 2.0483 - val_accuracy: 0.3002 - val_loss: 1.9995 - learning_rate: 0.0010\n",
            "Epoch 5/50\n",
            "\u001b[1m351/352\u001b[0m \u001b[32m━━━━━━━━━━━━━━━━━━━\u001b[0m\u001b[37m━\u001b[0m \u001b[1m0s\u001b[0m 16ms/step - accuracy: 0.2391 - loss: 2.0394"
          ]
        },
        {
          "name": "stderr",
          "output_type": "stream",
          "text": [
            "WARNING:absl:You are saving your model as an HDF5 file via `model.save()` or `keras.saving.save_model(model)`. This file format is considered legacy. We recommend using instead the native Keras format, e.g. `model.save('my_model.keras')` or `keras.saving.save_model(model, 'my_model.keras')`. \n"
          ]
        },
        {
          "name": "stdout",
          "output_type": "stream",
          "text": [
            "\u001b[1m352/352\u001b[0m \u001b[32m━━━━━━━━━━━━━━━━━━━━\u001b[0m\u001b[37m\u001b[0m \u001b[1m6s\u001b[0m 18ms/step - accuracy: 0.2388 - loss: 2.0383 - val_accuracy: 0.3102 - val_loss: 1.9850 - learning_rate: 0.0010\n",
            "Epoch 6/50\n",
            "\u001b[1m351/352\u001b[0m \u001b[32m━━━━━━━━━━━━━━━━━━━\u001b[0m\u001b[37m━\u001b[0m \u001b[1m0s\u001b[0m 16ms/step - accuracy: 0.2462 - loss: 2.0172"
          ]
        },
        {
          "name": "stderr",
          "output_type": "stream",
          "text": [
            "WARNING:absl:You are saving your model as an HDF5 file via `model.save()` or `keras.saving.save_model(model)`. This file format is considered legacy. We recommend using instead the native Keras format, e.g. `model.save('my_model.keras')` or `keras.saving.save_model(model, 'my_model.keras')`. \n"
          ]
        },
        {
          "name": "stdout",
          "output_type": "stream",
          "text": [
            "\u001b[1m352/352\u001b[0m \u001b[32m━━━━━━━━━━━━━━━━━━━━\u001b[0m\u001b[37m\u001b[0m \u001b[1m6s\u001b[0m 18ms/step - accuracy: 0.2466 - loss: 2.0144 - val_accuracy: 0.3134 - val_loss: 1.9651 - learning_rate: 0.0010\n",
            "Epoch 7/50\n",
            "\u001b[1m352/352\u001b[0m \u001b[32m━━━━━━━━━━━━━━━━━━━━\u001b[0m\u001b[37m\u001b[0m \u001b[1m6s\u001b[0m 16ms/step - accuracy: 0.2532 - loss: 2.0013 - val_accuracy: 0.2844 - val_loss: 1.9697 - learning_rate: 0.0010\n",
            "Epoch 8/50\n",
            "\u001b[1m350/352\u001b[0m \u001b[32m━━━━━━━━━━━━━━━━━━━\u001b[0m\u001b[37m━\u001b[0m \u001b[1m0s\u001b[0m 16ms/step - accuracy: 0.2527 - loss: 2.0059"
          ]
        },
        {
          "name": "stderr",
          "output_type": "stream",
          "text": [
            "WARNING:absl:You are saving your model as an HDF5 file via `model.save()` or `keras.saving.save_model(model)`. This file format is considered legacy. We recommend using instead the native Keras format, e.g. `model.save('my_model.keras')` or `keras.saving.save_model(model, 'my_model.keras')`. \n"
          ]
        },
        {
          "name": "stdout",
          "output_type": "stream",
          "text": [
            "\u001b[1m352/352\u001b[0m \u001b[32m━━━━━━━━━━━━━━━━━━━━\u001b[0m\u001b[37m\u001b[0m \u001b[1m6s\u001b[0m 18ms/step - accuracy: 0.2557 - loss: 1.9967 - val_accuracy: 0.2894 - val_loss: 1.9580 - learning_rate: 0.0010\n",
            "Epoch 9/50\n",
            "\u001b[1m350/352\u001b[0m \u001b[32m━━━━━━━━━━━━━━━━━━━\u001b[0m\u001b[37m━\u001b[0m \u001b[1m0s\u001b[0m 16ms/step - accuracy: 0.2539 - loss: 1.9912"
          ]
        },
        {
          "name": "stderr",
          "output_type": "stream",
          "text": [
            "WARNING:absl:You are saving your model as an HDF5 file via `model.save()` or `keras.saving.save_model(model)`. This file format is considered legacy. We recommend using instead the native Keras format, e.g. `model.save('my_model.keras')` or `keras.saving.save_model(model, 'my_model.keras')`. \n"
          ]
        },
        {
          "name": "stdout",
          "output_type": "stream",
          "text": [
            "\u001b[1m352/352\u001b[0m \u001b[32m━━━━━━━━━━━━━━━━━━━━\u001b[0m\u001b[37m\u001b[0m \u001b[1m6s\u001b[0m 18ms/step - accuracy: 0.2555 - loss: 1.9895 - val_accuracy: 0.3202 - val_loss: 1.9533 - learning_rate: 0.0010\n",
            "Epoch 10/50\n",
            "\u001b[1m350/352\u001b[0m \u001b[32m━━━━━━━━━━━━━━━━━━━\u001b[0m\u001b[37m━\u001b[0m \u001b[1m0s\u001b[0m 16ms/step - accuracy: 0.2532 - loss: 1.9935"
          ]
        },
        {
          "name": "stderr",
          "output_type": "stream",
          "text": [
            "WARNING:absl:You are saving your model as an HDF5 file via `model.save()` or `keras.saving.save_model(model)`. This file format is considered legacy. We recommend using instead the native Keras format, e.g. `model.save('my_model.keras')` or `keras.saving.save_model(model, 'my_model.keras')`. \n"
          ]
        },
        {
          "name": "stdout",
          "output_type": "stream",
          "text": [
            "\u001b[1m352/352\u001b[0m \u001b[32m━━━━━━━━━━━━━━━━━━━━\u001b[0m\u001b[37m\u001b[0m \u001b[1m7s\u001b[0m 19ms/step - accuracy: 0.2578 - loss: 1.9889 - val_accuracy: 0.3290 - val_loss: 1.9348 - learning_rate: 0.0010\n",
            "Epoch 11/50\n",
            "\u001b[1m352/352\u001b[0m \u001b[32m━━━━━━━━━━━━━━━━━━━━\u001b[0m\u001b[37m\u001b[0m \u001b[1m6s\u001b[0m 16ms/step - accuracy: 0.2636 - loss: 1.9779 - val_accuracy: 0.3346 - val_loss: 1.9403 - learning_rate: 0.0010\n",
            "Epoch 12/50\n",
            "\u001b[1m352/352\u001b[0m \u001b[32m━━━━━━━━━━━━━━━━━━━━\u001b[0m\u001b[37m\u001b[0m \u001b[1m6s\u001b[0m 16ms/step - accuracy: 0.2638 - loss: 1.9760 - val_accuracy: 0.2974 - val_loss: 1.9552 - learning_rate: 0.0010\n",
            "Epoch 13/50\n",
            "\u001b[1m351/352\u001b[0m \u001b[32m━━━━━━━━━━━━━━━━━━━\u001b[0m\u001b[37m━\u001b[0m \u001b[1m0s\u001b[0m 16ms/step - accuracy: 0.2671 - loss: 1.9712"
          ]
        },
        {
          "name": "stderr",
          "output_type": "stream",
          "text": [
            "WARNING:absl:You are saving your model as an HDF5 file via `model.save()` or `keras.saving.save_model(model)`. This file format is considered legacy. We recommend using instead the native Keras format, e.g. `model.save('my_model.keras')` or `keras.saving.save_model(model, 'my_model.keras')`. \n"
          ]
        },
        {
          "name": "stdout",
          "output_type": "stream",
          "text": [
            "\u001b[1m352/352\u001b[0m \u001b[32m━━━━━━━━━━━━━━━━━━━━\u001b[0m\u001b[37m\u001b[0m \u001b[1m6s\u001b[0m 18ms/step - accuracy: 0.2685 - loss: 1.9685 - val_accuracy: 0.3364 - val_loss: 1.9228 - learning_rate: 0.0010\n",
            "Epoch 14/50\n",
            "\u001b[1m350/352\u001b[0m \u001b[32m━━━━━━━━━━━━━━━━━━━\u001b[0m\u001b[37m━\u001b[0m \u001b[1m0s\u001b[0m 16ms/step - accuracy: 0.2662 - loss: 1.9741"
          ]
        },
        {
          "name": "stderr",
          "output_type": "stream",
          "text": [
            "WARNING:absl:You are saving your model as an HDF5 file via `model.save()` or `keras.saving.save_model(model)`. This file format is considered legacy. We recommend using instead the native Keras format, e.g. `model.save('my_model.keras')` or `keras.saving.save_model(model, 'my_model.keras')`. \n"
          ]
        },
        {
          "name": "stdout",
          "output_type": "stream",
          "text": [
            "\u001b[1m352/352\u001b[0m \u001b[32m━━━━━━━━━━━━━━━━━━━━\u001b[0m\u001b[37m\u001b[0m \u001b[1m6s\u001b[0m 18ms/step - accuracy: 0.2712 - loss: 1.9703 - val_accuracy: 0.3482 - val_loss: 1.9170 - learning_rate: 0.0010\n",
            "Epoch 15/50\n",
            "\u001b[1m352/352\u001b[0m \u001b[32m━━━━━━━━━━━━━━━━━━━━\u001b[0m\u001b[37m\u001b[0m \u001b[1m6s\u001b[0m 16ms/step - accuracy: 0.2673 - loss: 1.9740 - val_accuracy: 0.3228 - val_loss: 1.9485 - learning_rate: 0.0010\n",
            "Epoch 16/50\n",
            "\u001b[1m352/352\u001b[0m \u001b[32m━━━━━━━━━━━━━━━━━━━━\u001b[0m\u001b[37m\u001b[0m \u001b[1m6s\u001b[0m 16ms/step - accuracy: 0.2713 - loss: 1.9667 - val_accuracy: 0.3290 - val_loss: 1.9216 - learning_rate: 0.0010\n",
            "Epoch 17/50\n",
            "\u001b[1m352/352\u001b[0m \u001b[32m━━━━━━━━━━━━━━━━━━━━\u001b[0m\u001b[37m\u001b[0m \u001b[1m0s\u001b[0m 16ms/step - accuracy: 0.2759 - loss: 1.9583"
          ]
        },
        {
          "name": "stderr",
          "output_type": "stream",
          "text": [
            "WARNING:absl:You are saving your model as an HDF5 file via `model.save()` or `keras.saving.save_model(model)`. This file format is considered legacy. We recommend using instead the native Keras format, e.g. `model.save('my_model.keras')` or `keras.saving.save_model(model, 'my_model.keras')`. \n"
          ]
        },
        {
          "name": "stdout",
          "output_type": "stream",
          "text": [
            "\u001b[1m352/352\u001b[0m \u001b[32m━━━━━━━━━━━━━━━━━━━━\u001b[0m\u001b[37m\u001b[0m \u001b[1m6s\u001b[0m 18ms/step - accuracy: 0.2743 - loss: 1.9653 - val_accuracy: 0.3360 - val_loss: 1.9138 - learning_rate: 0.0010\n",
            "Epoch 18/50\n",
            "\u001b[1m352/352\u001b[0m \u001b[32m━━━━━━━━━━━━━━━━━━━━\u001b[0m\u001b[37m\u001b[0m \u001b[1m6s\u001b[0m 18ms/step - accuracy: 0.2737 - loss: 1.9667 - val_accuracy: 0.3194 - val_loss: 1.9303 - learning_rate: 0.0010\n",
            "Epoch 19/50\n",
            "\u001b[1m352/352\u001b[0m \u001b[32m━━━━━━━━━━━━━━━━━━━━\u001b[0m\u001b[37m\u001b[0m \u001b[1m7s\u001b[0m 19ms/step - accuracy: 0.2731 - loss: 1.9703 - val_accuracy: 0.3344 - val_loss: 1.9313 - learning_rate: 0.0010\n",
            "Epoch 20/50\n",
            "\u001b[1m352/352\u001b[0m \u001b[32m━━━━━━━━━━━━━━━━━━━━\u001b[0m\u001b[37m\u001b[0m \u001b[1m6s\u001b[0m 17ms/step - accuracy: 0.2718 - loss: 1.9629 - val_accuracy: 0.3258 - val_loss: 1.9389 - learning_rate: 0.0010\n",
            "Epoch 21/50\n",
            "\u001b[1m352/352\u001b[0m \u001b[32m━━━━━━━━━━━━━━━━━━━━\u001b[0m\u001b[37m\u001b[0m \u001b[1m0s\u001b[0m 17ms/step - accuracy: 0.2797 - loss: 1.9496"
          ]
        },
        {
          "name": "stderr",
          "output_type": "stream",
          "text": [
            "WARNING:absl:You are saving your model as an HDF5 file via `model.save()` or `keras.saving.save_model(model)`. This file format is considered legacy. We recommend using instead the native Keras format, e.g. `model.save('my_model.keras')` or `keras.saving.save_model(model, 'my_model.keras')`. \n"
          ]
        },
        {
          "name": "stdout",
          "output_type": "stream",
          "text": [
            "\u001b[1m352/352\u001b[0m \u001b[32m━━━━━━━━━━━━━━━━━━━━\u001b[0m\u001b[37m\u001b[0m \u001b[1m7s\u001b[0m 19ms/step - accuracy: 0.2825 - loss: 1.9474 - val_accuracy: 0.3406 - val_loss: 1.9025 - learning_rate: 5.0000e-04\n",
            "Epoch 22/50\n",
            "\u001b[1m352/352\u001b[0m \u001b[32m━━━━━━━━━━━━━━━━━━━━\u001b[0m\u001b[37m\u001b[0m \u001b[1m6s\u001b[0m 17ms/step - accuracy: 0.2864 - loss: 1.9414 - val_accuracy: 0.3312 - val_loss: 1.9231 - learning_rate: 5.0000e-04\n",
            "Epoch 23/50\n",
            "\u001b[1m352/352\u001b[0m \u001b[32m━━━━━━━━━━━━━━━━━━━━\u001b[0m\u001b[37m\u001b[0m \u001b[1m6s\u001b[0m 17ms/step - accuracy: 0.2888 - loss: 1.9364 - val_accuracy: 0.3404 - val_loss: 1.9079 - learning_rate: 5.0000e-04\n",
            "Epoch 24/50\n",
            "\u001b[1m352/352\u001b[0m \u001b[32m━━━━━━━━━━━━━━━━━━━━\u001b[0m\u001b[37m\u001b[0m \u001b[1m6s\u001b[0m 17ms/step - accuracy: 0.2925 - loss: 1.9342 - val_accuracy: 0.3264 - val_loss: 1.9156 - learning_rate: 5.0000e-04\n",
            "Epoch 25/50\n",
            "\u001b[1m352/352\u001b[0m \u001b[32m━━━━━━━━━━━━━━━━━━━━\u001b[0m\u001b[37m\u001b[0m \u001b[1m7s\u001b[0m 18ms/step - accuracy: 0.2939 - loss: 1.9250 - val_accuracy: 0.3490 - val_loss: 1.9138 - learning_rate: 2.5000e-04\n",
            "Epoch 26/50\n",
            "\u001b[1m352/352\u001b[0m \u001b[32m━━━━━━━━━━━━━━━━━━━━\u001b[0m\u001b[37m\u001b[0m \u001b[1m6s\u001b[0m 18ms/step - accuracy: 0.2988 - loss: 1.9212 - val_accuracy: 0.3364 - val_loss: 1.9079 - learning_rate: 2.5000e-04\n",
            "Epoch 27/50\n",
            "\u001b[1m352/352\u001b[0m \u001b[32m━━━━━━━━━━━━━━━━━━━━\u001b[0m\u001b[37m\u001b[0m \u001b[1m6s\u001b[0m 17ms/step - accuracy: 0.2975 - loss: 1.9220 - val_accuracy: 0.3434 - val_loss: 1.9031 - learning_rate: 2.5000e-04\n",
            "\u001b[1m79/79\u001b[0m \u001b[32m━━━━━━━━━━━━━━━━━━━━\u001b[0m\u001b[37m\u001b[0m \u001b[1m0s\u001b[0m 3ms/step\n",
            "Epoch 1/50\n",
            "\u001b[1m351/352\u001b[0m \u001b[32m━━━━━━━━━━━━━━━━━━━\u001b[0m\u001b[37m━\u001b[0m \u001b[1m0s\u001b[0m 59ms/step - accuracy: 0.0997 - loss: 2.3062"
          ]
        },
        {
          "name": "stderr",
          "output_type": "stream",
          "text": [
            "WARNING:absl:You are saving your model as an HDF5 file via `model.save()` or `keras.saving.save_model(model)`. This file format is considered legacy. We recommend using instead the native Keras format, e.g. `model.save('my_model.keras')` or `keras.saving.save_model(model, 'my_model.keras')`. \n"
          ]
        },
        {
          "name": "stdout",
          "output_type": "stream",
          "text": [
            "\u001b[1m352/352\u001b[0m \u001b[32m━━━━━━━━━━━━━━━━━━━━\u001b[0m\u001b[37m\u001b[0m \u001b[1m23s\u001b[0m 61ms/step - accuracy: 0.0996 - loss: 2.3042 - val_accuracy: 0.1000 - val_loss: 2.3026 - learning_rate: 0.0010\n",
            "Epoch 2/50\n",
            "\u001b[1m351/352\u001b[0m \u001b[32m━━━━━━━━━━━━━━━━━━━\u001b[0m\u001b[37m━\u001b[0m \u001b[1m0s\u001b[0m 58ms/step - accuracy: 0.0987 - loss: 2.3027"
          ]
        },
        {
          "name": "stderr",
          "output_type": "stream",
          "text": [
            "WARNING:absl:You are saving your model as an HDF5 file via `model.save()` or `keras.saving.save_model(model)`. This file format is considered legacy. We recommend using instead the native Keras format, e.g. `model.save('my_model.keras')` or `keras.saving.save_model(model, 'my_model.keras')`. \n"
          ]
        },
        {
          "name": "stdout",
          "output_type": "stream",
          "text": [
            "\u001b[1m352/352\u001b[0m \u001b[32m━━━━━━━━━━━━━━━━━━━━\u001b[0m\u001b[37m\u001b[0m \u001b[1m21s\u001b[0m 60ms/step - accuracy: 0.0979 - loss: 2.3027 - val_accuracy: 0.1000 - val_loss: 2.3026 - learning_rate: 0.0010\n",
            "Epoch 3/50\n",
            "\u001b[1m351/352\u001b[0m \u001b[32m━━━━━━━━━━━━━━━━━━━\u001b[0m\u001b[37m━\u001b[0m \u001b[1m0s\u001b[0m 58ms/step - accuracy: 0.0961 - loss: 2.3027"
          ]
        },
        {
          "name": "stderr",
          "output_type": "stream",
          "text": [
            "WARNING:absl:You are saving your model as an HDF5 file via `model.save()` or `keras.saving.save_model(model)`. This file format is considered legacy. We recommend using instead the native Keras format, e.g. `model.save('my_model.keras')` or `keras.saving.save_model(model, 'my_model.keras')`. \n"
          ]
        },
        {
          "name": "stdout",
          "output_type": "stream",
          "text": [
            "\u001b[1m352/352\u001b[0m \u001b[32m━━━━━━━━━━━━━━━━━━━━\u001b[0m\u001b[37m\u001b[0m \u001b[1m21s\u001b[0m 60ms/step - accuracy: 0.0970 - loss: 2.3027 - val_accuracy: 0.1000 - val_loss: 2.3026 - learning_rate: 0.0010\n",
            "Epoch 4/50\n",
            "\u001b[1m351/352\u001b[0m \u001b[32m━━━━━━━━━━━━━━━━━━━\u001b[0m\u001b[37m━\u001b[0m \u001b[1m0s\u001b[0m 60ms/step - accuracy: 0.0995 - loss: 2.3027"
          ]
        },
        {
          "name": "stderr",
          "output_type": "stream",
          "text": [
            "WARNING:absl:You are saving your model as an HDF5 file via `model.save()` or `keras.saving.save_model(model)`. This file format is considered legacy. We recommend using instead the native Keras format, e.g. `model.save('my_model.keras')` or `keras.saving.save_model(model, 'my_model.keras')`. \n"
          ]
        },
        {
          "name": "stdout",
          "output_type": "stream",
          "text": [
            "\u001b[1m352/352\u001b[0m \u001b[32m━━━━━━━━━━━━━━━━━━━━\u001b[0m\u001b[37m\u001b[0m \u001b[1m22s\u001b[0m 62ms/step - accuracy: 0.0980 - loss: 2.3027 - val_accuracy: 0.1000 - val_loss: 2.3026 - learning_rate: 0.0010\n",
            "Epoch 5/50\n",
            "\u001b[1m351/352\u001b[0m \u001b[32m━━━━━━━━━━━━━━━━━━━\u001b[0m\u001b[37m━\u001b[0m \u001b[1m0s\u001b[0m 58ms/step - accuracy: 0.0977 - loss: 2.3027"
          ]
        },
        {
          "name": "stderr",
          "output_type": "stream",
          "text": [
            "WARNING:absl:You are saving your model as an HDF5 file via `model.save()` or `keras.saving.save_model(model)`. This file format is considered legacy. We recommend using instead the native Keras format, e.g. `model.save('my_model.keras')` or `keras.saving.save_model(model, 'my_model.keras')`. \n"
          ]
        },
        {
          "name": "stdout",
          "output_type": "stream",
          "text": [
            "\u001b[1m352/352\u001b[0m \u001b[32m━━━━━━━━━━━━━━━━━━━━\u001b[0m\u001b[37m\u001b[0m \u001b[1m21s\u001b[0m 60ms/step - accuracy: 0.0964 - loss: 2.3026 - val_accuracy: 0.1000 - val_loss: 2.3026 - learning_rate: 5.0000e-04\n",
            "Epoch 6/50\n",
            "\u001b[1m351/352\u001b[0m \u001b[32m━━━━━━━━━━━━━━━━━━━\u001b[0m\u001b[37m━\u001b[0m \u001b[1m0s\u001b[0m 58ms/step - accuracy: 0.0974 - loss: 2.3026"
          ]
        },
        {
          "name": "stderr",
          "output_type": "stream",
          "text": [
            "WARNING:absl:You are saving your model as an HDF5 file via `model.save()` or `keras.saving.save_model(model)`. This file format is considered legacy. We recommend using instead the native Keras format, e.g. `model.save('my_model.keras')` or `keras.saving.save_model(model, 'my_model.keras')`. \n"
          ]
        },
        {
          "name": "stdout",
          "output_type": "stream",
          "text": [
            "\u001b[1m352/352\u001b[0m \u001b[32m━━━━━━━━━━━━━━━━━━━━\u001b[0m\u001b[37m\u001b[0m \u001b[1m21s\u001b[0m 60ms/step - accuracy: 0.0950 - loss: 2.3026 - val_accuracy: 0.1000 - val_loss: 2.3026 - learning_rate: 5.0000e-04\n",
            "Epoch 7/50\n",
            "\u001b[1m352/352\u001b[0m \u001b[32m━━━━━━━━━━━━━━━━━━━━\u001b[0m\u001b[37m\u001b[0m \u001b[1m21s\u001b[0m 59ms/step - accuracy: 0.0944 - loss: 2.3026 - val_accuracy: 0.1000 - val_loss: 2.3026 - learning_rate: 5.0000e-04\n",
            "Epoch 8/50\n",
            "\u001b[1m351/352\u001b[0m \u001b[32m━━━━━━━━━━━━━━━━━━━\u001b[0m\u001b[37m━\u001b[0m \u001b[1m0s\u001b[0m 58ms/step - accuracy: 0.0987 - loss: 2.3026"
          ]
        },
        {
          "name": "stderr",
          "output_type": "stream",
          "text": [
            "WARNING:absl:You are saving your model as an HDF5 file via `model.save()` or `keras.saving.save_model(model)`. This file format is considered legacy. We recommend using instead the native Keras format, e.g. `model.save('my_model.keras')` or `keras.saving.save_model(model, 'my_model.keras')`. \n"
          ]
        },
        {
          "name": "stdout",
          "output_type": "stream",
          "text": [
            "\u001b[1m352/352\u001b[0m \u001b[32m━━━━━━━━━━━━━━━━━━━━\u001b[0m\u001b[37m\u001b[0m \u001b[1m21s\u001b[0m 59ms/step - accuracy: 0.0983 - loss: 2.3026 - val_accuracy: 0.1000 - val_loss: 2.3026 - learning_rate: 2.5000e-04\n",
            "Epoch 9/50\n",
            "\u001b[1m352/352\u001b[0m \u001b[32m━━━━━━━━━━━━━━━━━━━━\u001b[0m\u001b[37m\u001b[0m \u001b[1m21s\u001b[0m 59ms/step - accuracy: 0.0959 - loss: 2.3026 - val_accuracy: 0.1000 - val_loss: 2.3026 - learning_rate: 2.5000e-04\n",
            "Epoch 10/50\n",
            "\u001b[1m352/352\u001b[0m \u001b[32m━━━━━━━━━━━━━━━━━━━━\u001b[0m\u001b[37m\u001b[0m \u001b[1m21s\u001b[0m 59ms/step - accuracy: 0.0956 - loss: 2.3026 - val_accuracy: 0.1000 - val_loss: 2.3026 - learning_rate: 2.5000e-04\n",
            "Epoch 11/50\n",
            "\u001b[1m351/352\u001b[0m \u001b[32m━━━━━━━━━━━━━━━━━━━\u001b[0m\u001b[37m━\u001b[0m \u001b[1m0s\u001b[0m 58ms/step - accuracy: 0.0974 - loss: 2.3026"
          ]
        },
        {
          "name": "stderr",
          "output_type": "stream",
          "text": [
            "WARNING:absl:You are saving your model as an HDF5 file via `model.save()` or `keras.saving.save_model(model)`. This file format is considered legacy. We recommend using instead the native Keras format, e.g. `model.save('my_model.keras')` or `keras.saving.save_model(model, 'my_model.keras')`. \n"
          ]
        },
        {
          "name": "stdout",
          "output_type": "stream",
          "text": [
            "\u001b[1m352/352\u001b[0m \u001b[32m━━━━━━━━━━━━━━━━━━━━\u001b[0m\u001b[37m\u001b[0m \u001b[1m21s\u001b[0m 59ms/step - accuracy: 0.0968 - loss: 2.3026 - val_accuracy: 0.1000 - val_loss: 2.3026 - learning_rate: 1.2500e-04\n",
            "Epoch 12/50\n",
            "\u001b[1m351/352\u001b[0m \u001b[32m━━━━━━━━━━━━━━━━━━━\u001b[0m\u001b[37m━\u001b[0m \u001b[1m0s\u001b[0m 58ms/step - accuracy: 0.0971 - loss: 2.3026"
          ]
        },
        {
          "name": "stderr",
          "output_type": "stream",
          "text": [
            "WARNING:absl:You are saving your model as an HDF5 file via `model.save()` or `keras.saving.save_model(model)`. This file format is considered legacy. We recommend using instead the native Keras format, e.g. `model.save('my_model.keras')` or `keras.saving.save_model(model, 'my_model.keras')`. \n"
          ]
        },
        {
          "name": "stdout",
          "output_type": "stream",
          "text": [
            "\u001b[1m352/352\u001b[0m \u001b[32m━━━━━━━━━━━━━━━━━━━━\u001b[0m\u001b[37m\u001b[0m \u001b[1m21s\u001b[0m 59ms/step - accuracy: 0.0958 - loss: 2.3026 - val_accuracy: 0.1000 - val_loss: 2.3026 - learning_rate: 1.2500e-04\n",
            "Epoch 13/50\n",
            "\u001b[1m352/352\u001b[0m \u001b[32m━━━━━━━━━━━━━━━━━━━━\u001b[0m\u001b[37m\u001b[0m \u001b[1m21s\u001b[0m 59ms/step - accuracy: 0.0957 - loss: 2.3026 - val_accuracy: 0.1000 - val_loss: 2.3026 - learning_rate: 1.2500e-04\n",
            "Epoch 14/50\n",
            "\u001b[1m352/352\u001b[0m \u001b[32m━━━━━━━━━━━━━━━━━━━━\u001b[0m\u001b[37m\u001b[0m \u001b[1m21s\u001b[0m 59ms/step - accuracy: 0.0991 - loss: 2.3026 - val_accuracy: 0.1000 - val_loss: 2.3026 - learning_rate: 6.2500e-05\n",
            "Epoch 15/50\n",
            "\u001b[1m352/352\u001b[0m \u001b[32m━━━━━━━━━━━━━━━━━━━━\u001b[0m\u001b[37m\u001b[0m \u001b[1m21s\u001b[0m 59ms/step - accuracy: 0.0978 - loss: 2.3026 - val_accuracy: 0.1000 - val_loss: 2.3026 - learning_rate: 6.2500e-05\n",
            "Epoch 16/50\n",
            "\u001b[1m352/352\u001b[0m \u001b[32m━━━━━━━━━━━━━━━━━━━━\u001b[0m\u001b[37m\u001b[0m \u001b[1m21s\u001b[0m 60ms/step - accuracy: 0.0974 - loss: 2.3026 - val_accuracy: 0.1000 - val_loss: 2.3026 - learning_rate: 6.2500e-05\n",
            "Epoch 17/50\n",
            "\u001b[1m352/352\u001b[0m \u001b[32m━━━━━━━━━━━━━━━━━━━━\u001b[0m\u001b[37m\u001b[0m \u001b[1m21s\u001b[0m 60ms/step - accuracy: 0.0981 - loss: 2.3026 - val_accuracy: 0.1000 - val_loss: 2.3026 - learning_rate: 3.1250e-05\n",
            "Epoch 18/50\n",
            "\u001b[1m352/352\u001b[0m \u001b[32m━━━━━━━━━━━━━━━━━━━━\u001b[0m\u001b[37m\u001b[0m \u001b[1m22s\u001b[0m 64ms/step - accuracy: 0.0988 - loss: 2.3026 - val_accuracy: 0.1000 - val_loss: 2.3026 - learning_rate: 3.1250e-05\n",
            "\u001b[1m79/79\u001b[0m \u001b[32m━━━━━━━━━━━━━━━━━━━━\u001b[0m\u001b[37m\u001b[0m \u001b[1m1s\u001b[0m 15ms/step\n",
            "Epoch 1/50\n",
            "\u001b[1m351/352\u001b[0m \u001b[32m━━━━━━━━━━━━━━━━━━━\u001b[0m\u001b[37m━\u001b[0m \u001b[1m0s\u001b[0m 17ms/step - accuracy: 0.1463 - loss: 2.4399"
          ]
        },
        {
          "name": "stderr",
          "output_type": "stream",
          "text": [
            "WARNING:absl:You are saving your model as an HDF5 file via `model.save()` or `keras.saving.save_model(model)`. This file format is considered legacy. We recommend using instead the native Keras format, e.g. `model.save('my_model.keras')` or `keras.saving.save_model(model, 'my_model.keras')`. \n"
          ]
        },
        {
          "name": "stdout",
          "output_type": "stream",
          "text": [
            "\u001b[1m352/352\u001b[0m \u001b[32m━━━━━━━━━━━━━━━━━━━━\u001b[0m\u001b[37m\u001b[0m \u001b[1m7s\u001b[0m 18ms/step - accuracy: 0.1646 - loss: 2.2939 - val_accuracy: 0.2552 - val_loss: 2.1029 - learning_rate: 0.0010\n",
            "Epoch 2/50\n",
            "\u001b[1m351/352\u001b[0m \u001b[32m━━━━━━━━━━━━━━━━━━━\u001b[0m\u001b[37m━\u001b[0m \u001b[1m0s\u001b[0m 17ms/step - accuracy: 0.1895 - loss: 2.1802"
          ]
        },
        {
          "name": "stderr",
          "output_type": "stream",
          "text": [
            "WARNING:absl:You are saving your model as an HDF5 file via `model.save()` or `keras.saving.save_model(model)`. This file format is considered legacy. We recommend using instead the native Keras format, e.g. `model.save('my_model.keras')` or `keras.saving.save_model(model, 'my_model.keras')`. \n"
          ]
        },
        {
          "name": "stdout",
          "output_type": "stream",
          "text": [
            "\u001b[1m352/352\u001b[0m \u001b[32m━━━━━━━━━━━━━━━━━━━━\u001b[0m\u001b[37m\u001b[0m \u001b[1m7s\u001b[0m 19ms/step - accuracy: 0.1914 - loss: 2.1713 - val_accuracy: 0.2870 - val_loss: 2.0249 - learning_rate: 0.0010\n",
            "Epoch 3/50\n",
            "\u001b[1m352/352\u001b[0m \u001b[32m━━━━━━━━━━━━━━━━━━━━\u001b[0m\u001b[37m\u001b[0m \u001b[1m6s\u001b[0m 17ms/step - accuracy: 0.2026 - loss: 2.1188 - val_accuracy: 0.2630 - val_loss: 2.0649 - learning_rate: 0.0010\n",
            "Epoch 4/50\n",
            "\u001b[1m352/352\u001b[0m \u001b[32m━━━━━━━━━━━━━━━━━━━━\u001b[0m\u001b[37m\u001b[0m \u001b[1m0s\u001b[0m 16ms/step - accuracy: 0.2058 - loss: 2.1051"
          ]
        },
        {
          "name": "stderr",
          "output_type": "stream",
          "text": [
            "WARNING:absl:You are saving your model as an HDF5 file via `model.save()` or `keras.saving.save_model(model)`. This file format is considered legacy. We recommend using instead the native Keras format, e.g. `model.save('my_model.keras')` or `keras.saving.save_model(model, 'my_model.keras')`. \n"
          ]
        },
        {
          "name": "stdout",
          "output_type": "stream",
          "text": [
            "\u001b[1m352/352\u001b[0m \u001b[32m━━━━━━━━━━━━━━━━━━━━\u001b[0m\u001b[37m\u001b[0m \u001b[1m7s\u001b[0m 18ms/step - accuracy: 0.2079 - loss: 2.0974 - val_accuracy: 0.2672 - val_loss: 2.0132 - learning_rate: 0.0010\n",
            "Epoch 5/50\n",
            "\u001b[1m351/352\u001b[0m \u001b[32m━━━━━━━━━━━━━━━━━━━\u001b[0m\u001b[37m━\u001b[0m \u001b[1m0s\u001b[0m 18ms/step - accuracy: 0.2120 - loss: 2.0814"
          ]
        },
        {
          "name": "stderr",
          "output_type": "stream",
          "text": [
            "WARNING:absl:You are saving your model as an HDF5 file via `model.save()` or `keras.saving.save_model(model)`. This file format is considered legacy. We recommend using instead the native Keras format, e.g. `model.save('my_model.keras')` or `keras.saving.save_model(model, 'my_model.keras')`. \n"
          ]
        },
        {
          "name": "stdout",
          "output_type": "stream",
          "text": [
            "\u001b[1m352/352\u001b[0m \u001b[32m━━━━━━━━━━━━━━━━━━━━\u001b[0m\u001b[37m\u001b[0m \u001b[1m7s\u001b[0m 20ms/step - accuracy: 0.2116 - loss: 2.0788 - val_accuracy: 0.2814 - val_loss: 1.9849 - learning_rate: 0.0010\n",
            "Epoch 6/50\n",
            "\u001b[1m352/352\u001b[0m \u001b[32m━━━━━━━━━━━━━━━━━━━━\u001b[0m\u001b[37m\u001b[0m \u001b[1m0s\u001b[0m 16ms/step - accuracy: 0.2151 - loss: 2.0739"
          ]
        },
        {
          "name": "stderr",
          "output_type": "stream",
          "text": [
            "WARNING:absl:You are saving your model as an HDF5 file via `model.save()` or `keras.saving.save_model(model)`. This file format is considered legacy. We recommend using instead the native Keras format, e.g. `model.save('my_model.keras')` or `keras.saving.save_model(model, 'my_model.keras')`. \n"
          ]
        },
        {
          "name": "stdout",
          "output_type": "stream",
          "text": [
            "\u001b[1m352/352\u001b[0m \u001b[32m━━━━━━━━━━━━━━━━━━━━\u001b[0m\u001b[37m\u001b[0m \u001b[1m7s\u001b[0m 19ms/step - accuracy: 0.2166 - loss: 2.0693 - val_accuracy: 0.3078 - val_loss: 1.9732 - learning_rate: 0.0010\n",
            "Epoch 7/50\n",
            "\u001b[1m352/352\u001b[0m \u001b[32m━━━━━━━━━━━━━━━━━━━━\u001b[0m\u001b[37m\u001b[0m \u001b[1m7s\u001b[0m 19ms/step - accuracy: 0.2169 - loss: 2.0632 - val_accuracy: 0.2812 - val_loss: 1.9780 - learning_rate: 0.0010\n",
            "Epoch 8/50\n",
            "\u001b[1m352/352\u001b[0m \u001b[32m━━━━━━━━━━━━━━━━━━━━\u001b[0m\u001b[37m\u001b[0m \u001b[1m6s\u001b[0m 18ms/step - accuracy: 0.2216 - loss: 2.0547 - val_accuracy: 0.2800 - val_loss: 1.9945 - learning_rate: 0.0010\n",
            "Epoch 9/50\n",
            "\u001b[1m352/352\u001b[0m \u001b[32m━━━━━━━━━━━━━━━━━━━━\u001b[0m\u001b[37m\u001b[0m \u001b[1m6s\u001b[0m 17ms/step - accuracy: 0.2248 - loss: 2.0531 - val_accuracy: 0.2442 - val_loss: 2.0111 - learning_rate: 0.0010\n",
            "Epoch 10/50\n",
            "\u001b[1m352/352\u001b[0m \u001b[32m━━━━━━━━━━━━━━━━━━━━\u001b[0m\u001b[37m\u001b[0m \u001b[1m6s\u001b[0m 17ms/step - accuracy: 0.2314 - loss: 2.0367 - val_accuracy: 0.2814 - val_loss: 1.9939 - learning_rate: 5.0000e-04\n",
            "Epoch 11/50\n",
            "\u001b[1m352/352\u001b[0m \u001b[32m━━━━━━━━━━━━━━━━━━━━\u001b[0m\u001b[37m\u001b[0m \u001b[1m6s\u001b[0m 17ms/step - accuracy: 0.2330 - loss: 2.0335 - val_accuracy: 0.2814 - val_loss: 1.9858 - learning_rate: 5.0000e-04\n",
            "Epoch 12/50\n",
            "\u001b[1m352/352\u001b[0m \u001b[32m━━━━━━━━━━━━━━━━━━━━\u001b[0m\u001b[37m\u001b[0m \u001b[1m6s\u001b[0m 17ms/step - accuracy: 0.2368 - loss: 2.0272 - val_accuracy: 0.2620 - val_loss: 2.0135 - learning_rate: 5.0000e-04\n",
            "\u001b[1m79/79\u001b[0m \u001b[32m━━━━━━━━━━━━━━━━━━━━\u001b[0m\u001b[37m\u001b[0m \u001b[1m0s\u001b[0m 4ms/step\n",
            "Epoch 1/50\n",
            "\u001b[1m351/352\u001b[0m \u001b[32m━━━━━━━━━━━━━━━━━━━\u001b[0m\u001b[37m━\u001b[0m \u001b[1m0s\u001b[0m 60ms/step - accuracy: 0.0971 - loss: 2.3066"
          ]
        },
        {
          "name": "stderr",
          "output_type": "stream",
          "text": [
            "WARNING:absl:You are saving your model as an HDF5 file via `model.save()` or `keras.saving.save_model(model)`. This file format is considered legacy. We recommend using instead the native Keras format, e.g. `model.save('my_model.keras')` or `keras.saving.save_model(model, 'my_model.keras')`. \n"
          ]
        },
        {
          "name": "stdout",
          "output_type": "stream",
          "text": [
            "\u001b[1m352/352\u001b[0m \u001b[32m━━━━━━━━━━━━━━━━━━━━\u001b[0m\u001b[37m\u001b[0m \u001b[1m23s\u001b[0m 62ms/step - accuracy: 0.0987 - loss: 2.3045 - val_accuracy: 0.1000 - val_loss: 2.3028 - learning_rate: 0.0010\n",
            "Epoch 2/50\n",
            "\u001b[1m351/352\u001b[0m \u001b[32m━━━━━━━━━━━━━━━━━━━\u001b[0m\u001b[37m━\u001b[0m \u001b[1m0s\u001b[0m 61ms/step - accuracy: 0.0986 - loss: 2.3028"
          ]
        },
        {
          "name": "stderr",
          "output_type": "stream",
          "text": [
            "WARNING:absl:You are saving your model as an HDF5 file via `model.save()` or `keras.saving.save_model(model)`. This file format is considered legacy. We recommend using instead the native Keras format, e.g. `model.save('my_model.keras')` or `keras.saving.save_model(model, 'my_model.keras')`. \n"
          ]
        },
        {
          "name": "stdout",
          "output_type": "stream",
          "text": [
            "\u001b[1m352/352\u001b[0m \u001b[32m━━━━━━━━━━━━━━━━━━━━\u001b[0m\u001b[37m\u001b[0m \u001b[1m22s\u001b[0m 62ms/step - accuracy: 0.0974 - loss: 2.3028 - val_accuracy: 0.1000 - val_loss: 2.3026 - learning_rate: 0.0010\n",
            "Epoch 3/50\n",
            "\u001b[1m351/352\u001b[0m \u001b[32m━━━━━━━━━━━━━━━━━━━\u001b[0m\u001b[37m━\u001b[0m \u001b[1m0s\u001b[0m 59ms/step - accuracy: 0.0981 - loss: 2.3027"
          ]
        },
        {
          "name": "stderr",
          "output_type": "stream",
          "text": [
            "WARNING:absl:You are saving your model as an HDF5 file via `model.save()` or `keras.saving.save_model(model)`. This file format is considered legacy. We recommend using instead the native Keras format, e.g. `model.save('my_model.keras')` or `keras.saving.save_model(model, 'my_model.keras')`. \n"
          ]
        },
        {
          "name": "stdout",
          "output_type": "stream",
          "text": [
            "\u001b[1m352/352\u001b[0m \u001b[32m━━━━━━━━━━━━━━━━━━━━\u001b[0m\u001b[37m\u001b[0m \u001b[1m21s\u001b[0m 61ms/step - accuracy: 0.0986 - loss: 2.3027 - val_accuracy: 0.1000 - val_loss: 2.3026 - learning_rate: 0.0010\n",
            "Epoch 4/50\n",
            "\u001b[1m352/352\u001b[0m \u001b[32m━━━━━━━━━━━━━━━━━━━━\u001b[0m\u001b[37m\u001b[0m \u001b[1m22s\u001b[0m 61ms/step - accuracy: 0.0968 - loss: 2.3028 - val_accuracy: 0.1000 - val_loss: 2.3026 - learning_rate: 0.0010\n",
            "Epoch 5/50\n",
            "\u001b[1m351/352\u001b[0m \u001b[32m━━━━━━━━━━━━━━━━━━━\u001b[0m\u001b[37m━\u001b[0m \u001b[1m0s\u001b[0m 58ms/step - accuracy: 0.0990 - loss: 2.3027"
          ]
        },
        {
          "name": "stderr",
          "output_type": "stream",
          "text": [
            "WARNING:absl:You are saving your model as an HDF5 file via `model.save()` or `keras.saving.save_model(model)`. This file format is considered legacy. We recommend using instead the native Keras format, e.g. `model.save('my_model.keras')` or `keras.saving.save_model(model, 'my_model.keras')`. \n"
          ]
        },
        {
          "name": "stdout",
          "output_type": "stream",
          "text": [
            "\u001b[1m352/352\u001b[0m \u001b[32m━━━━━━━━━━━━━━━━━━━━\u001b[0m\u001b[37m\u001b[0m \u001b[1m21s\u001b[0m 59ms/step - accuracy: 0.0983 - loss: 2.3027 - val_accuracy: 0.1000 - val_loss: 2.3026 - learning_rate: 0.0010\n",
            "Epoch 6/50\n",
            "\u001b[1m351/352\u001b[0m \u001b[32m━━━━━━━━━━━━━━━━━━━\u001b[0m\u001b[37m━\u001b[0m \u001b[1m0s\u001b[0m 57ms/step - accuracy: 0.0997 - loss: 2.3027"
          ]
        },
        {
          "name": "stderr",
          "output_type": "stream",
          "text": [
            "WARNING:absl:You are saving your model as an HDF5 file via `model.save()` or `keras.saving.save_model(model)`. This file format is considered legacy. We recommend using instead the native Keras format, e.g. `model.save('my_model.keras')` or `keras.saving.save_model(model, 'my_model.keras')`. \n"
          ]
        },
        {
          "name": "stdout",
          "output_type": "stream",
          "text": [
            "\u001b[1m352/352\u001b[0m \u001b[32m━━━━━━━━━━━━━━━━━━━━\u001b[0m\u001b[37m\u001b[0m \u001b[1m21s\u001b[0m 59ms/step - accuracy: 0.0986 - loss: 2.3027 - val_accuracy: 0.1000 - val_loss: 2.3026 - learning_rate: 5.0000e-04\n",
            "Epoch 7/50\n",
            "\u001b[1m351/352\u001b[0m \u001b[32m━━━━━━━━━━━━━━━━━━━\u001b[0m\u001b[37m━\u001b[0m \u001b[1m0s\u001b[0m 57ms/step - accuracy: 0.0988 - loss: 2.3027"
          ]
        },
        {
          "name": "stderr",
          "output_type": "stream",
          "text": [
            "WARNING:absl:You are saving your model as an HDF5 file via `model.save()` or `keras.saving.save_model(model)`. This file format is considered legacy. We recommend using instead the native Keras format, e.g. `model.save('my_model.keras')` or `keras.saving.save_model(model, 'my_model.keras')`. \n"
          ]
        },
        {
          "name": "stdout",
          "output_type": "stream",
          "text": [
            "\u001b[1m352/352\u001b[0m \u001b[32m━━━━━━━━━━━━━━━━━━━━\u001b[0m\u001b[37m\u001b[0m \u001b[1m21s\u001b[0m 59ms/step - accuracy: 0.0985 - loss: 2.3027 - val_accuracy: 0.1000 - val_loss: 2.3026 - learning_rate: 5.0000e-04\n",
            "Epoch 8/50\n",
            "\u001b[1m352/352\u001b[0m \u001b[32m━━━━━━━━━━━━━━━━━━━━\u001b[0m\u001b[37m\u001b[0m \u001b[1m21s\u001b[0m 59ms/step - accuracy: 0.0982 - loss: 2.3026 - val_accuracy: 0.1000 - val_loss: 2.3026 - learning_rate: 5.0000e-04\n",
            "Epoch 9/50\n",
            "\u001b[1m351/352\u001b[0m \u001b[32m━━━━━━━━━━━━━━━━━━━\u001b[0m\u001b[37m━\u001b[0m \u001b[1m0s\u001b[0m 59ms/step - accuracy: 0.0998 - loss: 2.3026"
          ]
        },
        {
          "name": "stderr",
          "output_type": "stream",
          "text": [
            "WARNING:absl:You are saving your model as an HDF5 file via `model.save()` or `keras.saving.save_model(model)`. This file format is considered legacy. We recommend using instead the native Keras format, e.g. `model.save('my_model.keras')` or `keras.saving.save_model(model, 'my_model.keras')`. \n"
          ]
        },
        {
          "name": "stdout",
          "output_type": "stream",
          "text": [
            "\u001b[1m352/352\u001b[0m \u001b[32m━━━━━━━━━━━━━━━━━━━━\u001b[0m\u001b[37m\u001b[0m \u001b[1m21s\u001b[0m 60ms/step - accuracy: 0.1008 - loss: 2.3026 - val_accuracy: 0.1000 - val_loss: 2.3026 - learning_rate: 2.5000e-04\n",
            "Epoch 10/50\n",
            "\u001b[1m351/352\u001b[0m \u001b[32m━━━━━━━━━━━━━━━━━━━\u001b[0m\u001b[37m━\u001b[0m \u001b[1m0s\u001b[0m 59ms/step - accuracy: 0.0981 - loss: 2.3026"
          ]
        },
        {
          "name": "stderr",
          "output_type": "stream",
          "text": [
            "WARNING:absl:You are saving your model as an HDF5 file via `model.save()` or `keras.saving.save_model(model)`. This file format is considered legacy. We recommend using instead the native Keras format, e.g. `model.save('my_model.keras')` or `keras.saving.save_model(model, 'my_model.keras')`. \n"
          ]
        },
        {
          "name": "stdout",
          "output_type": "stream",
          "text": [
            "\u001b[1m352/352\u001b[0m \u001b[32m━━━━━━━━━━━━━━━━━━━━\u001b[0m\u001b[37m\u001b[0m \u001b[1m21s\u001b[0m 61ms/step - accuracy: 0.0990 - loss: 2.3026 - val_accuracy: 0.1000 - val_loss: 2.3026 - learning_rate: 2.5000e-04\n",
            "Epoch 11/50\n",
            "\u001b[1m351/352\u001b[0m \u001b[32m━━━━━━━━━━━━━━━━━━━\u001b[0m\u001b[37m━\u001b[0m \u001b[1m0s\u001b[0m 61ms/step - accuracy: 0.0984 - loss: 2.3026"
          ]
        },
        {
          "name": "stderr",
          "output_type": "stream",
          "text": [
            "WARNING:absl:You are saving your model as an HDF5 file via `model.save()` or `keras.saving.save_model(model)`. This file format is considered legacy. We recommend using instead the native Keras format, e.g. `model.save('my_model.keras')` or `keras.saving.save_model(model, 'my_model.keras')`. \n"
          ]
        },
        {
          "name": "stdout",
          "output_type": "stream",
          "text": [
            "\u001b[1m352/352\u001b[0m \u001b[32m━━━━━━━━━━━━━━━━━━━━\u001b[0m\u001b[37m\u001b[0m \u001b[1m22s\u001b[0m 63ms/step - accuracy: 0.0978 - loss: 2.3026 - val_accuracy: 0.1000 - val_loss: 2.3026 - learning_rate: 2.5000e-04\n",
            "Epoch 12/50\n",
            "\u001b[1m351/352\u001b[0m \u001b[32m━━━━━━━━━━━━━━━━━━━\u001b[0m\u001b[37m━\u001b[0m \u001b[1m0s\u001b[0m 62ms/step - accuracy: 0.0978 - loss: 2.3026"
          ]
        },
        {
          "name": "stderr",
          "output_type": "stream",
          "text": [
            "WARNING:absl:You are saving your model as an HDF5 file via `model.save()` or `keras.saving.save_model(model)`. This file format is considered legacy. We recommend using instead the native Keras format, e.g. `model.save('my_model.keras')` or `keras.saving.save_model(model, 'my_model.keras')`. \n"
          ]
        },
        {
          "name": "stdout",
          "output_type": "stream",
          "text": [
            "\u001b[1m352/352\u001b[0m \u001b[32m━━━━━━━━━━━━━━━━━━━━\u001b[0m\u001b[37m\u001b[0m \u001b[1m23s\u001b[0m 64ms/step - accuracy: 0.0995 - loss: 2.3026 - val_accuracy: 0.1000 - val_loss: 2.3026 - learning_rate: 1.2500e-04\n",
            "Epoch 13/50\n",
            "\u001b[1m352/352\u001b[0m \u001b[32m━━━━━━━━━━━━━━━━━━━━\u001b[0m\u001b[37m\u001b[0m \u001b[1m21s\u001b[0m 60ms/step - accuracy: 0.0992 - loss: 2.3026 - val_accuracy: 0.1000 - val_loss: 2.3026 - learning_rate: 1.2500e-04\n",
            "Epoch 14/50\n",
            "\u001b[1m351/352\u001b[0m \u001b[32m━━━━━━━━━━━━━━━━━━━\u001b[0m\u001b[37m━\u001b[0m \u001b[1m0s\u001b[0m 58ms/step - accuracy: 0.0996 - loss: 2.3026"
          ]
        },
        {
          "name": "stderr",
          "output_type": "stream",
          "text": [
            "WARNING:absl:You are saving your model as an HDF5 file via `model.save()` or `keras.saving.save_model(model)`. This file format is considered legacy. We recommend using instead the native Keras format, e.g. `model.save('my_model.keras')` or `keras.saving.save_model(model, 'my_model.keras')`. \n"
          ]
        },
        {
          "name": "stdout",
          "output_type": "stream",
          "text": [
            "\u001b[1m352/352\u001b[0m \u001b[32m━━━━━━━━━━━━━━━━━━━━\u001b[0m\u001b[37m\u001b[0m \u001b[1m21s\u001b[0m 59ms/step - accuracy: 0.0995 - loss: 2.3026 - val_accuracy: 0.1000 - val_loss: 2.3026 - learning_rate: 1.2500e-04\n",
            "Epoch 15/50\n",
            "\u001b[1m351/352\u001b[0m \u001b[32m━━━━━━━━━━━━━━━━━━━\u001b[0m\u001b[37m━\u001b[0m \u001b[1m0s\u001b[0m 57ms/step - accuracy: 0.1022 - loss: 2.3026"
          ]
        },
        {
          "name": "stderr",
          "output_type": "stream",
          "text": [
            "WARNING:absl:You are saving your model as an HDF5 file via `model.save()` or `keras.saving.save_model(model)`. This file format is considered legacy. We recommend using instead the native Keras format, e.g. `model.save('my_model.keras')` or `keras.saving.save_model(model, 'my_model.keras')`. \n"
          ]
        },
        {
          "name": "stdout",
          "output_type": "stream",
          "text": [
            "\u001b[1m352/352\u001b[0m \u001b[32m━━━━━━━━━━━━━━━━━━━━\u001b[0m\u001b[37m\u001b[0m \u001b[1m21s\u001b[0m 59ms/step - accuracy: 0.1002 - loss: 2.3026 - val_accuracy: 0.1000 - val_loss: 2.3026 - learning_rate: 6.2500e-05\n",
            "Epoch 16/50\n",
            "\u001b[1m352/352\u001b[0m \u001b[32m━━━━━━━━━━━━━━━━━━━━\u001b[0m\u001b[37m\u001b[0m \u001b[1m21s\u001b[0m 59ms/step - accuracy: 0.0981 - loss: 2.3026 - val_accuracy: 0.1000 - val_loss: 2.3026 - learning_rate: 6.2500e-05\n",
            "Epoch 17/50\n",
            "\u001b[1m352/352\u001b[0m \u001b[32m━━━━━━━━━━━━━━━━━━━━\u001b[0m\u001b[37m\u001b[0m \u001b[1m21s\u001b[0m 59ms/step - accuracy: 0.0980 - loss: 2.3026 - val_accuracy: 0.1000 - val_loss: 2.3026 - learning_rate: 6.2500e-05\n",
            "Epoch 18/50\n",
            "\u001b[1m352/352\u001b[0m \u001b[32m━━━━━━━━━━━━━━━━━━━━\u001b[0m\u001b[37m\u001b[0m \u001b[1m22s\u001b[0m 62ms/step - accuracy: 0.1016 - loss: 2.3026 - val_accuracy: 0.1000 - val_loss: 2.3026 - learning_rate: 3.1250e-05\n",
            "Epoch 19/50\n",
            "\u001b[1m352/352\u001b[0m \u001b[32m━━━━━━━━━━━━━━━━━━━━\u001b[0m\u001b[37m\u001b[0m \u001b[1m22s\u001b[0m 63ms/step - accuracy: 0.0992 - loss: 2.3026 - val_accuracy: 0.1000 - val_loss: 2.3026 - learning_rate: 3.1250e-05\n",
            "Epoch 20/50\n",
            "\u001b[1m352/352\u001b[0m \u001b[32m━━━━━━━━━━━━━━━━━━━━\u001b[0m\u001b[37m\u001b[0m \u001b[1m22s\u001b[0m 63ms/step - accuracy: 0.0999 - loss: 2.3026 - val_accuracy: 0.1000 - val_loss: 2.3026 - learning_rate: 3.1250e-05\n",
            "Epoch 21/50\n",
            "\u001b[1m352/352\u001b[0m \u001b[32m━━━━━━━━━━━━━━━━━━━━\u001b[0m\u001b[37m\u001b[0m \u001b[1m21s\u001b[0m 60ms/step - accuracy: 0.0999 - loss: 2.3026 - val_accuracy: 0.1000 - val_loss: 2.3026 - learning_rate: 1.5625e-05\n",
            "\u001b[1m79/79\u001b[0m \u001b[32m━━━━━━━━━━━━━━━━━━━━\u001b[0m\u001b[37m\u001b[0m \u001b[1m1s\u001b[0m 14ms/step\n",
            "Epoch 1/50\n",
            "\u001b[1m351/352\u001b[0m \u001b[32m━━━━━━━━━━━━━━━━━━━\u001b[0m\u001b[37m━\u001b[0m \u001b[1m0s\u001b[0m 16ms/step - accuracy: 0.1525 - loss: 2.4215"
          ]
        },
        {
          "name": "stderr",
          "output_type": "stream",
          "text": [
            "WARNING:absl:You are saving your model as an HDF5 file via `model.save()` or `keras.saving.save_model(model)`. This file format is considered legacy. We recommend using instead the native Keras format, e.g. `model.save('my_model.keras')` or `keras.saving.save_model(model, 'my_model.keras')`. \n"
          ]
        },
        {
          "name": "stdout",
          "output_type": "stream",
          "text": [
            "\u001b[1m352/352\u001b[0m \u001b[32m━━━━━━━━━━━━━━━━━━━━\u001b[0m\u001b[37m\u001b[0m \u001b[1m7s\u001b[0m 17ms/step - accuracy: 0.1746 - loss: 2.2748 - val_accuracy: 0.2318 - val_loss: 2.0897 - learning_rate: 0.0010\n",
            "Epoch 2/50\n",
            "\u001b[1m352/352\u001b[0m \u001b[32m━━━━━━━━━━━━━━━━━━━━\u001b[0m\u001b[37m\u001b[0m \u001b[1m0s\u001b[0m 16ms/step - accuracy: 0.2007 - loss: 2.1654"
          ]
        },
        {
          "name": "stderr",
          "output_type": "stream",
          "text": [
            "WARNING:absl:You are saving your model as an HDF5 file via `model.save()` or `keras.saving.save_model(model)`. This file format is considered legacy. We recommend using instead the native Keras format, e.g. `model.save('my_model.keras')` or `keras.saving.save_model(model, 'my_model.keras')`. \n"
          ]
        },
        {
          "name": "stdout",
          "output_type": "stream",
          "text": [
            "\u001b[1m352/352\u001b[0m \u001b[32m━━━━━━━━━━━━━━━━━━━━\u001b[0m\u001b[37m\u001b[0m \u001b[1m6s\u001b[0m 18ms/step - accuracy: 0.2047 - loss: 2.1471 - val_accuracy: 0.2902 - val_loss: 2.0266 - learning_rate: 0.0010\n",
            "Epoch 3/50\n",
            "\u001b[1m349/352\u001b[0m \u001b[32m━━━━━━━━━━━━━━━━━━━\u001b[0m\u001b[37m━\u001b[0m \u001b[1m0s\u001b[0m 16ms/step - accuracy: 0.2145 - loss: 2.1119"
          ]
        },
        {
          "name": "stderr",
          "output_type": "stream",
          "text": [
            "WARNING:absl:You are saving your model as an HDF5 file via `model.save()` or `keras.saving.save_model(model)`. This file format is considered legacy. We recommend using instead the native Keras format, e.g. `model.save('my_model.keras')` or `keras.saving.save_model(model, 'my_model.keras')`. \n"
          ]
        },
        {
          "name": "stdout",
          "output_type": "stream",
          "text": [
            "\u001b[1m352/352\u001b[0m \u001b[32m━━━━━━━━━━━━━━━━━━━━\u001b[0m\u001b[37m\u001b[0m \u001b[1m6s\u001b[0m 18ms/step - accuracy: 0.2153 - loss: 2.1000 - val_accuracy: 0.2874 - val_loss: 2.0124 - learning_rate: 0.0010\n",
            "Epoch 4/50\n",
            "\u001b[1m351/352\u001b[0m \u001b[32m━━━━━━━━━━━━━━━━━━━\u001b[0m\u001b[37m━\u001b[0m \u001b[1m0s\u001b[0m 16ms/step - accuracy: 0.2219 - loss: 2.0763"
          ]
        },
        {
          "name": "stderr",
          "output_type": "stream",
          "text": [
            "WARNING:absl:You are saving your model as an HDF5 file via `model.save()` or `keras.saving.save_model(model)`. This file format is considered legacy. We recommend using instead the native Keras format, e.g. `model.save('my_model.keras')` or `keras.saving.save_model(model, 'my_model.keras')`. \n"
          ]
        },
        {
          "name": "stdout",
          "output_type": "stream",
          "text": [
            "\u001b[1m352/352\u001b[0m \u001b[32m━━━━━━━━━━━━━━━━━━━━\u001b[0m\u001b[37m\u001b[0m \u001b[1m6s\u001b[0m 18ms/step - accuracy: 0.2214 - loss: 2.0725 - val_accuracy: 0.2920 - val_loss: 1.9941 - learning_rate: 0.0010\n",
            "Epoch 5/50\n",
            "\u001b[1m352/352\u001b[0m \u001b[32m━━━━━━━━━━━━━━━━━━━━\u001b[0m\u001b[37m\u001b[0m \u001b[1m0s\u001b[0m 16ms/step - accuracy: 0.2217 - loss: 2.0686"
          ]
        },
        {
          "name": "stderr",
          "output_type": "stream",
          "text": [
            "WARNING:absl:You are saving your model as an HDF5 file via `model.save()` or `keras.saving.save_model(model)`. This file format is considered legacy. We recommend using instead the native Keras format, e.g. `model.save('my_model.keras')` or `keras.saving.save_model(model, 'my_model.keras')`. \n"
          ]
        },
        {
          "name": "stdout",
          "output_type": "stream",
          "text": [
            "\u001b[1m352/352\u001b[0m \u001b[32m━━━━━━━━━━━━━━━━━━━━\u001b[0m\u001b[37m\u001b[0m \u001b[1m8s\u001b[0m 22ms/step - accuracy: 0.2215 - loss: 2.0626 - val_accuracy: 0.2778 - val_loss: 1.9929 - learning_rate: 0.0010\n",
            "Epoch 6/50\n",
            "\u001b[1m352/352\u001b[0m \u001b[32m━━━━━━━━━━━━━━━━━━━━\u001b[0m\u001b[37m\u001b[0m \u001b[1m0s\u001b[0m 16ms/step - accuracy: 0.2295 - loss: 2.0497"
          ]
        },
        {
          "name": "stderr",
          "output_type": "stream",
          "text": [
            "WARNING:absl:You are saving your model as an HDF5 file via `model.save()` or `keras.saving.save_model(model)`. This file format is considered legacy. We recommend using instead the native Keras format, e.g. `model.save('my_model.keras')` or `keras.saving.save_model(model, 'my_model.keras')`. \n"
          ]
        },
        {
          "name": "stdout",
          "output_type": "stream",
          "text": [
            "\u001b[1m352/352\u001b[0m \u001b[32m━━━━━━━━━━━━━━━━━━━━\u001b[0m\u001b[37m\u001b[0m \u001b[1m6s\u001b[0m 18ms/step - accuracy: 0.2296 - loss: 2.0448 - val_accuracy: 0.2778 - val_loss: 1.9793 - learning_rate: 0.0010\n",
            "Epoch 7/50\n",
            "\u001b[1m352/352\u001b[0m \u001b[32m━━━━━━━━━━━━━━━━━━━━\u001b[0m\u001b[37m\u001b[0m \u001b[1m7s\u001b[0m 19ms/step - accuracy: 0.2303 - loss: 2.0368 - val_accuracy: 0.2944 - val_loss: 1.9854 - learning_rate: 0.0010\n",
            "Epoch 8/50\n",
            "\u001b[1m352/352\u001b[0m \u001b[32m━━━━━━━━━━━━━━━━━━━━\u001b[0m\u001b[37m\u001b[0m \u001b[1m6s\u001b[0m 18ms/step - accuracy: 0.2359 - loss: 2.0272 - val_accuracy: 0.2702 - val_loss: 1.9964 - learning_rate: 0.0010\n",
            "Epoch 9/50\n",
            "\u001b[1m352/352\u001b[0m \u001b[32m━━━━━━━━━━━━━━━━━━━━\u001b[0m\u001b[37m\u001b[0m \u001b[1m6s\u001b[0m 17ms/step - accuracy: 0.2408 - loss: 2.0182 - val_accuracy: 0.3134 - val_loss: 1.9808 - learning_rate: 0.0010\n",
            "Epoch 10/50\n",
            "\u001b[1m352/352\u001b[0m \u001b[32m━━━━━━━━━━━━━━━━━━━━\u001b[0m\u001b[37m\u001b[0m \u001b[1m0s\u001b[0m 17ms/step - accuracy: 0.2453 - loss: 2.0085"
          ]
        },
        {
          "name": "stderr",
          "output_type": "stream",
          "text": [
            "WARNING:absl:You are saving your model as an HDF5 file via `model.save()` or `keras.saving.save_model(model)`. This file format is considered legacy. We recommend using instead the native Keras format, e.g. `model.save('my_model.keras')` or `keras.saving.save_model(model, 'my_model.keras')`. \n"
          ]
        },
        {
          "name": "stdout",
          "output_type": "stream",
          "text": [
            "\u001b[1m352/352\u001b[0m \u001b[32m━━━━━━━━━━━━━━━━━━━━\u001b[0m\u001b[37m\u001b[0m \u001b[1m7s\u001b[0m 19ms/step - accuracy: 0.2485 - loss: 2.0013 - val_accuracy: 0.2912 - val_loss: 1.9683 - learning_rate: 5.0000e-04\n",
            "Epoch 11/50\n",
            "\u001b[1m352/352\u001b[0m \u001b[32m━━━━━━━━━━━━━━━━━━━━\u001b[0m\u001b[37m\u001b[0m \u001b[1m7s\u001b[0m 19ms/step - accuracy: 0.2504 - loss: 2.0011 - val_accuracy: 0.2850 - val_loss: 1.9691 - learning_rate: 5.0000e-04\n",
            "Epoch 12/50\n",
            "\u001b[1m350/352\u001b[0m \u001b[32m━━━━━━━━━━━━━━━━━━━\u001b[0m\u001b[37m━\u001b[0m \u001b[1m0s\u001b[0m 17ms/step - accuracy: 0.2516 - loss: 1.9961"
          ]
        },
        {
          "name": "stderr",
          "output_type": "stream",
          "text": [
            "WARNING:absl:You are saving your model as an HDF5 file via `model.save()` or `keras.saving.save_model(model)`. This file format is considered legacy. We recommend using instead the native Keras format, e.g. `model.save('my_model.keras')` or `keras.saving.save_model(model, 'my_model.keras')`. \n"
          ]
        },
        {
          "name": "stdout",
          "output_type": "stream",
          "text": [
            "\u001b[1m352/352\u001b[0m \u001b[32m━━━━━━━━━━━━━━━━━━━━\u001b[0m\u001b[37m\u001b[0m \u001b[1m7s\u001b[0m 19ms/step - accuracy: 0.2538 - loss: 1.9953 - val_accuracy: 0.2966 - val_loss: 1.9677 - learning_rate: 5.0000e-04\n",
            "Epoch 13/50\n",
            "\u001b[1m351/352\u001b[0m \u001b[32m━━━━━━━━━━━━━━━━━━━\u001b[0m\u001b[37m━\u001b[0m \u001b[1m0s\u001b[0m 17ms/step - accuracy: 0.2571 - loss: 1.9900"
          ]
        },
        {
          "name": "stderr",
          "output_type": "stream",
          "text": [
            "WARNING:absl:You are saving your model as an HDF5 file via `model.save()` or `keras.saving.save_model(model)`. This file format is considered legacy. We recommend using instead the native Keras format, e.g. `model.save('my_model.keras')` or `keras.saving.save_model(model, 'my_model.keras')`. \n"
          ]
        },
        {
          "name": "stdout",
          "output_type": "stream",
          "text": [
            "\u001b[1m352/352\u001b[0m \u001b[32m━━━━━━━━━━━━━━━━━━━━\u001b[0m\u001b[37m\u001b[0m \u001b[1m7s\u001b[0m 19ms/step - accuracy: 0.2546 - loss: 1.9908 - val_accuracy: 0.2936 - val_loss: 1.9635 - learning_rate: 5.0000e-04\n",
            "Epoch 14/50\n",
            "\u001b[1m352/352\u001b[0m \u001b[32m━━━━━━━━━━━━━━━━━━━━\u001b[0m\u001b[37m\u001b[0m \u001b[1m0s\u001b[0m 17ms/step - accuracy: 0.2545 - loss: 1.9896"
          ]
        },
        {
          "name": "stderr",
          "output_type": "stream",
          "text": [
            "WARNING:absl:You are saving your model as an HDF5 file via `model.save()` or `keras.saving.save_model(model)`. This file format is considered legacy. We recommend using instead the native Keras format, e.g. `model.save('my_model.keras')` or `keras.saving.save_model(model, 'my_model.keras')`. \n"
          ]
        },
        {
          "name": "stdout",
          "output_type": "stream",
          "text": [
            "\u001b[1m352/352\u001b[0m \u001b[32m━━━━━━━━━━━━━━━━━━━━\u001b[0m\u001b[37m\u001b[0m \u001b[1m7s\u001b[0m 18ms/step - accuracy: 0.2516 - loss: 1.9912 - val_accuracy: 0.3054 - val_loss: 1.9587 - learning_rate: 5.0000e-04\n",
            "Epoch 15/50\n",
            "\u001b[1m351/352\u001b[0m \u001b[32m━━━━━━━━━━━━━━━━━━━\u001b[0m\u001b[37m━\u001b[0m \u001b[1m0s\u001b[0m 17ms/step - accuracy: 0.2514 - loss: 1.9987"
          ]
        },
        {
          "name": "stderr",
          "output_type": "stream",
          "text": [
            "WARNING:absl:You are saving your model as an HDF5 file via `model.save()` or `keras.saving.save_model(model)`. This file format is considered legacy. We recommend using instead the native Keras format, e.g. `model.save('my_model.keras')` or `keras.saving.save_model(model, 'my_model.keras')`. \n"
          ]
        },
        {
          "name": "stdout",
          "output_type": "stream",
          "text": [
            "\u001b[1m352/352\u001b[0m \u001b[32m━━━━━━━━━━━━━━━━━━━━\u001b[0m\u001b[37m\u001b[0m \u001b[1m7s\u001b[0m 18ms/step - accuracy: 0.2558 - loss: 1.9908 - val_accuracy: 0.3182 - val_loss: 1.9544 - learning_rate: 5.0000e-04\n",
            "Epoch 16/50\n",
            "\u001b[1m352/352\u001b[0m \u001b[32m━━━━━━━━━━━━━━━━━━━━\u001b[0m\u001b[37m\u001b[0m \u001b[1m7s\u001b[0m 19ms/step - accuracy: 0.2586 - loss: 1.9875 - val_accuracy: 0.3008 - val_loss: 1.9723 - learning_rate: 5.0000e-04\n",
            "Epoch 17/50\n",
            "\u001b[1m352/352\u001b[0m \u001b[32m━━━━━━━━━━━━━━━━━━━━\u001b[0m\u001b[37m\u001b[0m \u001b[1m6s\u001b[0m 17ms/step - accuracy: 0.2586 - loss: 1.9870 - val_accuracy: 0.2870 - val_loss: 1.9782 - learning_rate: 5.0000e-04\n",
            "Epoch 18/50\n",
            "\u001b[1m352/352\u001b[0m \u001b[32m━━━━━━━━━━━━━━━━━━━━\u001b[0m\u001b[37m\u001b[0m \u001b[1m6s\u001b[0m 17ms/step - accuracy: 0.2596 - loss: 1.9853 - val_accuracy: 0.2934 - val_loss: 1.9779 - learning_rate: 5.0000e-04\n",
            "Epoch 19/50\n",
            "\u001b[1m352/352\u001b[0m \u001b[32m━━━━━━━━━━━━━━━━━━━━\u001b[0m\u001b[37m\u001b[0m \u001b[1m6s\u001b[0m 17ms/step - accuracy: 0.2607 - loss: 1.9773 - val_accuracy: 0.3044 - val_loss: 1.9650 - learning_rate: 2.5000e-04\n",
            "Epoch 20/50\n",
            "\u001b[1m352/352\u001b[0m \u001b[32m━━━━━━━━━━━━━━━━━━━━\u001b[0m\u001b[37m\u001b[0m \u001b[1m6s\u001b[0m 17ms/step - accuracy: 0.2621 - loss: 1.9766 - val_accuracy: 0.3096 - val_loss: 1.9604 - learning_rate: 2.5000e-04\n",
            "Epoch 21/50\n",
            "\u001b[1m352/352\u001b[0m \u001b[32m━━━━━━━━━━━━━━━━━━━━\u001b[0m\u001b[37m\u001b[0m \u001b[1m7s\u001b[0m 19ms/step - accuracy: 0.2668 - loss: 1.9730 - val_accuracy: 0.2934 - val_loss: 1.9729 - learning_rate: 2.5000e-04\n",
            "\u001b[1m79/79\u001b[0m \u001b[32m━━━━━━━━━━━━━━━━━━━━\u001b[0m\u001b[37m\u001b[0m \u001b[1m0s\u001b[0m 4ms/step\n",
            "Epoch 1/50\n",
            "\u001b[1m351/352\u001b[0m \u001b[32m━━━━━━━━━━━━━━━━━━━\u001b[0m\u001b[37m━\u001b[0m \u001b[1m0s\u001b[0m 60ms/step - accuracy: 0.0990 - loss: 2.3064"
          ]
        },
        {
          "name": "stderr",
          "output_type": "stream",
          "text": [
            "WARNING:absl:You are saving your model as an HDF5 file via `model.save()` or `keras.saving.save_model(model)`. This file format is considered legacy. We recommend using instead the native Keras format, e.g. `model.save('my_model.keras')` or `keras.saving.save_model(model, 'my_model.keras')`. \n"
          ]
        },
        {
          "name": "stdout",
          "output_type": "stream",
          "text": [
            "\u001b[1m352/352\u001b[0m \u001b[32m━━━━━━━━━━━━━━━━━━━━\u001b[0m\u001b[37m\u001b[0m \u001b[1m23s\u001b[0m 62ms/step - accuracy: 0.0969 - loss: 2.3044 - val_accuracy: 0.1000 - val_loss: 2.3027 - learning_rate: 0.0010\n",
            "Epoch 2/50\n",
            "\u001b[1m351/352\u001b[0m \u001b[32m━━━━━━━━━━━━━━━━━━━\u001b[0m\u001b[37m━\u001b[0m \u001b[1m0s\u001b[0m 58ms/step - accuracy: 0.0968 - loss: 2.3028"
          ]
        },
        {
          "name": "stderr",
          "output_type": "stream",
          "text": [
            "WARNING:absl:You are saving your model as an HDF5 file via `model.save()` or `keras.saving.save_model(model)`. This file format is considered legacy. We recommend using instead the native Keras format, e.g. `model.save('my_model.keras')` or `keras.saving.save_model(model, 'my_model.keras')`. \n"
          ]
        },
        {
          "name": "stdout",
          "output_type": "stream",
          "text": [
            "\u001b[1m352/352\u001b[0m \u001b[32m━━━━━━━━━━━━━━━━━━━━\u001b[0m\u001b[37m\u001b[0m \u001b[1m21s\u001b[0m 59ms/step - accuracy: 0.0972 - loss: 2.3028 - val_accuracy: 0.1000 - val_loss: 2.3026 - learning_rate: 0.0010\n",
            "Epoch 3/50\n",
            "\u001b[1m351/352\u001b[0m \u001b[32m━━━━━━━━━━━━━━━━━━━\u001b[0m\u001b[37m━\u001b[0m \u001b[1m0s\u001b[0m 58ms/step - accuracy: 0.0941 - loss: 2.3028"
          ]
        },
        {
          "name": "stderr",
          "output_type": "stream",
          "text": [
            "WARNING:absl:You are saving your model as an HDF5 file via `model.save()` or `keras.saving.save_model(model)`. This file format is considered legacy. We recommend using instead the native Keras format, e.g. `model.save('my_model.keras')` or `keras.saving.save_model(model, 'my_model.keras')`. \n"
          ]
        },
        {
          "name": "stdout",
          "output_type": "stream",
          "text": [
            "\u001b[1m352/352\u001b[0m \u001b[32m━━━━━━━━━━━━━━━━━━━━\u001b[0m\u001b[37m\u001b[0m \u001b[1m21s\u001b[0m 59ms/step - accuracy: 0.0952 - loss: 2.3027 - val_accuracy: 0.1000 - val_loss: 2.3026 - learning_rate: 0.0010\n",
            "Epoch 4/50\n",
            "\u001b[1m351/352\u001b[0m \u001b[32m━━━━━━━━━━━━━━━━━━━\u001b[0m\u001b[37m━\u001b[0m \u001b[1m0s\u001b[0m 58ms/step - accuracy: 0.0967 - loss: 2.3027"
          ]
        },
        {
          "name": "stderr",
          "output_type": "stream",
          "text": [
            "WARNING:absl:You are saving your model as an HDF5 file via `model.save()` or `keras.saving.save_model(model)`. This file format is considered legacy. We recommend using instead the native Keras format, e.g. `model.save('my_model.keras')` or `keras.saving.save_model(model, 'my_model.keras')`. \n"
          ]
        },
        {
          "name": "stdout",
          "output_type": "stream",
          "text": [
            "\u001b[1m352/352\u001b[0m \u001b[32m━━━━━━━━━━━━━━━━━━━━\u001b[0m\u001b[37m\u001b[0m \u001b[1m21s\u001b[0m 59ms/step - accuracy: 0.0967 - loss: 2.3027 - val_accuracy: 0.1000 - val_loss: 2.3026 - learning_rate: 0.0010\n",
            "Epoch 5/50\n",
            "\u001b[1m352/352\u001b[0m \u001b[32m━━━━━━━━━━━━━━━━━━━━\u001b[0m\u001b[37m\u001b[0m \u001b[1m22s\u001b[0m 61ms/step - accuracy: 0.0985 - loss: 2.3027 - val_accuracy: 0.1000 - val_loss: 2.3026 - learning_rate: 0.0010\n",
            "Epoch 6/50\n",
            "\u001b[1m351/352\u001b[0m \u001b[32m━━━━━━━━━━━━━━━━━━━\u001b[0m\u001b[37m━\u001b[0m \u001b[1m0s\u001b[0m 60ms/step - accuracy: 0.0970 - loss: 2.3027"
          ]
        },
        {
          "name": "stderr",
          "output_type": "stream",
          "text": [
            "WARNING:absl:You are saving your model as an HDF5 file via `model.save()` or `keras.saving.save_model(model)`. This file format is considered legacy. We recommend using instead the native Keras format, e.g. `model.save('my_model.keras')` or `keras.saving.save_model(model, 'my_model.keras')`. \n"
          ]
        },
        {
          "name": "stdout",
          "output_type": "stream",
          "text": [
            "\u001b[1m352/352\u001b[0m \u001b[32m━━━━━━━━━━━━━━━━━━━━\u001b[0m\u001b[37m\u001b[0m \u001b[1m22s\u001b[0m 62ms/step - accuracy: 0.0971 - loss: 2.3027 - val_accuracy: 0.1000 - val_loss: 2.3026 - learning_rate: 5.0000e-04\n",
            "Epoch 7/50\n",
            "\u001b[1m351/352\u001b[0m \u001b[32m━━━━━━━━━━━━━━━━━━━\u001b[0m\u001b[37m━\u001b[0m \u001b[1m0s\u001b[0m 60ms/step - accuracy: 0.0960 - loss: 2.3026"
          ]
        },
        {
          "name": "stderr",
          "output_type": "stream",
          "text": [
            "WARNING:absl:You are saving your model as an HDF5 file via `model.save()` or `keras.saving.save_model(model)`. This file format is considered legacy. We recommend using instead the native Keras format, e.g. `model.save('my_model.keras')` or `keras.saving.save_model(model, 'my_model.keras')`. \n"
          ]
        },
        {
          "name": "stdout",
          "output_type": "stream",
          "text": [
            "\u001b[1m352/352\u001b[0m \u001b[32m━━━━━━━━━━━━━━━━━━━━\u001b[0m\u001b[37m\u001b[0m \u001b[1m22s\u001b[0m 61ms/step - accuracy: 0.0958 - loss: 2.3027 - val_accuracy: 0.1000 - val_loss: 2.3026 - learning_rate: 5.0000e-04\n",
            "Epoch 8/50\n",
            "\u001b[1m352/352\u001b[0m \u001b[32m━━━━━━━━━━━━━━━━━━━━\u001b[0m\u001b[37m\u001b[0m \u001b[1m22s\u001b[0m 61ms/step - accuracy: 0.0953 - loss: 2.3026 - val_accuracy: 0.1000 - val_loss: 2.3026 - learning_rate: 5.0000e-04\n",
            "Epoch 9/50\n",
            "\u001b[1m351/352\u001b[0m \u001b[32m━━━━━━━━━━━━━━━━━━━\u001b[0m\u001b[37m━\u001b[0m \u001b[1m0s\u001b[0m 60ms/step - accuracy: 0.0984 - loss: 2.3026"
          ]
        },
        {
          "name": "stderr",
          "output_type": "stream",
          "text": [
            "WARNING:absl:You are saving your model as an HDF5 file via `model.save()` or `keras.saving.save_model(model)`. This file format is considered legacy. We recommend using instead the native Keras format, e.g. `model.save('my_model.keras')` or `keras.saving.save_model(model, 'my_model.keras')`. \n"
          ]
        },
        {
          "name": "stdout",
          "output_type": "stream",
          "text": [
            "\u001b[1m352/352\u001b[0m \u001b[32m━━━━━━━━━━━━━━━━━━━━\u001b[0m\u001b[37m\u001b[0m \u001b[1m22s\u001b[0m 62ms/step - accuracy: 0.0989 - loss: 2.3026 - val_accuracy: 0.1000 - val_loss: 2.3026 - learning_rate: 2.5000e-04\n",
            "Epoch 10/50\n",
            "\u001b[1m351/352\u001b[0m \u001b[32m━━━━━━━━━━━━━━━━━━━\u001b[0m\u001b[37m━\u001b[0m \u001b[1m0s\u001b[0m 59ms/step - accuracy: 0.0996 - loss: 2.3026"
          ]
        },
        {
          "name": "stderr",
          "output_type": "stream",
          "text": [
            "WARNING:absl:You are saving your model as an HDF5 file via `model.save()` or `keras.saving.save_model(model)`. This file format is considered legacy. We recommend using instead the native Keras format, e.g. `model.save('my_model.keras')` or `keras.saving.save_model(model, 'my_model.keras')`. \n"
          ]
        },
        {
          "name": "stdout",
          "output_type": "stream",
          "text": [
            "\u001b[1m352/352\u001b[0m \u001b[32m━━━━━━━━━━━━━━━━━━━━\u001b[0m\u001b[37m\u001b[0m \u001b[1m21s\u001b[0m 60ms/step - accuracy: 0.0992 - loss: 2.3026 - val_accuracy: 0.1000 - val_loss: 2.3026 - learning_rate: 2.5000e-04\n",
            "Epoch 11/50\n",
            "\u001b[1m352/352\u001b[0m \u001b[32m━━━━━━━━━━━━━━━━━━━━\u001b[0m\u001b[37m\u001b[0m \u001b[1m21s\u001b[0m 60ms/step - accuracy: 0.0984 - loss: 2.3026 - val_accuracy: 0.1000 - val_loss: 2.3026 - learning_rate: 2.5000e-04\n",
            "Epoch 12/50\n",
            "\u001b[1m352/352\u001b[0m \u001b[32m━━━━━━━━━━━━━━━━━━━━\u001b[0m\u001b[37m\u001b[0m \u001b[1m21s\u001b[0m 60ms/step - accuracy: 0.0985 - loss: 2.3026 - val_accuracy: 0.1000 - val_loss: 2.3026 - learning_rate: 1.2500e-04\n",
            "Epoch 13/50\n",
            "\u001b[1m352/352\u001b[0m \u001b[32m━━━━━━━━━━━━━━━━━━━━\u001b[0m\u001b[37m\u001b[0m \u001b[1m22s\u001b[0m 62ms/step - accuracy: 0.0988 - loss: 2.3026 - val_accuracy: 0.1000 - val_loss: 2.3026 - learning_rate: 1.2500e-04\n",
            "Epoch 14/50\n",
            "\u001b[1m352/352\u001b[0m \u001b[32m━━━━━━━━━━━━━━━━━━━━\u001b[0m\u001b[37m\u001b[0m \u001b[1m22s\u001b[0m 61ms/step - accuracy: 0.0990 - loss: 2.3026 - val_accuracy: 0.1000 - val_loss: 2.3026 - learning_rate: 1.2500e-04\n",
            "Epoch 15/50\n",
            "\u001b[1m351/352\u001b[0m \u001b[32m━━━━━━━━━━━━━━━━━━━\u001b[0m\u001b[37m━\u001b[0m \u001b[1m0s\u001b[0m 59ms/step - accuracy: 0.1001 - loss: 2.3026"
          ]
        },
        {
          "name": "stderr",
          "output_type": "stream",
          "text": [
            "WARNING:absl:You are saving your model as an HDF5 file via `model.save()` or `keras.saving.save_model(model)`. This file format is considered legacy. We recommend using instead the native Keras format, e.g. `model.save('my_model.keras')` or `keras.saving.save_model(model, 'my_model.keras')`. \n"
          ]
        },
        {
          "name": "stdout",
          "output_type": "stream",
          "text": [
            "\u001b[1m352/352\u001b[0m \u001b[32m━━━━━━━━━━━━━━━━━━━━\u001b[0m\u001b[37m\u001b[0m \u001b[1m21s\u001b[0m 61ms/step - accuracy: 0.0994 - loss: 2.3026 - val_accuracy: 0.1000 - val_loss: 2.3026 - learning_rate: 6.2500e-05\n",
            "Epoch 16/50\n",
            "\u001b[1m351/352\u001b[0m \u001b[32m━━━━━━━━━━━━━━━━━━━\u001b[0m\u001b[37m━\u001b[0m \u001b[1m0s\u001b[0m 65ms/step - accuracy: 0.0992 - loss: 2.3026"
          ]
        },
        {
          "name": "stderr",
          "output_type": "stream",
          "text": [
            "WARNING:absl:You are saving your model as an HDF5 file via `model.save()` or `keras.saving.save_model(model)`. This file format is considered legacy. We recommend using instead the native Keras format, e.g. `model.save('my_model.keras')` or `keras.saving.save_model(model, 'my_model.keras')`. \n"
          ]
        },
        {
          "name": "stdout",
          "output_type": "stream",
          "text": [
            "\u001b[1m352/352\u001b[0m \u001b[32m━━━━━━━━━━━━━━━━━━━━\u001b[0m\u001b[37m\u001b[0m \u001b[1m25s\u001b[0m 72ms/step - accuracy: 0.0994 - loss: 2.3026 - val_accuracy: 0.1000 - val_loss: 2.3026 - learning_rate: 6.2500e-05\n",
            "Epoch 17/50\n",
            "\u001b[1m352/352\u001b[0m \u001b[32m━━━━━━━━━━━━━━━━━━━━\u001b[0m\u001b[37m\u001b[0m \u001b[1m23s\u001b[0m 66ms/step - accuracy: 0.0991 - loss: 2.3026 - val_accuracy: 0.1000 - val_loss: 2.3026 - learning_rate: 6.2500e-05\n",
            "Epoch 18/50\n",
            "\u001b[1m352/352\u001b[0m \u001b[32m━━━━━━━━━━━━━━━━━━━━\u001b[0m\u001b[37m\u001b[0m \u001b[1m23s\u001b[0m 64ms/step - accuracy: 0.1000 - loss: 2.3026 - val_accuracy: 0.1000 - val_loss: 2.3026 - learning_rate: 3.1250e-05\n",
            "Epoch 19/50\n",
            "\u001b[1m352/352\u001b[0m \u001b[32m━━━━━━━━━━━━━━━━━━━━\u001b[0m\u001b[37m\u001b[0m \u001b[1m23s\u001b[0m 64ms/step - accuracy: 0.1000 - loss: 2.3026 - val_accuracy: 0.1000 - val_loss: 2.3026 - learning_rate: 3.1250e-05\n",
            "Epoch 20/50\n",
            "\u001b[1m352/352\u001b[0m \u001b[32m━━━━━━━━━━━━━━━━━━━━\u001b[0m\u001b[37m\u001b[0m \u001b[1m23s\u001b[0m 64ms/step - accuracy: 0.1000 - loss: 2.3026 - val_accuracy: 0.1000 - val_loss: 2.3026 - learning_rate: 3.1250e-05\n",
            "Epoch 21/50\n",
            "\u001b[1m352/352\u001b[0m \u001b[32m━━━━━━━━━━━━━━━━━━━━\u001b[0m\u001b[37m\u001b[0m \u001b[1m23s\u001b[0m 64ms/step - accuracy: 0.1000 - loss: 2.3026 - val_accuracy: 0.1000 - val_loss: 2.3026 - learning_rate: 1.5625e-05\n",
            "Epoch 22/50\n",
            "\u001b[1m352/352\u001b[0m \u001b[32m━━━━━━━━━━━━━━━━━━━━\u001b[0m\u001b[37m\u001b[0m \u001b[1m23s\u001b[0m 65ms/step - accuracy: 0.1000 - loss: 2.3026 - val_accuracy: 0.1000 - val_loss: 2.3026 - learning_rate: 1.5625e-05\n",
            "\u001b[1m79/79\u001b[0m \u001b[32m━━━━━━━━━━━━━━━━━━━━\u001b[0m\u001b[37m\u001b[0m \u001b[1m1s\u001b[0m 16ms/step\n"
          ]
        },
        {
          "ename": "OSError",
          "evalue": "Cannot save file into a non-existent directory: 'figures'",
          "output_type": "error",
          "traceback": [
            "\u001b[31m---------------------------------------------------------------------------\u001b[39m",
            "\u001b[31mOSError\u001b[39m                                   Traceback (most recent call last)",
            "\u001b[36mCell\u001b[39m\u001b[36m \u001b[39m\u001b[32mIn[9]\u001b[39m\u001b[32m, line 23\u001b[39m\n\u001b[32m     20\u001b[39m     results.append({\u001b[33m\"\u001b[39m\u001b[33mmodel\u001b[39m\u001b[33m\"\u001b[39m:\u001b[33m\"\u001b[39m\u001b[33mCNN\u001b[39m\u001b[33m\"\u001b[39m,\u001b[33m\"\u001b[39m\u001b[33mseed\u001b[39m\u001b[33m\"\u001b[39m:seed,\u001b[33m\"\u001b[39m\u001b[33macc\u001b[39m\u001b[33m\"\u001b[39m:acc,\u001b[33m\"\u001b[39m\u001b[33mf1\u001b[39m\u001b[33m\"\u001b[39m:f1})\n\u001b[32m     22\u001b[39m df_results = pd.DataFrame(results)\n\u001b[32m---> \u001b[39m\u001b[32m23\u001b[39m \u001b[43mdf_results\u001b[49m\u001b[43m.\u001b[49m\u001b[43mto_csv\u001b[49m\u001b[43m(\u001b[49m\u001b[33;43m\"\u001b[39;49m\u001b[33;43mfigures/results_table.csv\u001b[39;49m\u001b[33;43m\"\u001b[39;49m\u001b[43m,\u001b[49m\u001b[43m \u001b[49m\u001b[43mindex\u001b[49m\u001b[43m=\u001b[49m\u001b[38;5;28;43;01mFalse\u001b[39;49;00m\u001b[43m)\u001b[49m\n\u001b[32m     24\u001b[39m display(df_results.groupby(\u001b[33m\"\u001b[39m\u001b[33mmodel\u001b[39m\u001b[33m\"\u001b[39m).agg([\u001b[33m\"\u001b[39m\u001b[33mmean\u001b[39m\u001b[33m\"\u001b[39m,\u001b[33m\"\u001b[39m\u001b[33mstd\u001b[39m\u001b[33m\"\u001b[39m]))\n",
            "\u001b[36mFile \u001b[39m\u001b[32mc:\\Users\\flori\\AppData\\Local\\Programs\\Python\\Python313\\Lib\\site-packages\\pandas\\util\\_decorators.py:333\u001b[39m, in \u001b[36mdeprecate_nonkeyword_arguments.<locals>.decorate.<locals>.wrapper\u001b[39m\u001b[34m(*args, **kwargs)\u001b[39m\n\u001b[32m    327\u001b[39m \u001b[38;5;28;01mif\u001b[39;00m \u001b[38;5;28mlen\u001b[39m(args) > num_allow_args:\n\u001b[32m    328\u001b[39m     warnings.warn(\n\u001b[32m    329\u001b[39m         msg.format(arguments=_format_argument_list(allow_args)),\n\u001b[32m    330\u001b[39m         \u001b[38;5;167;01mFutureWarning\u001b[39;00m,\n\u001b[32m    331\u001b[39m         stacklevel=find_stack_level(),\n\u001b[32m    332\u001b[39m     )\n\u001b[32m--> \u001b[39m\u001b[32m333\u001b[39m \u001b[38;5;28;01mreturn\u001b[39;00m \u001b[43mfunc\u001b[49m\u001b[43m(\u001b[49m\u001b[43m*\u001b[49m\u001b[43margs\u001b[49m\u001b[43m,\u001b[49m\u001b[43m \u001b[49m\u001b[43m*\u001b[49m\u001b[43m*\u001b[49m\u001b[43mkwargs\u001b[49m\u001b[43m)\u001b[49m\n",
            "\u001b[36mFile \u001b[39m\u001b[32mc:\\Users\\flori\\AppData\\Local\\Programs\\Python\\Python313\\Lib\\site-packages\\pandas\\core\\generic.py:3967\u001b[39m, in \u001b[36mNDFrame.to_csv\u001b[39m\u001b[34m(self, path_or_buf, sep, na_rep, float_format, columns, header, index, index_label, mode, encoding, compression, quoting, quotechar, lineterminator, chunksize, date_format, doublequote, escapechar, decimal, errors, storage_options)\u001b[39m\n\u001b[32m   3956\u001b[39m df = \u001b[38;5;28mself\u001b[39m \u001b[38;5;28;01mif\u001b[39;00m \u001b[38;5;28misinstance\u001b[39m(\u001b[38;5;28mself\u001b[39m, ABCDataFrame) \u001b[38;5;28;01melse\u001b[39;00m \u001b[38;5;28mself\u001b[39m.to_frame()\n\u001b[32m   3958\u001b[39m formatter = DataFrameFormatter(\n\u001b[32m   3959\u001b[39m     frame=df,\n\u001b[32m   3960\u001b[39m     header=header,\n\u001b[32m   (...)\u001b[39m\u001b[32m   3964\u001b[39m     decimal=decimal,\n\u001b[32m   3965\u001b[39m )\n\u001b[32m-> \u001b[39m\u001b[32m3967\u001b[39m \u001b[38;5;28;01mreturn\u001b[39;00m \u001b[43mDataFrameRenderer\u001b[49m\u001b[43m(\u001b[49m\u001b[43mformatter\u001b[49m\u001b[43m)\u001b[49m\u001b[43m.\u001b[49m\u001b[43mto_csv\u001b[49m\u001b[43m(\u001b[49m\n\u001b[32m   3968\u001b[39m \u001b[43m    \u001b[49m\u001b[43mpath_or_buf\u001b[49m\u001b[43m,\u001b[49m\n\u001b[32m   3969\u001b[39m \u001b[43m    \u001b[49m\u001b[43mlineterminator\u001b[49m\u001b[43m=\u001b[49m\u001b[43mlineterminator\u001b[49m\u001b[43m,\u001b[49m\n\u001b[32m   3970\u001b[39m \u001b[43m    \u001b[49m\u001b[43msep\u001b[49m\u001b[43m=\u001b[49m\u001b[43msep\u001b[49m\u001b[43m,\u001b[49m\n\u001b[32m   3971\u001b[39m \u001b[43m    \u001b[49m\u001b[43mencoding\u001b[49m\u001b[43m=\u001b[49m\u001b[43mencoding\u001b[49m\u001b[43m,\u001b[49m\n\u001b[32m   3972\u001b[39m \u001b[43m    \u001b[49m\u001b[43merrors\u001b[49m\u001b[43m=\u001b[49m\u001b[43merrors\u001b[49m\u001b[43m,\u001b[49m\n\u001b[32m   3973\u001b[39m \u001b[43m    \u001b[49m\u001b[43mcompression\u001b[49m\u001b[43m=\u001b[49m\u001b[43mcompression\u001b[49m\u001b[43m,\u001b[49m\n\u001b[32m   3974\u001b[39m \u001b[43m    \u001b[49m\u001b[43mquoting\u001b[49m\u001b[43m=\u001b[49m\u001b[43mquoting\u001b[49m\u001b[43m,\u001b[49m\n\u001b[32m   3975\u001b[39m \u001b[43m    \u001b[49m\u001b[43mcolumns\u001b[49m\u001b[43m=\u001b[49m\u001b[43mcolumns\u001b[49m\u001b[43m,\u001b[49m\n\u001b[32m   3976\u001b[39m \u001b[43m    \u001b[49m\u001b[43mindex_label\u001b[49m\u001b[43m=\u001b[49m\u001b[43mindex_label\u001b[49m\u001b[43m,\u001b[49m\n\u001b[32m   3977\u001b[39m \u001b[43m    \u001b[49m\u001b[43mmode\u001b[49m\u001b[43m=\u001b[49m\u001b[43mmode\u001b[49m\u001b[43m,\u001b[49m\n\u001b[32m   3978\u001b[39m \u001b[43m    \u001b[49m\u001b[43mchunksize\u001b[49m\u001b[43m=\u001b[49m\u001b[43mchunksize\u001b[49m\u001b[43m,\u001b[49m\n\u001b[32m   3979\u001b[39m \u001b[43m    \u001b[49m\u001b[43mquotechar\u001b[49m\u001b[43m=\u001b[49m\u001b[43mquotechar\u001b[49m\u001b[43m,\u001b[49m\n\u001b[32m   3980\u001b[39m \u001b[43m    \u001b[49m\u001b[43mdate_format\u001b[49m\u001b[43m=\u001b[49m\u001b[43mdate_format\u001b[49m\u001b[43m,\u001b[49m\n\u001b[32m   3981\u001b[39m \u001b[43m    \u001b[49m\u001b[43mdoublequote\u001b[49m\u001b[43m=\u001b[49m\u001b[43mdoublequote\u001b[49m\u001b[43m,\u001b[49m\n\u001b[32m   3982\u001b[39m \u001b[43m    \u001b[49m\u001b[43mescapechar\u001b[49m\u001b[43m=\u001b[49m\u001b[43mescapechar\u001b[49m\u001b[43m,\u001b[49m\n\u001b[32m   3983\u001b[39m \u001b[43m    \u001b[49m\u001b[43mstorage_options\u001b[49m\u001b[43m=\u001b[49m\u001b[43mstorage_options\u001b[49m\u001b[43m,\u001b[49m\n\u001b[32m   3984\u001b[39m \u001b[43m\u001b[49m\u001b[43m)\u001b[49m\n",
            "\u001b[36mFile \u001b[39m\u001b[32mc:\\Users\\flori\\AppData\\Local\\Programs\\Python\\Python313\\Lib\\site-packages\\pandas\\io\\formats\\format.py:1014\u001b[39m, in \u001b[36mDataFrameRenderer.to_csv\u001b[39m\u001b[34m(self, path_or_buf, encoding, sep, columns, index_label, mode, compression, quoting, quotechar, lineterminator, chunksize, date_format, doublequote, escapechar, errors, storage_options)\u001b[39m\n\u001b[32m    993\u001b[39m     created_buffer = \u001b[38;5;28;01mFalse\u001b[39;00m\n\u001b[32m    995\u001b[39m csv_formatter = CSVFormatter(\n\u001b[32m    996\u001b[39m     path_or_buf=path_or_buf,\n\u001b[32m    997\u001b[39m     lineterminator=lineterminator,\n\u001b[32m   (...)\u001b[39m\u001b[32m   1012\u001b[39m     formatter=\u001b[38;5;28mself\u001b[39m.fmt,\n\u001b[32m   1013\u001b[39m )\n\u001b[32m-> \u001b[39m\u001b[32m1014\u001b[39m \u001b[43mcsv_formatter\u001b[49m\u001b[43m.\u001b[49m\u001b[43msave\u001b[49m\u001b[43m(\u001b[49m\u001b[43m)\u001b[49m\n\u001b[32m   1016\u001b[39m \u001b[38;5;28;01mif\u001b[39;00m created_buffer:\n\u001b[32m   1017\u001b[39m     \u001b[38;5;28;01massert\u001b[39;00m \u001b[38;5;28misinstance\u001b[39m(path_or_buf, StringIO)\n",
            "\u001b[36mFile \u001b[39m\u001b[32mc:\\Users\\flori\\AppData\\Local\\Programs\\Python\\Python313\\Lib\\site-packages\\pandas\\io\\formats\\csvs.py:251\u001b[39m, in \u001b[36mCSVFormatter.save\u001b[39m\u001b[34m(self)\u001b[39m\n\u001b[32m    247\u001b[39m \u001b[38;5;250m\u001b[39m\u001b[33;03m\"\"\"\u001b[39;00m\n\u001b[32m    248\u001b[39m \u001b[33;03mCreate the writer & save.\u001b[39;00m\n\u001b[32m    249\u001b[39m \u001b[33;03m\"\"\"\u001b[39;00m\n\u001b[32m    250\u001b[39m \u001b[38;5;66;03m# apply compression and byte/text conversion\u001b[39;00m\n\u001b[32m--> \u001b[39m\u001b[32m251\u001b[39m \u001b[38;5;28;01mwith\u001b[39;00m \u001b[43mget_handle\u001b[49m\u001b[43m(\u001b[49m\n\u001b[32m    252\u001b[39m \u001b[43m    \u001b[49m\u001b[38;5;28;43mself\u001b[39;49m\u001b[43m.\u001b[49m\u001b[43mfilepath_or_buffer\u001b[49m\u001b[43m,\u001b[49m\n\u001b[32m    253\u001b[39m \u001b[43m    \u001b[49m\u001b[38;5;28;43mself\u001b[39;49m\u001b[43m.\u001b[49m\u001b[43mmode\u001b[49m\u001b[43m,\u001b[49m\n\u001b[32m    254\u001b[39m \u001b[43m    \u001b[49m\u001b[43mencoding\u001b[49m\u001b[43m=\u001b[49m\u001b[38;5;28;43mself\u001b[39;49m\u001b[43m.\u001b[49m\u001b[43mencoding\u001b[49m\u001b[43m,\u001b[49m\n\u001b[32m    255\u001b[39m \u001b[43m    \u001b[49m\u001b[43merrors\u001b[49m\u001b[43m=\u001b[49m\u001b[38;5;28;43mself\u001b[39;49m\u001b[43m.\u001b[49m\u001b[43merrors\u001b[49m\u001b[43m,\u001b[49m\n\u001b[32m    256\u001b[39m \u001b[43m    \u001b[49m\u001b[43mcompression\u001b[49m\u001b[43m=\u001b[49m\u001b[38;5;28;43mself\u001b[39;49m\u001b[43m.\u001b[49m\u001b[43mcompression\u001b[49m\u001b[43m,\u001b[49m\n\u001b[32m    257\u001b[39m \u001b[43m    \u001b[49m\u001b[43mstorage_options\u001b[49m\u001b[43m=\u001b[49m\u001b[38;5;28;43mself\u001b[39;49m\u001b[43m.\u001b[49m\u001b[43mstorage_options\u001b[49m\u001b[43m,\u001b[49m\n\u001b[32m    258\u001b[39m \u001b[43m\u001b[49m\u001b[43m)\u001b[49m \u001b[38;5;28;01mas\u001b[39;00m handles:\n\u001b[32m    259\u001b[39m     \u001b[38;5;66;03m# Note: self.encoding is irrelevant here\u001b[39;00m\n\u001b[32m    260\u001b[39m     \u001b[38;5;28mself\u001b[39m.writer = csvlib.writer(\n\u001b[32m    261\u001b[39m         handles.handle,\n\u001b[32m    262\u001b[39m         lineterminator=\u001b[38;5;28mself\u001b[39m.lineterminator,\n\u001b[32m   (...)\u001b[39m\u001b[32m    267\u001b[39m         quotechar=\u001b[38;5;28mself\u001b[39m.quotechar,\n\u001b[32m    268\u001b[39m     )\n\u001b[32m    270\u001b[39m     \u001b[38;5;28mself\u001b[39m._save()\n",
            "\u001b[36mFile \u001b[39m\u001b[32mc:\\Users\\flori\\AppData\\Local\\Programs\\Python\\Python313\\Lib\\site-packages\\pandas\\io\\common.py:749\u001b[39m, in \u001b[36mget_handle\u001b[39m\u001b[34m(path_or_buf, mode, encoding, compression, memory_map, is_text, errors, storage_options)\u001b[39m\n\u001b[32m    747\u001b[39m \u001b[38;5;66;03m# Only for write methods\u001b[39;00m\n\u001b[32m    748\u001b[39m \u001b[38;5;28;01mif\u001b[39;00m \u001b[33m\"\u001b[39m\u001b[33mr\u001b[39m\u001b[33m\"\u001b[39m \u001b[38;5;129;01mnot\u001b[39;00m \u001b[38;5;129;01min\u001b[39;00m mode \u001b[38;5;129;01mand\u001b[39;00m is_path:\n\u001b[32m--> \u001b[39m\u001b[32m749\u001b[39m     \u001b[43mcheck_parent_directory\u001b[49m\u001b[43m(\u001b[49m\u001b[38;5;28;43mstr\u001b[39;49m\u001b[43m(\u001b[49m\u001b[43mhandle\u001b[49m\u001b[43m)\u001b[49m\u001b[43m)\u001b[49m\n\u001b[32m    751\u001b[39m \u001b[38;5;28;01mif\u001b[39;00m compression:\n\u001b[32m    752\u001b[39m     \u001b[38;5;28;01mif\u001b[39;00m compression != \u001b[33m\"\u001b[39m\u001b[33mzstd\u001b[39m\u001b[33m\"\u001b[39m:\n\u001b[32m    753\u001b[39m         \u001b[38;5;66;03m# compression libraries do not like an explicit text-mode\u001b[39;00m\n",
            "\u001b[36mFile \u001b[39m\u001b[32mc:\\Users\\flori\\AppData\\Local\\Programs\\Python\\Python313\\Lib\\site-packages\\pandas\\io\\common.py:616\u001b[39m, in \u001b[36mcheck_parent_directory\u001b[39m\u001b[34m(path)\u001b[39m\n\u001b[32m    614\u001b[39m parent = Path(path).parent\n\u001b[32m    615\u001b[39m \u001b[38;5;28;01mif\u001b[39;00m \u001b[38;5;129;01mnot\u001b[39;00m parent.is_dir():\n\u001b[32m--> \u001b[39m\u001b[32m616\u001b[39m     \u001b[38;5;28;01mraise\u001b[39;00m \u001b[38;5;167;01mOSError\u001b[39;00m(\u001b[33mrf\u001b[39m\u001b[33m\"\u001b[39m\u001b[33mCannot save file into a non-existent directory: \u001b[39m\u001b[33m'\u001b[39m\u001b[38;5;132;01m{\u001b[39;00mparent\u001b[38;5;132;01m}\u001b[39;00m\u001b[33m'\u001b[39m\u001b[33m\"\u001b[39m)\n",
            "\u001b[31mOSError\u001b[39m: Cannot save file into a non-existent directory: 'figures'"
          ]
        }
      ],
      "source": [
        "# Célula: 08-experiments\n",
        "import pandas as pd\n",
        "seeds = [42, 123, 999]\n",
        "results = []\n",
        "\n",
        "for seed in seeds:\n",
        "    # MLP\n",
        "    mlp = build_mlp()\n",
        "    h_mlp, mlp_trained = train_model(mlp, ds_train, ds_val, seed=seed, epochs=50, model_name=f\"mlp_{seed}\")\n",
        "    preds = np.argmax(mlp_trained.predict(ds_test), axis=1)\n",
        "    acc = (preds==y_test).mean()\n",
        "    f1 = f1_score(y_test, preds, average='macro')\n",
        "    results.append({\"model\":\"MLP\",\"seed\":seed,\"acc\":acc,\"f1\":f1})\n",
        "    # CNN\n",
        "    cnn = build_cnn()\n",
        "    h_cnn, cnn_trained = train_model(cnn, ds_train, ds_val, seed=seed, epochs=50, model_name=f\"cnn_{seed}\")\n",
        "    preds = np.argmax(cnn_trained.predict(ds_test), axis=1)\n",
        "    acc = (preds==y_test).mean()\n",
        "    f1 = f1_score(y_test, preds, average='macro')\n",
        "    results.append({\"model\":\"CNN\",\"seed\":seed,\"acc\":acc,\"f1\":f1})\n",
        "\n",
        "df_results = pd.DataFrame(results)\n",
        "df_results.to_csv(\"figures/results_table.csv\", index=False)\n",
        "display(df_results.groupby(\"model\").agg([\"mean\",\"std\"]))\n"
      ]
    },
    {
      "cell_type": "code",
      "execution_count": 10,
      "metadata": {},
      "outputs": [],
      "source": [
        "# Célula: 09-plot-curves (exemplo)\n",
        "def plot_history(history, name):\n",
        "    fig, ax = plt.subplots(1,2,figsize=(12,4))\n",
        "    ax[0].plot(history.history['loss'], label='train')\n",
        "    ax[0].plot(history.history['val_loss'], label='val')\n",
        "    ax[0].set_title('Loss'); ax[0].legend()\n",
        "    ax[1].plot(history.history['accuracy'], label='train')\n",
        "    ax[1].plot(history.history['val_accuracy'], label='val')\n",
        "    ax[1].set_title('Accuracy'); ax[1].legend()\n",
        "    plt.savefig(f\"figures/{name}_curves.png\", dpi=150)\n"
      ]
    },
    {
      "cell_type": "code",
      "execution_count": 11,
      "metadata": {},
      "outputs": [
        {
          "name": "stdout",
          "output_type": "stream",
          "text": [
            "\u001b[1m79/79\u001b[0m \u001b[32m━━━━━━━━━━━━━━━━━━━━\u001b[0m\u001b[37m\u001b[0m \u001b[1m1s\u001b[0m 15ms/step\n"
          ]
        },
        {
          "ename": "FileNotFoundError",
          "evalue": "[Errno 2] No such file or directory: 'figures/confusion_matrix_cnn.png'",
          "output_type": "error",
          "traceback": [
            "\u001b[31m---------------------------------------------------------------------------\u001b[39m",
            "\u001b[31mFileNotFoundError\u001b[39m                         Traceback (most recent call last)",
            "\u001b[36mCell\u001b[39m\u001b[36m \u001b[39m\u001b[32mIn[11]\u001b[39m\u001b[32m, line 7\u001b[39m\n\u001b[32m      5\u001b[39m disp = ConfusionMatrixDisplay(cm, display_labels=classes)\n\u001b[32m      6\u001b[39m disp.plot(xticks_rotation=\u001b[33m'\u001b[39m\u001b[33mvertical\u001b[39m\u001b[33m'\u001b[39m, cmap=\u001b[33m'\u001b[39m\u001b[33mBlues\u001b[39m\u001b[33m'\u001b[39m)\n\u001b[32m----> \u001b[39m\u001b[32m7\u001b[39m \u001b[43mplt\u001b[49m\u001b[43m.\u001b[49m\u001b[43msavefig\u001b[49m\u001b[43m(\u001b[49m\u001b[33;43m\"\u001b[39;49m\u001b[33;43mfigures/confusion_matrix_cnn.png\u001b[39;49m\u001b[33;43m\"\u001b[39;49m\u001b[43m,\u001b[49m\u001b[43m \u001b[49m\u001b[43mdpi\u001b[49m\u001b[43m=\u001b[49m\u001b[32;43m150\u001b[39;49m\u001b[43m)\u001b[49m\n\u001b[32m      8\u001b[39m \u001b[38;5;28mprint\u001b[39m(classification_report(y_test, y_pred, target_names=classes))\n",
            "\u001b[36mFile \u001b[39m\u001b[32mc:\\Users\\flori\\AppData\\Local\\Programs\\Python\\Python313\\Lib\\site-packages\\matplotlib\\pyplot.py:1251\u001b[39m, in \u001b[36msavefig\u001b[39m\u001b[34m(*args, **kwargs)\u001b[39m\n\u001b[32m   1248\u001b[39m fig = gcf()\n\u001b[32m   1249\u001b[39m \u001b[38;5;66;03m# savefig default implementation has no return, so mypy is unhappy\u001b[39;00m\n\u001b[32m   1250\u001b[39m \u001b[38;5;66;03m# presumably this is here because subclasses can return?\u001b[39;00m\n\u001b[32m-> \u001b[39m\u001b[32m1251\u001b[39m res = \u001b[43mfig\u001b[49m\u001b[43m.\u001b[49m\u001b[43msavefig\u001b[49m\u001b[43m(\u001b[49m\u001b[43m*\u001b[49m\u001b[43margs\u001b[49m\u001b[43m,\u001b[49m\u001b[43m \u001b[49m\u001b[43m*\u001b[49m\u001b[43m*\u001b[49m\u001b[43mkwargs\u001b[49m\u001b[43m)\u001b[49m  \u001b[38;5;66;03m# type: ignore[func-returns-value]\u001b[39;00m\n\u001b[32m   1252\u001b[39m fig.canvas.draw_idle()  \u001b[38;5;66;03m# Need this if 'transparent=True', to reset colors.\u001b[39;00m\n\u001b[32m   1253\u001b[39m \u001b[38;5;28;01mreturn\u001b[39;00m res\n",
            "\u001b[36mFile \u001b[39m\u001b[32mc:\\Users\\flori\\AppData\\Local\\Programs\\Python\\Python313\\Lib\\site-packages\\matplotlib\\figure.py:3490\u001b[39m, in \u001b[36mFigure.savefig\u001b[39m\u001b[34m(self, fname, transparent, **kwargs)\u001b[39m\n\u001b[32m   3488\u001b[39m     \u001b[38;5;28;01mfor\u001b[39;00m ax \u001b[38;5;129;01min\u001b[39;00m \u001b[38;5;28mself\u001b[39m.axes:\n\u001b[32m   3489\u001b[39m         _recursively_make_axes_transparent(stack, ax)\n\u001b[32m-> \u001b[39m\u001b[32m3490\u001b[39m \u001b[38;5;28;43mself\u001b[39;49m\u001b[43m.\u001b[49m\u001b[43mcanvas\u001b[49m\u001b[43m.\u001b[49m\u001b[43mprint_figure\u001b[49m\u001b[43m(\u001b[49m\u001b[43mfname\u001b[49m\u001b[43m,\u001b[49m\u001b[43m \u001b[49m\u001b[43m*\u001b[49m\u001b[43m*\u001b[49m\u001b[43mkwargs\u001b[49m\u001b[43m)\u001b[49m\n",
            "\u001b[36mFile \u001b[39m\u001b[32mc:\\Users\\flori\\AppData\\Local\\Programs\\Python\\Python313\\Lib\\site-packages\\matplotlib\\backend_bases.py:2186\u001b[39m, in \u001b[36mFigureCanvasBase.print_figure\u001b[39m\u001b[34m(self, filename, dpi, facecolor, edgecolor, orientation, format, bbox_inches, pad_inches, bbox_extra_artists, backend, **kwargs)\u001b[39m\n\u001b[32m   2182\u001b[39m \u001b[38;5;28;01mtry\u001b[39;00m:\n\u001b[32m   2183\u001b[39m     \u001b[38;5;66;03m# _get_renderer may change the figure dpi (as vector formats\u001b[39;00m\n\u001b[32m   2184\u001b[39m     \u001b[38;5;66;03m# force the figure dpi to 72), so we need to set it again here.\u001b[39;00m\n\u001b[32m   2185\u001b[39m     \u001b[38;5;28;01mwith\u001b[39;00m cbook._setattr_cm(\u001b[38;5;28mself\u001b[39m.figure, dpi=dpi):\n\u001b[32m-> \u001b[39m\u001b[32m2186\u001b[39m         result = \u001b[43mprint_method\u001b[49m\u001b[43m(\u001b[49m\n\u001b[32m   2187\u001b[39m \u001b[43m            \u001b[49m\u001b[43mfilename\u001b[49m\u001b[43m,\u001b[49m\n\u001b[32m   2188\u001b[39m \u001b[43m            \u001b[49m\u001b[43mfacecolor\u001b[49m\u001b[43m=\u001b[49m\u001b[43mfacecolor\u001b[49m\u001b[43m,\u001b[49m\n\u001b[32m   2189\u001b[39m \u001b[43m            \u001b[49m\u001b[43medgecolor\u001b[49m\u001b[43m=\u001b[49m\u001b[43medgecolor\u001b[49m\u001b[43m,\u001b[49m\n\u001b[32m   2190\u001b[39m \u001b[43m            \u001b[49m\u001b[43morientation\u001b[49m\u001b[43m=\u001b[49m\u001b[43morientation\u001b[49m\u001b[43m,\u001b[49m\n\u001b[32m   2191\u001b[39m \u001b[43m            \u001b[49m\u001b[43mbbox_inches_restore\u001b[49m\u001b[43m=\u001b[49m\u001b[43m_bbox_inches_restore\u001b[49m\u001b[43m,\u001b[49m\n\u001b[32m   2192\u001b[39m \u001b[43m            \u001b[49m\u001b[43m*\u001b[49m\u001b[43m*\u001b[49m\u001b[43mkwargs\u001b[49m\u001b[43m)\u001b[49m\n\u001b[32m   2193\u001b[39m \u001b[38;5;28;01mfinally\u001b[39;00m:\n\u001b[32m   2194\u001b[39m     \u001b[38;5;28;01mif\u001b[39;00m bbox_inches \u001b[38;5;129;01mand\u001b[39;00m restore_bbox:\n",
            "\u001b[36mFile \u001b[39m\u001b[32mc:\\Users\\flori\\AppData\\Local\\Programs\\Python\\Python313\\Lib\\site-packages\\matplotlib\\backend_bases.py:2042\u001b[39m, in \u001b[36mFigureCanvasBase._switch_canvas_and_return_print_method.<locals>.<lambda>\u001b[39m\u001b[34m(*args, **kwargs)\u001b[39m\n\u001b[32m   2038\u001b[39m     optional_kws = {  \u001b[38;5;66;03m# Passed by print_figure for other renderers.\u001b[39;00m\n\u001b[32m   2039\u001b[39m         \u001b[33m\"\u001b[39m\u001b[33mdpi\u001b[39m\u001b[33m\"\u001b[39m, \u001b[33m\"\u001b[39m\u001b[33mfacecolor\u001b[39m\u001b[33m\"\u001b[39m, \u001b[33m\"\u001b[39m\u001b[33medgecolor\u001b[39m\u001b[33m\"\u001b[39m, \u001b[33m\"\u001b[39m\u001b[33morientation\u001b[39m\u001b[33m\"\u001b[39m,\n\u001b[32m   2040\u001b[39m         \u001b[33m\"\u001b[39m\u001b[33mbbox_inches_restore\u001b[39m\u001b[33m\"\u001b[39m}\n\u001b[32m   2041\u001b[39m     skip = optional_kws - {*inspect.signature(meth).parameters}\n\u001b[32m-> \u001b[39m\u001b[32m2042\u001b[39m     print_method = functools.wraps(meth)(\u001b[38;5;28;01mlambda\u001b[39;00m *args, **kwargs: \u001b[43mmeth\u001b[49m\u001b[43m(\u001b[49m\n\u001b[32m   2043\u001b[39m \u001b[43m        \u001b[49m\u001b[43m*\u001b[49m\u001b[43margs\u001b[49m\u001b[43m,\u001b[49m\u001b[43m \u001b[49m\u001b[43m*\u001b[49m\u001b[43m*\u001b[49m\u001b[43m{\u001b[49m\u001b[43mk\u001b[49m\u001b[43m:\u001b[49m\u001b[43m \u001b[49m\u001b[43mv\u001b[49m\u001b[43m \u001b[49m\u001b[38;5;28;43;01mfor\u001b[39;49;00m\u001b[43m \u001b[49m\u001b[43mk\u001b[49m\u001b[43m,\u001b[49m\u001b[43m \u001b[49m\u001b[43mv\u001b[49m\u001b[43m \u001b[49m\u001b[38;5;129;43;01min\u001b[39;49;00m\u001b[43m \u001b[49m\u001b[43mkwargs\u001b[49m\u001b[43m.\u001b[49m\u001b[43mitems\u001b[49m\u001b[43m(\u001b[49m\u001b[43m)\u001b[49m\u001b[43m \u001b[49m\u001b[38;5;28;43;01mif\u001b[39;49;00m\u001b[43m \u001b[49m\u001b[43mk\u001b[49m\u001b[43m \u001b[49m\u001b[38;5;129;43;01mnot\u001b[39;49;00m\u001b[43m \u001b[49m\u001b[38;5;129;43;01min\u001b[39;49;00m\u001b[43m \u001b[49m\u001b[43mskip\u001b[49m\u001b[43m}\u001b[49m\u001b[43m)\u001b[49m)\n\u001b[32m   2044\u001b[39m \u001b[38;5;28;01melse\u001b[39;00m:  \u001b[38;5;66;03m# Let third-parties do as they see fit.\u001b[39;00m\n\u001b[32m   2045\u001b[39m     print_method = meth\n",
            "\u001b[36mFile \u001b[39m\u001b[32mc:\\Users\\flori\\AppData\\Local\\Programs\\Python\\Python313\\Lib\\site-packages\\matplotlib\\backends\\backend_agg.py:481\u001b[39m, in \u001b[36mFigureCanvasAgg.print_png\u001b[39m\u001b[34m(self, filename_or_obj, metadata, pil_kwargs)\u001b[39m\n\u001b[32m    434\u001b[39m \u001b[38;5;28;01mdef\u001b[39;00m\u001b[38;5;250m \u001b[39m\u001b[34mprint_png\u001b[39m(\u001b[38;5;28mself\u001b[39m, filename_or_obj, *, metadata=\u001b[38;5;28;01mNone\u001b[39;00m, pil_kwargs=\u001b[38;5;28;01mNone\u001b[39;00m):\n\u001b[32m    435\u001b[39m \u001b[38;5;250m    \u001b[39m\u001b[33;03m\"\"\"\u001b[39;00m\n\u001b[32m    436\u001b[39m \u001b[33;03m    Write the figure to a PNG file.\u001b[39;00m\n\u001b[32m    437\u001b[39m \n\u001b[32m   (...)\u001b[39m\u001b[32m    479\u001b[39m \u001b[33;03m        *metadata*, including the default 'Software' key.\u001b[39;00m\n\u001b[32m    480\u001b[39m \u001b[33;03m    \"\"\"\u001b[39;00m\n\u001b[32m--> \u001b[39m\u001b[32m481\u001b[39m     \u001b[38;5;28;43mself\u001b[39;49m\u001b[43m.\u001b[49m\u001b[43m_print_pil\u001b[49m\u001b[43m(\u001b[49m\u001b[43mfilename_or_obj\u001b[49m\u001b[43m,\u001b[49m\u001b[43m \u001b[49m\u001b[33;43m\"\u001b[39;49m\u001b[33;43mpng\u001b[39;49m\u001b[33;43m\"\u001b[39;49m\u001b[43m,\u001b[49m\u001b[43m \u001b[49m\u001b[43mpil_kwargs\u001b[49m\u001b[43m,\u001b[49m\u001b[43m \u001b[49m\u001b[43mmetadata\u001b[49m\u001b[43m)\u001b[49m\n",
            "\u001b[36mFile \u001b[39m\u001b[32mc:\\Users\\flori\\AppData\\Local\\Programs\\Python\\Python313\\Lib\\site-packages\\matplotlib\\backends\\backend_agg.py:430\u001b[39m, in \u001b[36mFigureCanvasAgg._print_pil\u001b[39m\u001b[34m(self, filename_or_obj, fmt, pil_kwargs, metadata)\u001b[39m\n\u001b[32m    425\u001b[39m \u001b[38;5;250m\u001b[39m\u001b[33;03m\"\"\"\u001b[39;00m\n\u001b[32m    426\u001b[39m \u001b[33;03mDraw the canvas, then save it using `.image.imsave` (to which\u001b[39;00m\n\u001b[32m    427\u001b[39m \u001b[33;03m*pil_kwargs* and *metadata* are forwarded).\u001b[39;00m\n\u001b[32m    428\u001b[39m \u001b[33;03m\"\"\"\u001b[39;00m\n\u001b[32m    429\u001b[39m FigureCanvasAgg.draw(\u001b[38;5;28mself\u001b[39m)\n\u001b[32m--> \u001b[39m\u001b[32m430\u001b[39m \u001b[43mmpl\u001b[49m\u001b[43m.\u001b[49m\u001b[43mimage\u001b[49m\u001b[43m.\u001b[49m\u001b[43mimsave\u001b[49m\u001b[43m(\u001b[49m\n\u001b[32m    431\u001b[39m \u001b[43m    \u001b[49m\u001b[43mfilename_or_obj\u001b[49m\u001b[43m,\u001b[49m\u001b[43m \u001b[49m\u001b[38;5;28;43mself\u001b[39;49m\u001b[43m.\u001b[49m\u001b[43mbuffer_rgba\u001b[49m\u001b[43m(\u001b[49m\u001b[43m)\u001b[49m\u001b[43m,\u001b[49m\u001b[43m \u001b[49m\u001b[38;5;28;43mformat\u001b[39;49m\u001b[43m=\u001b[49m\u001b[43mfmt\u001b[49m\u001b[43m,\u001b[49m\u001b[43m \u001b[49m\u001b[43morigin\u001b[49m\u001b[43m=\u001b[49m\u001b[33;43m\"\u001b[39;49m\u001b[33;43mupper\u001b[39;49m\u001b[33;43m\"\u001b[39;49m\u001b[43m,\u001b[49m\n\u001b[32m    432\u001b[39m \u001b[43m    \u001b[49m\u001b[43mdpi\u001b[49m\u001b[43m=\u001b[49m\u001b[38;5;28;43mself\u001b[39;49m\u001b[43m.\u001b[49m\u001b[43mfigure\u001b[49m\u001b[43m.\u001b[49m\u001b[43mdpi\u001b[49m\u001b[43m,\u001b[49m\u001b[43m \u001b[49m\u001b[43mmetadata\u001b[49m\u001b[43m=\u001b[49m\u001b[43mmetadata\u001b[49m\u001b[43m,\u001b[49m\u001b[43m \u001b[49m\u001b[43mpil_kwargs\u001b[49m\u001b[43m=\u001b[49m\u001b[43mpil_kwargs\u001b[49m\u001b[43m)\u001b[49m\n",
            "\u001b[36mFile \u001b[39m\u001b[32mc:\\Users\\flori\\AppData\\Local\\Programs\\Python\\Python313\\Lib\\site-packages\\matplotlib\\image.py:1657\u001b[39m, in \u001b[36mimsave\u001b[39m\u001b[34m(fname, arr, vmin, vmax, cmap, format, origin, dpi, metadata, pil_kwargs)\u001b[39m\n\u001b[32m   1655\u001b[39m pil_kwargs.setdefault(\u001b[33m\"\u001b[39m\u001b[33mformat\u001b[39m\u001b[33m\"\u001b[39m, \u001b[38;5;28mformat\u001b[39m)\n\u001b[32m   1656\u001b[39m pil_kwargs.setdefault(\u001b[33m\"\u001b[39m\u001b[33mdpi\u001b[39m\u001b[33m\"\u001b[39m, (dpi, dpi))\n\u001b[32m-> \u001b[39m\u001b[32m1657\u001b[39m \u001b[43mimage\u001b[49m\u001b[43m.\u001b[49m\u001b[43msave\u001b[49m\u001b[43m(\u001b[49m\u001b[43mfname\u001b[49m\u001b[43m,\u001b[49m\u001b[43m \u001b[49m\u001b[43m*\u001b[49m\u001b[43m*\u001b[49m\u001b[43mpil_kwargs\u001b[49m\u001b[43m)\u001b[49m\n",
            "\u001b[36mFile \u001b[39m\u001b[32mc:\\Users\\flori\\AppData\\Local\\Programs\\Python\\Python313\\Lib\\site-packages\\PIL\\Image.py:2591\u001b[39m, in \u001b[36mImage.save\u001b[39m\u001b[34m(self, fp, format, **params)\u001b[39m\n\u001b[32m   2589\u001b[39m         fp = builtins.open(filename, \u001b[33m\"\u001b[39m\u001b[33mr+b\u001b[39m\u001b[33m\"\u001b[39m)\n\u001b[32m   2590\u001b[39m     \u001b[38;5;28;01melse\u001b[39;00m:\n\u001b[32m-> \u001b[39m\u001b[32m2591\u001b[39m         fp = \u001b[43mbuiltins\u001b[49m\u001b[43m.\u001b[49m\u001b[43mopen\u001b[49m\u001b[43m(\u001b[49m\u001b[43mfilename\u001b[49m\u001b[43m,\u001b[49m\u001b[43m \u001b[49m\u001b[33;43m\"\u001b[39;49m\u001b[33;43mw+b\u001b[39;49m\u001b[33;43m\"\u001b[39;49m\u001b[43m)\u001b[49m\n\u001b[32m   2592\u001b[39m \u001b[38;5;28;01melse\u001b[39;00m:\n\u001b[32m   2593\u001b[39m     fp = cast(IO[\u001b[38;5;28mbytes\u001b[39m], fp)\n",
            "\u001b[31mFileNotFoundError\u001b[39m: [Errno 2] No such file or directory: 'figures/confusion_matrix_cnn.png'"
          ]
        },
        {
          "data": {
            "image/png": "[encoded data removed]",
            "text/plain": [
              "<Figure size 640x480 with 2 Axes>"
            ]
          },
          "metadata": {},
          "output_type": "display_data"
        }
      ],
      "source": [
        "# Célula: 10-confmat\n",
        "from sklearn.metrics import ConfusionMatrixDisplay\n",
        "y_pred = np.argmax(cnn_trained.predict(ds_test), axis=1)\n",
        "cm = confusion_matrix(y_test, y_pred)\n",
        "disp = ConfusionMatrixDisplay(cm, display_labels=classes)\n",
        "disp.plot(xticks_rotation='vertical', cmap='Blues')\n",
        "plt.savefig(\"figures/confusion_matrix_cnn.png\", dpi=150)\n",
        "print(classification_report(y_test, y_pred, target_names=classes))\n"
      ]
    },
    {
      "cell_type": "code",
      "execution_count": 12,
      "metadata": {},
      "outputs": [],
      "source": [
        "# Célula: 11-gradcam (esqueleto)\n",
        "import tensorflow.keras.backend as K\n",
        "def make_gradcam_heatmap(img_array, model, last_conv_layer_name, pred_index=None):\n",
        "    grad_model = tf.keras.models.Model(\n",
        "        [model.inputs], [model.get_layer(last_conv_layer_name).output, model.output])\n",
        "    with tf.GradientTape() as tape:\n",
        "        conv_outputs, predictions = grad_model(img_array)\n",
        "        if pred_index is None:\n",
        "            pred_index = tf.argmax(predictions[0])\n",
        "        loss = predictions[:, pred_index]\n",
        "    grads = tape.gradient(loss, conv_outputs)\n",
        "    pooled_grads = tf.reduce_mean(grads, axis=(0,1,2))\n",
        "    conv_outputs = conv_outputs[0]\n",
        "    heatmap = conv_outputs @ pooled_grads[..., tf.newaxis]\n",
        "    heatmap = tf.squeeze(heatmap)\n",
        "    heatmap = tf.maximum(heatmap, 0) / (tf.math.reduce_max(heatmap) + 1e-8)\n",
        "    return heatmap.numpy()\n",
        "\n",
        "# Exibir overlay (usa matplotlib; transforma heatmap para tamanho da imagem).\n"
      ]
    },
    {
      "cell_type": "code",
      "execution_count": 13,
      "metadata": {},
      "outputs": [],
      "source": [
        "# Célula: 13-errors\n",
        "# encontra índices onde y_test != y_pred; agrupa por (true, pred) e conta\n"
      ]
    },
    {
      "cell_type": "code",
      "execution_count": 14,
      "metadata": {},
      "outputs": [
        {
          "name": "stderr",
          "output_type": "stream",
          "text": [
            "2025-09-27 18:13:42.028 WARNING streamlit.runtime.scriptrunner_utils.script_run_context: Thread 'MainThread': missing ScriptRunContext! This warning can be ignored when running in bare mode.\n",
            "2025-09-27 18:13:42.267 \n",
            "  \u001b[33m\u001b[1mWarning:\u001b[0m to view this Streamlit app on a browser, run it with the following\n",
            "  command:\n",
            "\n",
            "    streamlit run C:\\Users\\flori\\AppData\\Roaming\\Python\\Python313\\site-packages\\ipykernel_launcher.py [ARGUMENTS]\n",
            "2025-09-27 18:13:42.268 Thread 'MainThread': missing ScriptRunContext! This warning can be ignored when running in bare mode.\n",
            "2025-09-27 18:13:42.269 Thread 'MainThread': missing ScriptRunContext! This warning can be ignored when running in bare mode.\n",
            "2025-09-27 18:13:42.270 Thread 'MainThread': missing ScriptRunContext! This warning can be ignored when running in bare mode.\n",
            "2025-09-27 18:13:42.270 Thread 'MainThread': missing ScriptRunContext! This warning can be ignored when running in bare mode.\n",
            "2025-09-27 18:13:42.270 Thread 'MainThread': missing ScriptRunContext! This warning can be ignored when running in bare mode.\n",
            "2025-09-27 18:13:42.271 Thread 'MainThread': missing ScriptRunContext! This warning can be ignored when running in bare mode.\n",
            "2025-09-27 18:13:42.271 Thread 'MainThread': missing ScriptRunContext! This warning can be ignored when running in bare mode.\n",
            "2025-09-27 18:13:42.272 Thread 'MainThread': missing ScriptRunContext! This warning can be ignored when running in bare mode.\n"
          ]
        }
      ],
      "source": [
        "# app.py (esqueleto)\n",
        "import streamlit as st\n",
        "from PIL import Image\n",
        "import numpy as np\n",
        "import tensorflow as tf\n",
        "\n",
        "st.title(\"CIFAR-10 demo\")\n",
        "uploaded = st.file_uploader(\"Upload image\", type=['png','jpg'])\n",
        "if uploaded:\n",
        "    img = Image.open(uploaded).resize((32,32))\n",
        "    st.image(img, caption=\"input\", use_column_width=False)\n",
        "    x = np.array(img).astype('float32')/255.0\n",
        "    preds = cnn_trained.predict(x[np.newaxis,...])\n",
        "    st.write({classes[i]: float(preds[0,i]) for i in range(10)})\n",
        "    # gerar e exibir Grad-CAM\n"
      ]
    },
    {
      "cell_type": "code",
      "execution_count": 12,
      "metadata": {},
      "outputs": [
        {
          "name": "stdout",
          "output_type": "stream",
          "text": [
            "Downloading data from https://storage.googleapis.com/tensorflow/tf-keras-datasets/mnist.npz\n",
            "\u001b[1m11490434/11490434\u001b[0m \u001b[32m━━━━━━━━━━━━━━━━━━━━\u001b[0m\u001b[37m\u001b[0m \u001b[1m1s\u001b[0m 0us/step\n"
          ]
        }
      ],
      "source": [
        "import tensorflow as tf\n",
        "import numpy as np\n",
        "\n",
        "# Carregar MNIST\n",
        "(x_train, y_train), (x_test, y_test) = tf.keras.datasets.mnist.load_data()\n",
        "\n",
        "# Normalizar\n",
        "x_train = x_train.astype(\"float32\") / 255.0\n",
        "x_test  = x_test.astype(\"float32\") / 255.0\n",
        "\n",
        "# Criar conjunto de validação\n",
        "val_split = 0.1\n",
        "num_val = int(len(x_train) * val_split)\n",
        "\n",
        "x_val = x_train[:num_val]\n",
        "y_val = y_train[:num_val]\n",
        "x_train = x_train[num_val:]\n",
        "y_train = y_train[num_val:]\n",
        "\n",
        "# Adicionar canal se CNN esperar (28,28,1)\n",
        "x_train_cnn = np.expand_dims(x_train, axis=-1)\n",
        "x_val_cnn   = np.expand_dims(x_val, axis=-1)\n",
        "x_test_cnn  = np.expand_dims(x_test, axis=-1)\n",
        "\n",
        "# Criar datasets tf.data\n",
        "batch_size = 32\n",
        "ds_train = tf.data.Dataset.from_tensor_slices((x_train_cnn, y_train)).shuffle(1024).batch(batch_size)\n",
        "ds_val   = tf.data.Dataset.from_tensor_slices((x_val_cnn, y_val)).batch(batch_size)\n",
        "ds_test  = tf.data.Dataset.from_tensor_slices((x_test_cnn, y_test)).batch(batch_size)\n"
      ]
    },
    {
      "cell_type": "code",
      "execution_count": 14,
      "metadata": {},
      "outputs": [],
      "source": [
        "import os\n",
        "\n",
        "# Cria a pasta \"figures\" se não existir\n",
        "os.makedirs(\"figures\", exist_ok=True)\n"
      ]
    },
    {
      "cell_type": "code",
      "execution_count": 15,
      "metadata": {},
      "outputs": [],
      "source": [
        "import os\n",
        "os.makedirs(\"figures\", exist_ok=True)\n"
      ]
    },
    {
      "cell_type": "code",
      "execution_count": null,
      "metadata": {},
      "outputs": [
        {
          "name": "stdout",
          "output_type": "stream",
          "text": [
            "\u001b[1m313/313\u001b[0m \u001b[32m━━━━━━━━━━━━━━━━━━━━\u001b[0m\u001b[37m\u001b[0m \u001b[1m0s\u001b[0m 713us/step\n"
          ]
        },
        {
          "name": "stderr",
          "output_type": "stream",
          "text": [
            "c:\\Users\\flori\\AppData\\Local\\Programs\\Python\\Python313\\Lib\\site-packages\\keras\\src\\layers\\convolutional\\base_conv.py:113: UserWarning: Do not pass an `input_shape`/`input_dim` argument to a layer. When using Sequential models, prefer using an `Input(shape)` object as the first layer in the model instead.\n",
            "  super().__init__(activity_regularizer=activity_regularizer, **kwargs)\n"
          ]
        },
        {
          "name": "stdout",
          "output_type": "stream",
          "text": [
            "\u001b[1m313/313\u001b[0m \u001b[32m━━━━━━━━━━━━━━━━━━━━\u001b[0m\u001b[37m\u001b[0m \u001b[1m1s\u001b[0m 2ms/step\n",
            "\u001b[1m313/313\u001b[0m \u001b[32m━━━━━━━━━━━━━━━━━━━━\u001b[0m\u001b[37m\u001b[0m \u001b[1m0s\u001b[0m 913us/step\n"
          ]
        },
        {
          "name": "stderr",
          "output_type": "stream",
          "text": [
            "c:\\Users\\flori\\AppData\\Local\\Programs\\Python\\Python313\\Lib\\site-packages\\keras\\src\\layers\\convolutional\\base_conv.py:113: UserWarning: Do not pass an `input_shape`/`input_dim` argument to a layer. When using Sequential models, prefer using an `Input(shape)` object as the first layer in the model instead.\n",
            "  super().__init__(activity_regularizer=activity_regularizer, **kwargs)\n"
          ]
        },
        {
          "name": "stdout",
          "output_type": "stream",
          "text": [
            "\u001b[1m313/313\u001b[0m \u001b[32m━━━━━━━━━━━━━━━━━━━━\u001b[0m\u001b[37m\u001b[0m \u001b[1m1s\u001b[0m 2ms/step\n",
            "\u001b[1m313/313\u001b[0m \u001b[32m━━━━━━━━━━━━━━━━━━━━\u001b[0m\u001b[37m\u001b[0m \u001b[1m0s\u001b[0m 714us/step\n"
          ]
        },
        {
          "name": "stderr",
          "output_type": "stream",
          "text": [
            "c:\\Users\\flori\\AppData\\Local\\Programs\\Python\\Python313\\Lib\\site-packages\\keras\\src\\layers\\convolutional\\base_conv.py:113: UserWarning: Do not pass an `input_shape`/`input_dim` argument to a layer. When using Sequential models, prefer using an `Input(shape)` object as the first layer in the model instead.\n",
            "  super().__init__(activity_regularizer=activity_regularizer, **kwargs)\n"
          ]
        },
        {
          "name": "stdout",
          "output_type": "stream",
          "text": [
            "\u001b[1m313/313\u001b[0m \u001b[32m━━━━━━━━━━━━━━━━━━━━\u001b[0m\u001b[37m\u001b[0m \u001b[1m1s\u001b[0m 2ms/step\n",
            "\n",
            "Resultados por execução:\n"
          ]
        },
        {
          "data": {
            "text/html": [
              "<div>\n",
              "<style scoped>\n",
              "    .dataframe tbody tr th:only-of-type {\n",
              "        vertical-align: middle;\n",
              "    }\n",
              "\n",
              "    .dataframe tbody tr th {\n",
              "        vertical-align: top;\n",
              "    }\n",
              "\n",
              "    .dataframe thead th {\n",
              "        text-align: right;\n",
              "    }\n",
              "</style>\n",
              "<table border=\"1\" class=\"dataframe\">\n",
              "  <thead>\n",
              "    <tr style=\"text-align: right;\">\n",
              "      <th></th>\n",
              "      <th>model</th>\n",
              "      <th>seed</th>\n",
              "      <th>acc</th>\n",
              "      <th>f1</th>\n",
              "    </tr>\n",
              "  </thead>\n",
              "  <tbody>\n",
              "    <tr>\n",
              "      <th>0</th>\n",
              "      <td>MLP</td>\n",
              "      <td>42</td>\n",
              "      <td>0.9810</td>\n",
              "      <td>0.980879</td>\n",
              "    </tr>\n",
              "    <tr>\n",
              "      <th>1</th>\n",
              "      <td>CNN</td>\n",
              "      <td>42</td>\n",
              "      <td>0.9904</td>\n",
              "      <td>0.990258</td>\n",
              "    </tr>\n",
              "    <tr>\n",
              "      <th>2</th>\n",
              "      <td>MLP</td>\n",
              "      <td>123</td>\n",
              "      <td>0.9774</td>\n",
              "      <td>0.977180</td>\n",
              "    </tr>\n",
              "    <tr>\n",
              "      <th>3</th>\n",
              "      <td>CNN</td>\n",
              "      <td>123</td>\n",
              "      <td>0.9910</td>\n",
              "      <td>0.990945</td>\n",
              "    </tr>\n",
              "    <tr>\n",
              "      <th>4</th>\n",
              "      <td>MLP</td>\n",
              "      <td>999</td>\n",
              "      <td>0.9806</td>\n",
              "      <td>0.980435</td>\n",
              "    </tr>\n",
              "    <tr>\n",
              "      <th>5</th>\n",
              "      <td>CNN</td>\n",
              "      <td>999</td>\n",
              "      <td>0.9915</td>\n",
              "      <td>0.991411</td>\n",
              "    </tr>\n",
              "  </tbody>\n",
              "</table>\n",
              "</div>"
            ],
            "text/plain": [
              "  model  seed     acc        f1\n",
              "0   MLP    42  0.9810  0.980879\n",
              "1   CNN    42  0.9904  0.990258\n",
              "2   MLP   123  0.9774  0.977180\n",
              "3   CNN   123  0.9910  0.990945\n",
              "4   MLP   999  0.9806  0.980435\n",
              "5   CNN   999  0.9915  0.991411"
            ]
          },
          "metadata": {},
          "output_type": "display_data"
        },
        {
          "name": "stdout",
          "output_type": "stream",
          "text": [
            "\n",
            "Média ± Desvio padrão por modelo:\n"
          ]
        },
        {
          "data": {
            "text/html": [
              "<div>\n",
              "<style scoped>\n",
              "    .dataframe tbody tr th:only-of-type {\n",
              "        vertical-align: middle;\n",
              "    }\n",
              "\n",
              "    .dataframe tbody tr th {\n",
              "        vertical-align: top;\n",
              "    }\n",
              "\n",
              "    .dataframe thead tr th {\n",
              "        text-align: left;\n",
              "    }\n",
              "\n",
              "    .dataframe thead tr:last-of-type th {\n",
              "        text-align: right;\n",
              "    }\n",
              "</style>\n",
              "<table border=\"1\" class=\"dataframe\">\n",
              "  <thead>\n",
              "    <tr>\n",
              "      <th></th>\n",
              "      <th colspan=\"2\" halign=\"left\">seed</th>\n",
              "      <th colspan=\"2\" halign=\"left\">acc</th>\n",
              "      <th colspan=\"2\" halign=\"left\">f1</th>\n",
              "    </tr>\n",
              "    <tr>\n",
              "      <th></th>\n",
              "      <th>mean</th>\n",
              "      <th>std</th>\n",
              "      <th>mean</th>\n",
              "      <th>std</th>\n",
              "      <th>mean</th>\n",
              "      <th>std</th>\n",
              "    </tr>\n",
              "    <tr>\n",
              "      <th>model</th>\n",
              "      <th></th>\n",
              "      <th></th>\n",
              "      <th></th>\n",
              "      <th></th>\n",
              "      <th></th>\n",
              "      <th></th>\n",
              "    </tr>\n",
              "  </thead>\n",
              "  <tbody>\n",
              "    <tr>\n",
              "      <th>CNN</th>\n",
              "      <td>388.0</td>\n",
              "      <td>530.689175</td>\n",
              "      <td>0.990967</td>\n",
              "      <td>0.000551</td>\n",
              "      <td>0.990871</td>\n",
              "      <td>0.00058</td>\n",
              "    </tr>\n",
              "    <tr>\n",
              "      <th>MLP</th>\n",
              "      <td>388.0</td>\n",
              "      <td>530.689175</td>\n",
              "      <td>0.979667</td>\n",
              "      <td>0.001973</td>\n",
              "      <td>0.979498</td>\n",
              "      <td>0.00202</td>\n",
              "    </tr>\n",
              "  </tbody>\n",
              "</table>\n",
              "</div>"
            ],
            "text/plain": [
              "        seed                   acc                  f1         \n",
              "        mean         std      mean       std      mean      std\n",
              "model                                                          \n",
              "CNN    388.0  530.689175  0.990967  0.000551  0.990871  0.00058\n",
              "MLP    388.0  530.689175  0.979667  0.001973  0.979498  0.00202"
            ]
          },
          "metadata": {},
          "output_type": "display_data"
        }
      ],
      "source": [
        "# ==========================================\n",
        "# Experimentos com 3 seeds + Resultados\n",
        "# ==========================================\n",
        "import pandas as pd\n",
        "import numpy as np\n",
        "import matplotlib.pyplot as plt\n",
        "from sklearn.metrics import f1_score, confusion_matrix, ConfusionMatrixDisplay\n",
        "import tensorflow as tf\n",
        "from tensorflow.keras import layers, models\n",
        "\n",
        "# ==========================================\n",
        "# Detectar número de classes e input_shape\n",
        "# ==========================================\n",
        "# Supondo que ds_train, ds_val, ds_test e y_test já estão definidos\n",
        "# Detecta o formato das entradas automaticamente\n",
        "sample_input, _ = next(iter(ds_train))\n",
        "input_shape = sample_input.shape[1:]\n",
        "\n",
        "# Detecta classes a partir de y_test\n",
        "classes = np.unique(y_test)\n",
        "num_classes = len(classes)\n",
        "\n",
        "# ==========================================\n",
        "# Definições dos modelos e treino\n",
        "# ==========================================\n",
        "\n",
        "# Modelo MLP\n",
        "# Modelo MLP com Dropout + L2\n",
        "def build_mlp(input_shape, num_classes, l2_reg=1e-4, dropout=0.5):\n",
        "    model = models.Sequential([\n",
        "        layers.Flatten(input_shape=input_shape),\n",
        "        layers.Dense(128, activation='relu',\n",
        "                     kernel_regularizer=regularizers.l2(l2_reg)),\n",
        "        layers.Dropout(dropout),\n",
        "        layers.Dense(64, activation='relu',\n",
        "                     kernel_regularizer=regularizers.l2(l2_reg)),\n",
        "        layers.Dropout(dropout),\n",
        "        layers.Dense(num_classes, activation='softmax')\n",
        "    ])\n",
        "    model.compile(optimizer='adam',\n",
        "                  loss='sparse_categorical_crossentropy',\n",
        "                  metrics=['accuracy'])\n",
        "    return model\n",
        "\n",
        "\n",
        "# Modelo CNN\n",
        "def build_mlp(input_shape, num_classes):\n",
        "    model = models.Sequential([\n",
        "        layers.Input(shape=input_shape),\n",
        "        layers.Flatten(),\n",
        "        layers.Dense(128, activation='relu'),\n",
        "        layers.Dense(64, activation='relu'),\n",
        "        layers.Dense(num_classes, activation='softmax')\n",
        "    ])\n",
        "    model.compile(optimizer='adam',\n",
        "                  loss='sparse_categorical_crossentropy',\n",
        "                  metrics=['accuracy'])\n",
        "    return model\n",
        "\n",
        "\n",
        "# Função de treino\n",
        "def train_model(model, ds_train, ds_val, seed, epochs=50, model_name=\"model\"):\n",
        "    tf.keras.utils.set_random_seed(seed)\n",
        "    history = model.fit(\n",
        "        ds_train,\n",
        "        validation_data=ds_val,\n",
        "        epochs=epochs,\n",
        "        verbose=0\n",
        "    )\n",
        "    return history, model\n",
        "\n",
        "# Função para plotar curvas\n",
        "def plot_history(history, name):\n",
        "    fig, ax = plt.subplots(1,2,figsize=(12,4))\n",
        "    ax[0].plot(history.history['loss'], label='train')\n",
        "    ax[0].plot(history.history['val_loss'], label='val')\n",
        "    ax[0].set_title('Loss'); ax[0].legend()\n",
        "    ax[1].plot(history.history['accuracy'], label='train')\n",
        "    ax[1].plot(history.history['val_accuracy'], label='val')\n",
        "    ax[1].set_title('Accuracy'); ax[1].legend()\n",
        "    plt.savefig(f\"figures/{name}_curves.png\", dpi=150)\n",
        "    plt.close()\n",
        "\n",
        "# ==========================================\n",
        "# Experimentos\n",
        "# ==========================================\n",
        "seeds = [42, 123, 999]\n",
        "results = []\n",
        "\n",
        "for seed in seeds:\n",
        "    # ---------------- MLP ----------------\n",
        "    mlp = build_mlp(input_shape=input_shape, num_classes=num_classes)\n",
        "    h_mlp, mlp_trained = train_model(mlp, ds_train, ds_val, seed=seed, epochs=50, model_name=f\"mlp_{seed}\")\n",
        "    plot_history(h_mlp, f\"mlp_seed{seed}\")\n",
        "    preds = np.argmax(mlp_trained.predict(ds_test), axis=1)\n",
        "    acc = (preds == y_test).mean()\n",
        "    f1 = f1_score(y_test, preds, average=\"macro\")\n",
        "    results.append({\"model\":\"MLP\",\"seed\":seed,\"acc\":acc,\"f1\":f1})\n",
        "\n",
        "    # ---------------- CNN ----------------\n",
        "    cnn = build_cnn(input_shape=input_shape, num_classes=num_classes)\n",
        "    h_cnn, cnn_trained = train_model(cnn, ds_train, ds_val, seed=seed, epochs=50, model_name=f\"cnn_{seed}\")\n",
        "    plot_history(h_cnn, f\"cnn_seed{seed}\")\n",
        "    preds = np.argmax(cnn_trained.predict(ds_test), axis=1)\n",
        "    acc = (preds == y_test).mean()\n",
        "    f1 = f1_score(y_test, preds, average=\"macro\")\n",
        "    results.append({\"model\":\"CNN\",\"seed\":seed,\"acc\":acc,\"f1\":f1})\n",
        "\n",
        "    # Matriz de confusão só da CNN (última seed)\n",
        "    if seed == seeds[-1]:\n",
        "        cm = confusion_matrix(y_test, preds)\n",
        "        disp = ConfusionMatrixDisplay(cm, display_labels=classes)\n",
        "        disp.plot(xticks_rotation=\"vertical\", cmap=\"Blues\")\n",
        "        plt.savefig(\"figures/confusion_matrix_cnn.png\", dpi=150)\n",
        "        plt.close()\n",
        "\n",
        "# Criar DataFrame e salvar tabela\n",
        "df_results = pd.DataFrame(results)\n",
        "df_results.to_csv(\"figures/results_table.csv\", index=False)\n",
        "\n",
        "print(\"\\nResultados por execução:\")\n",
        "display(df_results)\n",
        "\n",
        "print(\"\\nMédia ± Desvio padrão por modelo:\")\n",
        "display(df_results.groupby(\"model\").agg([\"mean\",\"std\"]))\n",
        "\n"
      ]
    },
    {
      "cell_type": "code",
      "execution_count": 18,
      "metadata": {},
      "outputs": [
        {
          "name": "stdout",
          "output_type": "stream",
          "text": [
            "\u001b[1m313/313\u001b[0m \u001b[32m━━━━━━━━━━━━━━━━━━━━\u001b[0m\u001b[37m\u001b[0m \u001b[1m1s\u001b[0m 2ms/step\n",
            "Total de erros: 85\n",
            "Pares de classes mais confundidas: [((np.uint8(9), np.int64(4)), 5), ((np.uint8(2), np.int64(7)), 5), ((np.uint8(5), np.int64(6)), 4)]\n"
          ]
        }
      ],
      "source": [
        "# ==========================================\n",
        "# Análise de erros (CNN última execução)\n",
        "# ==========================================\n",
        "import numpy as np  \n",
        "\n",
        "# garantir compatibilidade (às vezes é x_test, às vezes X_test)\n",
        "try:\n",
        "    X_test\n",
        "except NameError:\n",
        "    X_test = x_test  \n",
        "\n",
        "# Previsões da CNN final (última rodada do loop)\n",
        "y_pred = np.argmax(cnn_trained.predict(ds_test), axis=1)\n",
        "\n",
        "# Encontrar erros\n",
        "errors_idx = np.where(y_pred != y_test)[0]\n",
        "print(f\"Total de erros: {len(errors_idx)}\")\n",
        "\n",
        "# Contar pares (verdadeiro -> predito)\n",
        "from collections import Counter\n",
        "pairs = [(y_test[i], y_pred[i]) for i in errors_idx]\n",
        "most_common_pairs = Counter(pairs).most_common(3)\n",
        "print(\"Pares de classes mais confundidas:\", most_common_pairs)\n",
        "\n",
        "# Função para plotar erros\n",
        "def plot_errors(indices, name, max_imgs=15):\n",
        "    n = min(len(indices), max_imgs)\n",
        "    fig, axes = plt.subplots(1, n, figsize=(3*n,3))\n",
        "    if n == 1:\n",
        "        axes = [axes]\n",
        "    for j, ax in enumerate(axes[:n]):\n",
        "        idx = indices[j]\n",
        "        ax.imshow(X_test[idx])\n",
        "        ax.axis(\"off\")\n",
        "        ax.set_title(f\"T:{classes[y_test[idx]]}\\nP:{classes[y_pred[idx]]}\", fontsize=9)\n",
        "    plt.tight_layout()\n",
        "    plt.savefig(f\"figures/errors_{name}.png\", dpi=150)\n",
        "    plt.close()\n",
        "\n",
        "# Plotar para os 3 pares mais confundidos\n",
        "for (true_cls, pred_cls), _ in most_common_pairs:\n",
        "    idxs = [i for i in errors_idx if y_test[i]==true_cls and y_pred[i]==pred_cls]\n",
        "    plot_errors(idxs, f\"{classes[true_cls]}_vs_{classes[pred_cls]}\")\n"
      ]
    },
    {
      "cell_type": "code",
      "execution_count": 19,
      "metadata": {},
      "outputs": [],
      "source": [
        "#Reprodutibilidade / seeds\n",
        "\n",
        "import os, random, numpy as np, tensorflow as tf\n",
        "def set_seed(seed=42):\n",
        "    os.environ['PYTHONHASHSEED'] = str(seed)\n",
        "    random.seed(seed)\n",
        "    np.random.seed(seed)\n",
        "    tf.random.set_seed(seed)\n",
        "\n",
        "set_seed(42)"
      ]
    },
    {
      "cell_type": "code",
      "execution_count": 20,
      "metadata": {},
      "outputs": [],
      "source": [
        "#Carregamento e split CIFAR-10 + normalização + augmentation\n",
        "\n",
        "from tensorflow.keras.datasets import cifar10\n",
        "from sklearn.model_selection import train_test_split\n",
        "\n",
        "(x_train, y_train), (x_test, y_test) = cifar10.load_data()\n",
        "# hold out validation set\n",
        "x_train, x_val, y_train, y_val = train_test_split(\n",
        "    x_train, y_train, test_size=5000, stratify=y_train, random_state=42)\n",
        "\n",
        "# normalize\n",
        "x_train = x_train.astype('float32')/255.0\n",
        "x_val   = x_val.astype('float32')/255.0\n",
        "x_test  = x_test.astype('float32')/255.0\n",
        "y_train = y_train.ravel(); y_val = y_val.ravel(); y_test = y_test.ravel()\n",
        "\n",
        "# data augmentation (use in CNN training)\n",
        "import tensorflow as tf\n",
        "data_augmentation = tf.keras.Sequential([\n",
        "    tf.keras.layers.RandomFlip(\"horizontal\"),\n",
        "    tf.keras.layers.RandomRotation(0.08),\n",
        "    tf.keras.layers.RandomZoom(0.05),\n",
        "])\n"
      ]
    },
    {
      "cell_type": "code",
      "execution_count": 21,
      "metadata": {},
      "outputs": [],
      "source": [
        "#Model builders (MLP e CNN) — parametrizados por dropout e L2\n",
        "\n",
        "from tensorflow.keras import layers, models, regularizers\n",
        "\n",
        "def build_mlp(input_shape=(32,32,3), num_classes=10, dropout_rate=0.0, l2=0.0):\n",
        "    reg = regularizers.l2(l2) if l2>0 else None\n",
        "    inputs = layers.Input(shape=input_shape)\n",
        "    x = layers.Flatten()(inputs)\n",
        "    x = layers.Dense(512, activation='relu', kernel_regularizer=reg)(x)\n",
        "    x = layers.Dropout(dropout_rate)(x)\n",
        "    x = layers.Dense(256, activation='relu', kernel_regularizer=reg)(x)\n",
        "    x = layers.Dropout(dropout_rate)(x)\n",
        "    outputs = layers.Dense(num_classes, activation='softmax')(x)\n",
        "    model = models.Model(inputs, outputs)\n",
        "    return model\n",
        "\n",
        "def build_cnn(input_shape=(32,32,3), num_classes=10, dropout_rate=0.0, l2=0.0):\n",
        "    reg = regularizers.l2(l2) if l2>0 else None\n",
        "    inp = layers.Input(shape=input_shape)\n",
        "    x = layers.Conv2D(32, 3, padding='same', activation='relu', kernel_regularizer=reg)(inp)\n",
        "    x = layers.Conv2D(32, 3, padding='same', activation='relu', kernel_regularizer=reg)(x)\n",
        "    x = layers.MaxPooling2D()(x)\n",
        "\n",
        "    x = layers.Conv2D(64, 3, padding='same', activation='relu', kernel_regularizer=reg)(x)\n",
        "    x = layers.Conv2D(64, 3, padding='same', activation='relu', kernel_regularizer=reg)(x)\n",
        "    x = layers.MaxPooling2D()(x)\n",
        "\n",
        "    x = layers.Conv2D(128, 3, padding='same', activation='relu', kernel_regularizer=reg)(x)\n",
        "    x = layers.GlobalAveragePooling2D()(x)\n",
        "    x = layers.Dense(128, activation='relu', kernel_regularizer=reg)(x)\n",
        "    x = layers.Dropout(dropout_rate)(x)\n",
        "    out = layers.Dense(num_classes, activation='softmax')(x)\n",
        "    model = models.Model(inp, out)\n",
        "    return model\n"
      ]
    },
    {
      "cell_type": "code",
      "execution_count": 22,
      "metadata": {},
      "outputs": [
        {
          "name": "stdout",
          "output_type": "stream",
          "text": [
            "Params: 157226\n"
          ]
        }
      ],
      "source": [
        "#Verificação de parametros\n",
        "m = build_cnn()\n",
        "print(\"Params:\", m.count_params())\n",
        "assert m.count_params() <= 1_000_000, \"Ajuste filtros para ter <= 1M params\"\n"
      ]
    },
    {
      "cell_type": "code",
      "execution_count": 23,
      "metadata": {},
      "outputs": [],
      "source": [
        "#Função de treino reutilizável (salva history, melhor checkpoint)\n",
        "\n",
        "from tensorflow.keras.callbacks import EarlyStopping, ReduceLROnPlateau, ModelCheckpoint\n",
        "\n",
        "def compile_and_train(model, x_train, y_train, x_val, y_val,\n",
        "                      use_augment=False, epochs=50, batch_size=128,\n",
        "                      model_name='model', save_dir='checkpoints', seed=42):\n",
        "    set_seed(seed)\n",
        "    model.compile(optimizer=tf.keras.optimizers.Adam(1e-3),\n",
        "                  loss='sparse_categorical_crossentropy',\n",
        "                  metrics=['accuracy'])\n",
        "    os.makedirs(save_dir, exist_ok=True)\n",
        "    ckpt_path = os.path.join(save_dir, f\"{model_name}.h5\")\n",
        "    callbacks = [\n",
        "        EarlyStopping(monitor='val_loss', patience=6, restore_best_weights=True),\n",
        "        ReduceLROnPlateau(monitor='val_loss', factor=0.5, patience=3),\n",
        "        ModelCheckpoint(ckpt_path, save_best_only=True, monitor='val_loss')\n",
        "    ]\n",
        "    if use_augment:\n",
        "        train_ds = tf.data.Dataset.from_tensor_slices((x_train, y_train)).shuffle(10000).batch(batch_size).map(\n",
        "            lambda x,y: (data_augmentation(x, training=True), y), num_parallel_calls=tf.data.AUTOTUNE).prefetch(tf.data.AUTOTUNE)\n",
        "    else:\n",
        "        train_ds = tf.data.Dataset.from_tensor_slices((x_train, y_train)).shuffle(10000).batch(batch_size).prefetch(tf.data.AUTOTUNE)\n",
        "    val_ds = tf.data.Dataset.from_tensor_slices((x_val, y_val)).batch(batch_size).prefetch(tf.data.AUTOTUNE)\n",
        "\n",
        "    history = model.fit(train_ds, validation_data=val_ds, epochs=epochs, callbacks=callbacks, verbose=2)\n",
        "    return history, ckpt_path\n"
      ]
    },
    {
      "cell_type": "code",
      "execution_count": 25,
      "metadata": {},
      "outputs": [
        {
          "name": "stdout",
          "output_type": "stream",
          "text": [
            "Epoch 1/50\n"
          ]
        },
        {
          "name": "stderr",
          "output_type": "stream",
          "text": [
            "WARNING:absl:You are saving your model as an HDF5 file via `model.save()` or `keras.saving.save_model(model)`. This file format is considered legacy. We recommend using instead the native Keras format, e.g. `model.save('my_model.keras')` or `keras.saving.save_model(model, 'my_model.keras')`. \n"
          ]
        },
        {
          "name": "stdout",
          "output_type": "stream",
          "text": [
            "352/352 - 23s - 66ms/step - accuracy: 0.2753 - loss: 1.8918 - val_accuracy: 0.4104 - val_loss: 1.5921 - learning_rate: 1.0000e-03\n",
            "Epoch 2/50\n"
          ]
        },
        {
          "name": "stderr",
          "output_type": "stream",
          "text": [
            "WARNING:absl:You are saving your model as an HDF5 file via `model.save()` or `keras.saving.save_model(model)`. This file format is considered legacy. We recommend using instead the native Keras format, e.g. `model.save('my_model.keras')` or `keras.saving.save_model(model, 'my_model.keras')`. \n"
          ]
        },
        {
          "name": "stdout",
          "output_type": "stream",
          "text": [
            "352/352 - 21s - 59ms/step - accuracy: 0.4236 - loss: 1.5623 - val_accuracy: 0.4654 - val_loss: 1.4424 - learning_rate: 1.0000e-03\n",
            "Epoch 3/50\n"
          ]
        },
        {
          "name": "stderr",
          "output_type": "stream",
          "text": [
            "WARNING:absl:You are saving your model as an HDF5 file via `model.save()` or `keras.saving.save_model(model)`. This file format is considered legacy. We recommend using instead the native Keras format, e.g. `model.save('my_model.keras')` or `keras.saving.save_model(model, 'my_model.keras')`. \n"
          ]
        },
        {
          "name": "stdout",
          "output_type": "stream",
          "text": [
            "352/352 - 21s - 59ms/step - accuracy: 0.4858 - loss: 1.4100 - val_accuracy: 0.4928 - val_loss: 1.4308 - learning_rate: 1.0000e-03\n",
            "Epoch 4/50\n"
          ]
        },
        {
          "name": "stderr",
          "output_type": "stream",
          "text": [
            "WARNING:absl:You are saving your model as an HDF5 file via `model.save()` or `keras.saving.save_model(model)`. This file format is considered legacy. We recommend using instead the native Keras format, e.g. `model.save('my_model.keras')` or `keras.saving.save_model(model, 'my_model.keras')`. \n"
          ]
        },
        {
          "name": "stdout",
          "output_type": "stream",
          "text": [
            "352/352 - 21s - 59ms/step - accuracy: 0.5202 - loss: 1.3266 - val_accuracy: 0.5352 - val_loss: 1.2833 - learning_rate: 1.0000e-03\n",
            "Epoch 5/50\n",
            "352/352 - 21s - 59ms/step - accuracy: 0.5567 - loss: 1.2282 - val_accuracy: 0.5558 - val_loss: 1.2949 - learning_rate: 1.0000e-03\n",
            "Epoch 6/50\n"
          ]
        },
        {
          "name": "stderr",
          "output_type": "stream",
          "text": [
            "WARNING:absl:You are saving your model as an HDF5 file via `model.save()` or `keras.saving.save_model(model)`. This file format is considered legacy. We recommend using instead the native Keras format, e.g. `model.save('my_model.keras')` or `keras.saving.save_model(model, 'my_model.keras')`. \n"
          ]
        },
        {
          "name": "stdout",
          "output_type": "stream",
          "text": [
            "352/352 - 21s - 59ms/step - accuracy: 0.5739 - loss: 1.1834 - val_accuracy: 0.5500 - val_loss: 1.2706 - learning_rate: 1.0000e-03\n",
            "Epoch 7/50\n"
          ]
        },
        {
          "name": "stderr",
          "output_type": "stream",
          "text": [
            "WARNING:absl:You are saving your model as an HDF5 file via `model.save()` or `keras.saving.save_model(model)`. This file format is considered legacy. We recommend using instead the native Keras format, e.g. `model.save('my_model.keras')` or `keras.saving.save_model(model, 'my_model.keras')`. \n"
          ]
        },
        {
          "name": "stdout",
          "output_type": "stream",
          "text": [
            "352/352 - 23s - 65ms/step - accuracy: 0.6031 - loss: 1.1114 - val_accuracy: 0.6144 - val_loss: 1.1033 - learning_rate: 1.0000e-03\n",
            "Epoch 8/50\n"
          ]
        },
        {
          "name": "stderr",
          "output_type": "stream",
          "text": [
            "WARNING:absl:You are saving your model as an HDF5 file via `model.save()` or `keras.saving.save_model(model)`. This file format is considered legacy. We recommend using instead the native Keras format, e.g. `model.save('my_model.keras')` or `keras.saving.save_model(model, 'my_model.keras')`. \n"
          ]
        },
        {
          "name": "stdout",
          "output_type": "stream",
          "text": [
            "352/352 - 22s - 63ms/step - accuracy: 0.6184 - loss: 1.0749 - val_accuracy: 0.6294 - val_loss: 1.0857 - learning_rate: 1.0000e-03\n",
            "Epoch 9/50\n"
          ]
        },
        {
          "name": "stderr",
          "output_type": "stream",
          "text": [
            "WARNING:absl:You are saving your model as an HDF5 file via `model.save()` or `keras.saving.save_model(model)`. This file format is considered legacy. We recommend using instead the native Keras format, e.g. `model.save('my_model.keras')` or `keras.saving.save_model(model, 'my_model.keras')`. \n"
          ]
        },
        {
          "name": "stdout",
          "output_type": "stream",
          "text": [
            "352/352 - 21s - 59ms/step - accuracy: 0.6323 - loss: 1.0399 - val_accuracy: 0.6390 - val_loss: 1.0432 - learning_rate: 1.0000e-03\n",
            "Epoch 10/50\n"
          ]
        },
        {
          "name": "stderr",
          "output_type": "stream",
          "text": [
            "WARNING:absl:You are saving your model as an HDF5 file via `model.save()` or `keras.saving.save_model(model)`. This file format is considered legacy. We recommend using instead the native Keras format, e.g. `model.save('my_model.keras')` or `keras.saving.save_model(model, 'my_model.keras')`. \n"
          ]
        },
        {
          "name": "stdout",
          "output_type": "stream",
          "text": [
            "352/352 - 21s - 59ms/step - accuracy: 0.6446 - loss: 0.9998 - val_accuracy: 0.6506 - val_loss: 1.0101 - learning_rate: 1.0000e-03\n",
            "Epoch 11/50\n",
            "352/352 - 21s - 59ms/step - accuracy: 0.6568 - loss: 0.9703 - val_accuracy: 0.6276 - val_loss: 1.1353 - learning_rate: 1.0000e-03\n",
            "Epoch 12/50\n"
          ]
        },
        {
          "name": "stderr",
          "output_type": "stream",
          "text": [
            "WARNING:absl:You are saving your model as an HDF5 file via `model.save()` or `keras.saving.save_model(model)`. This file format is considered legacy. We recommend using instead the native Keras format, e.g. `model.save('my_model.keras')` or `keras.saving.save_model(model, 'my_model.keras')`. \n"
          ]
        },
        {
          "name": "stdout",
          "output_type": "stream",
          "text": [
            "352/352 - 21s - 60ms/step - accuracy: 0.6664 - loss: 0.9440 - val_accuracy: 0.6672 - val_loss: 0.9470 - learning_rate: 1.0000e-03\n",
            "Epoch 13/50\n",
            "352/352 - 21s - 59ms/step - accuracy: 0.6796 - loss: 0.9105 - val_accuracy: 0.6674 - val_loss: 0.9510 - learning_rate: 1.0000e-03\n",
            "Epoch 14/50\n"
          ]
        },
        {
          "name": "stderr",
          "output_type": "stream",
          "text": [
            "WARNING:absl:You are saving your model as an HDF5 file via `model.save()` or `keras.saving.save_model(model)`. This file format is considered legacy. We recommend using instead the native Keras format, e.g. `model.save('my_model.keras')` or `keras.saving.save_model(model, 'my_model.keras')`. \n"
          ]
        },
        {
          "name": "stdout",
          "output_type": "stream",
          "text": [
            "352/352 - 21s - 59ms/step - accuracy: 0.6867 - loss: 0.8865 - val_accuracy: 0.6938 - val_loss: 0.8856 - learning_rate: 1.0000e-03\n",
            "Epoch 15/50\n"
          ]
        },
        {
          "name": "stderr",
          "output_type": "stream",
          "text": [
            "WARNING:absl:You are saving your model as an HDF5 file via `model.save()` or `keras.saving.save_model(model)`. This file format is considered legacy. We recommend using instead the native Keras format, e.g. `model.save('my_model.keras')` or `keras.saving.save_model(model, 'my_model.keras')`. \n"
          ]
        },
        {
          "name": "stdout",
          "output_type": "stream",
          "text": [
            "352/352 - 21s - 60ms/step - accuracy: 0.6927 - loss: 0.8685 - val_accuracy: 0.7052 - val_loss: 0.8752 - learning_rate: 1.0000e-03\n",
            "Epoch 16/50\n"
          ]
        },
        {
          "name": "stderr",
          "output_type": "stream",
          "text": [
            "WARNING:absl:You are saving your model as an HDF5 file via `model.save()` or `keras.saving.save_model(model)`. This file format is considered legacy. We recommend using instead the native Keras format, e.g. `model.save('my_model.keras')` or `keras.saving.save_model(model, 'my_model.keras')`. \n"
          ]
        },
        {
          "name": "stdout",
          "output_type": "stream",
          "text": [
            "352/352 - 22s - 62ms/step - accuracy: 0.7026 - loss: 0.8438 - val_accuracy: 0.7154 - val_loss: 0.8221 - learning_rate: 1.0000e-03\n",
            "Epoch 17/50\n",
            "352/352 - 21s - 61ms/step - accuracy: 0.7137 - loss: 0.8163 - val_accuracy: 0.7056 - val_loss: 0.8748 - learning_rate: 1.0000e-03\n",
            "Epoch 18/50\n"
          ]
        },
        {
          "name": "stderr",
          "output_type": "stream",
          "text": [
            "WARNING:absl:You are saving your model as an HDF5 file via `model.save()` or `keras.saving.save_model(model)`. This file format is considered legacy. We recommend using instead the native Keras format, e.g. `model.save('my_model.keras')` or `keras.saving.save_model(model, 'my_model.keras')`. \n"
          ]
        },
        {
          "name": "stdout",
          "output_type": "stream",
          "text": [
            "352/352 - 21s - 61ms/step - accuracy: 0.7162 - loss: 0.8082 - val_accuracy: 0.7224 - val_loss: 0.8041 - learning_rate: 1.0000e-03\n",
            "Epoch 19/50\n",
            "352/352 - 21s - 59ms/step - accuracy: 0.7223 - loss: 0.7884 - val_accuracy: 0.6922 - val_loss: 0.9078 - learning_rate: 1.0000e-03\n",
            "Epoch 20/50\n",
            "352/352 - 21s - 60ms/step - accuracy: 0.7296 - loss: 0.7663 - val_accuracy: 0.7126 - val_loss: 0.8569 - learning_rate: 1.0000e-03\n",
            "Epoch 21/50\n",
            "352/352 - 22s - 61ms/step - accuracy: 0.7367 - loss: 0.7447 - val_accuracy: 0.7050 - val_loss: 0.8921 - learning_rate: 1.0000e-03\n",
            "Epoch 22/50\n"
          ]
        },
        {
          "name": "stderr",
          "output_type": "stream",
          "text": [
            "WARNING:absl:You are saving your model as an HDF5 file via `model.save()` or `keras.saving.save_model(model)`. This file format is considered legacy. We recommend using instead the native Keras format, e.g. `model.save('my_model.keras')` or `keras.saving.save_model(model, 'my_model.keras')`. \n"
          ]
        },
        {
          "name": "stdout",
          "output_type": "stream",
          "text": [
            "352/352 - 21s - 60ms/step - accuracy: 0.7552 - loss: 0.6968 - val_accuracy: 0.7384 - val_loss: 0.7730 - learning_rate: 5.0000e-04\n",
            "Epoch 23/50\n"
          ]
        },
        {
          "name": "stderr",
          "output_type": "stream",
          "text": [
            "WARNING:absl:You are saving your model as an HDF5 file via `model.save()` or `keras.saving.save_model(model)`. This file format is considered legacy. We recommend using instead the native Keras format, e.g. `model.save('my_model.keras')` or `keras.saving.save_model(model, 'my_model.keras')`. \n"
          ]
        },
        {
          "name": "stdout",
          "output_type": "stream",
          "text": [
            "352/352 - 22s - 63ms/step - accuracy: 0.7646 - loss: 0.6730 - val_accuracy: 0.7694 - val_loss: 0.6755 - learning_rate: 5.0000e-04\n",
            "Epoch 24/50\n",
            "352/352 - 22s - 62ms/step - accuracy: 0.7673 - loss: 0.6634 - val_accuracy: 0.7420 - val_loss: 0.7589 - learning_rate: 5.0000e-04\n",
            "Epoch 25/50\n",
            "352/352 - 22s - 61ms/step - accuracy: 0.7678 - loss: 0.6633 - val_accuracy: 0.7592 - val_loss: 0.7003 - learning_rate: 5.0000e-04\n",
            "Epoch 26/50\n",
            "352/352 - 21s - 60ms/step - accuracy: 0.7699 - loss: 0.6564 - val_accuracy: 0.7618 - val_loss: 0.6826 - learning_rate: 5.0000e-04\n",
            "Epoch 27/50\n",
            "352/352 - 21s - 60ms/step - accuracy: 0.7842 - loss: 0.6115 - val_accuracy: 0.7632 - val_loss: 0.6911 - learning_rate: 2.5000e-04\n",
            "Epoch 28/50\n"
          ]
        },
        {
          "name": "stderr",
          "output_type": "stream",
          "text": [
            "WARNING:absl:You are saving your model as an HDF5 file via `model.save()` or `keras.saving.save_model(model)`. This file format is considered legacy. We recommend using instead the native Keras format, e.g. `model.save('my_model.keras')` or `keras.saving.save_model(model, 'my_model.keras')`. \n"
          ]
        },
        {
          "name": "stdout",
          "output_type": "stream",
          "text": [
            "352/352 - 21s - 60ms/step - accuracy: 0.7833 - loss: 0.6125 - val_accuracy: 0.7802 - val_loss: 0.6362 - learning_rate: 2.5000e-04\n",
            "Epoch 29/50\n",
            "352/352 - 21s - 60ms/step - accuracy: 0.7858 - loss: 0.6096 - val_accuracy: 0.7660 - val_loss: 0.6750 - learning_rate: 2.5000e-04\n",
            "Epoch 30/50\n",
            "352/352 - 21s - 60ms/step - accuracy: 0.7894 - loss: 0.6021 - val_accuracy: 0.7698 - val_loss: 0.6727 - learning_rate: 2.5000e-04\n",
            "Epoch 31/50\n",
            "352/352 - 22s - 62ms/step - accuracy: 0.7895 - loss: 0.6013 - val_accuracy: 0.7732 - val_loss: 0.6533 - learning_rate: 2.5000e-04\n",
            "Epoch 32/50\n",
            "352/352 - 21s - 59ms/step - accuracy: 0.7995 - loss: 0.5759 - val_accuracy: 0.7758 - val_loss: 0.6555 - learning_rate: 1.2500e-04\n",
            "Epoch 33/50\n",
            "352/352 - 21s - 59ms/step - accuracy: 0.7999 - loss: 0.5767 - val_accuracy: 0.7760 - val_loss: 0.6483 - learning_rate: 1.2500e-04\n",
            "Epoch 34/50\n",
            "352/352 - 21s - 61ms/step - accuracy: 0.7979 - loss: 0.5754 - val_accuracy: 0.7802 - val_loss: 0.6395 - learning_rate: 1.2500e-04\n"
          ]
        },
        {
          "name": "stderr",
          "output_type": "stream",
          "text": [
            "WARNING:absl:Compiled the loaded model, but the compiled metrics have yet to be built. `model.compile_metrics` will be empty until you train or evaluate the model.\n"
          ]
        },
        {
          "name": "stdout",
          "output_type": "stream",
          "text": [
            "\u001b[1m79/79\u001b[0m \u001b[32m━━━━━━━━━━━━━━━━━━━━\u001b[0m\u001b[37m\u001b[0m \u001b[1m1s\u001b[0m 16ms/step\n",
            "Epoch 1/50\n"
          ]
        },
        {
          "name": "stderr",
          "output_type": "stream",
          "text": [
            "WARNING:absl:You are saving your model as an HDF5 file via `model.save()` or `keras.saving.save_model(model)`. This file format is considered legacy. We recommend using instead the native Keras format, e.g. `model.save('my_model.keras')` or `keras.saving.save_model(model, 'my_model.keras')`. \n"
          ]
        },
        {
          "name": "stdout",
          "output_type": "stream",
          "text": [
            "352/352 - 25s - 71ms/step - accuracy: 0.2834 - loss: 1.8940 - val_accuracy: 0.3724 - val_loss: 1.6785 - learning_rate: 1.0000e-03\n",
            "Epoch 2/50\n"
          ]
        },
        {
          "name": "stderr",
          "output_type": "stream",
          "text": [
            "WARNING:absl:You are saving your model as an HDF5 file via `model.save()` or `keras.saving.save_model(model)`. This file format is considered legacy. We recommend using instead the native Keras format, e.g. `model.save('my_model.keras')` or `keras.saving.save_model(model, 'my_model.keras')`. \n"
          ]
        },
        {
          "name": "stdout",
          "output_type": "stream",
          "text": [
            "352/352 - 24s - 68ms/step - accuracy: 0.4156 - loss: 1.5841 - val_accuracy: 0.4308 - val_loss: 1.5092 - learning_rate: 1.0000e-03\n",
            "Epoch 3/50\n"
          ]
        },
        {
          "name": "stderr",
          "output_type": "stream",
          "text": [
            "WARNING:absl:You are saving your model as an HDF5 file via `model.save()` or `keras.saving.save_model(model)`. This file format is considered legacy. We recommend using instead the native Keras format, e.g. `model.save('my_model.keras')` or `keras.saving.save_model(model, 'my_model.keras')`. \n"
          ]
        },
        {
          "name": "stdout",
          "output_type": "stream",
          "text": [
            "352/352 - 23s - 66ms/step - accuracy: 0.4808 - loss: 1.4093 - val_accuracy: 0.5208 - val_loss: 1.3105 - learning_rate: 1.0000e-03\n",
            "Epoch 4/50\n"
          ]
        },
        {
          "name": "stderr",
          "output_type": "stream",
          "text": [
            "WARNING:absl:You are saving your model as an HDF5 file via `model.save()` or `keras.saving.save_model(model)`. This file format is considered legacy. We recommend using instead the native Keras format, e.g. `model.save('my_model.keras')` or `keras.saving.save_model(model, 'my_model.keras')`. \n"
          ]
        },
        {
          "name": "stdout",
          "output_type": "stream",
          "text": [
            "352/352 - 24s - 67ms/step - accuracy: 0.5250 - loss: 1.3050 - val_accuracy: 0.5412 - val_loss: 1.2465 - learning_rate: 1.0000e-03\n",
            "Epoch 5/50\n"
          ]
        },
        {
          "name": "stderr",
          "output_type": "stream",
          "text": [
            "WARNING:absl:You are saving your model as an HDF5 file via `model.save()` or `keras.saving.save_model(model)`. This file format is considered legacy. We recommend using instead the native Keras format, e.g. `model.save('my_model.keras')` or `keras.saving.save_model(model, 'my_model.keras')`. \n"
          ]
        },
        {
          "name": "stdout",
          "output_type": "stream",
          "text": [
            "352/352 - 23s - 66ms/step - accuracy: 0.5528 - loss: 1.2356 - val_accuracy: 0.5722 - val_loss: 1.1791 - learning_rate: 1.0000e-03\n",
            "Epoch 6/50\n",
            "352/352 - 22s - 62ms/step - accuracy: 0.5730 - loss: 1.1799 - val_accuracy: 0.5820 - val_loss: 1.1798 - learning_rate: 1.0000e-03\n",
            "Epoch 7/50\n"
          ]
        },
        {
          "name": "stderr",
          "output_type": "stream",
          "text": [
            "WARNING:absl:You are saving your model as an HDF5 file via `model.save()` or `keras.saving.save_model(model)`. This file format is considered legacy. We recommend using instead the native Keras format, e.g. `model.save('my_model.keras')` or `keras.saving.save_model(model, 'my_model.keras')`. \n"
          ]
        },
        {
          "name": "stdout",
          "output_type": "stream",
          "text": [
            "352/352 - 24s - 68ms/step - accuracy: 0.5924 - loss: 1.1301 - val_accuracy: 0.6192 - val_loss: 1.0685 - learning_rate: 1.0000e-03\n",
            "Epoch 8/50\n",
            "352/352 - 23s - 65ms/step - accuracy: 0.6123 - loss: 1.0782 - val_accuracy: 0.6144 - val_loss: 1.0704 - learning_rate: 1.0000e-03\n",
            "Epoch 9/50\n"
          ]
        },
        {
          "name": "stderr",
          "output_type": "stream",
          "text": [
            "WARNING:absl:You are saving your model as an HDF5 file via `model.save()` or `keras.saving.save_model(model)`. This file format is considered legacy. We recommend using instead the native Keras format, e.g. `model.save('my_model.keras')` or `keras.saving.save_model(model, 'my_model.keras')`. \n"
          ]
        },
        {
          "name": "stdout",
          "output_type": "stream",
          "text": [
            "352/352 - 23s - 64ms/step - accuracy: 0.6267 - loss: 1.0410 - val_accuracy: 0.6338 - val_loss: 1.0523 - learning_rate: 1.0000e-03\n",
            "Epoch 10/50\n"
          ]
        },
        {
          "name": "stderr",
          "output_type": "stream",
          "text": [
            "WARNING:absl:You are saving your model as an HDF5 file via `model.save()` or `keras.saving.save_model(model)`. This file format is considered legacy. We recommend using instead the native Keras format, e.g. `model.save('my_model.keras')` or `keras.saving.save_model(model, 'my_model.keras')`. \n"
          ]
        },
        {
          "name": "stdout",
          "output_type": "stream",
          "text": [
            "352/352 - 22s - 61ms/step - accuracy: 0.6392 - loss: 1.0070 - val_accuracy: 0.6408 - val_loss: 1.0189 - learning_rate: 1.0000e-03\n",
            "Epoch 11/50\n"
          ]
        },
        {
          "name": "stderr",
          "output_type": "stream",
          "text": [
            "WARNING:absl:You are saving your model as an HDF5 file via `model.save()` or `keras.saving.save_model(model)`. This file format is considered legacy. We recommend using instead the native Keras format, e.g. `model.save('my_model.keras')` or `keras.saving.save_model(model, 'my_model.keras')`. \n"
          ]
        },
        {
          "name": "stdout",
          "output_type": "stream",
          "text": [
            "352/352 - 27s - 76ms/step - accuracy: 0.6530 - loss: 0.9710 - val_accuracy: 0.6676 - val_loss: 0.9538 - learning_rate: 1.0000e-03\n",
            "Epoch 12/50\n",
            "352/352 - 23s - 65ms/step - accuracy: 0.6621 - loss: 0.9491 - val_accuracy: 0.6590 - val_loss: 0.9868 - learning_rate: 1.0000e-03\n",
            "Epoch 13/50\n",
            "352/352 - 22s - 61ms/step - accuracy: 0.6713 - loss: 0.9259 - val_accuracy: 0.6678 - val_loss: 0.9577 - learning_rate: 1.0000e-03\n",
            "Epoch 14/50\n",
            "352/352 - 23s - 64ms/step - accuracy: 0.6805 - loss: 0.8973 - val_accuracy: 0.6586 - val_loss: 0.9699 - learning_rate: 1.0000e-03\n",
            "Epoch 15/50\n"
          ]
        },
        {
          "name": "stderr",
          "output_type": "stream",
          "text": [
            "WARNING:absl:You are saving your model as an HDF5 file via `model.save()` or `keras.saving.save_model(model)`. This file format is considered legacy. We recommend using instead the native Keras format, e.g. `model.save('my_model.keras')` or `keras.saving.save_model(model, 'my_model.keras')`. \n"
          ]
        },
        {
          "name": "stdout",
          "output_type": "stream",
          "text": [
            "352/352 - 24s - 68ms/step - accuracy: 0.7045 - loss: 0.8345 - val_accuracy: 0.6984 - val_loss: 0.8894 - learning_rate: 5.0000e-04\n",
            "Epoch 16/50\n",
            "352/352 - 23s - 65ms/step - accuracy: 0.7109 - loss: 0.8190 - val_accuracy: 0.6868 - val_loss: 0.9250 - learning_rate: 5.0000e-04\n",
            "Epoch 17/50\n"
          ]
        },
        {
          "name": "stderr",
          "output_type": "stream",
          "text": [
            "WARNING:absl:You are saving your model as an HDF5 file via `model.save()` or `keras.saving.save_model(model)`. This file format is considered legacy. We recommend using instead the native Keras format, e.g. `model.save('my_model.keras')` or `keras.saving.save_model(model, 'my_model.keras')`. \n"
          ]
        },
        {
          "name": "stdout",
          "output_type": "stream",
          "text": [
            "352/352 - 24s - 68ms/step - accuracy: 0.7170 - loss: 0.8032 - val_accuracy: 0.7000 - val_loss: 0.8868 - learning_rate: 5.0000e-04\n",
            "Epoch 18/50\n"
          ]
        },
        {
          "name": "stderr",
          "output_type": "stream",
          "text": [
            "WARNING:absl:You are saving your model as an HDF5 file via `model.save()` or `keras.saving.save_model(model)`. This file format is considered legacy. We recommend using instead the native Keras format, e.g. `model.save('my_model.keras')` or `keras.saving.save_model(model, 'my_model.keras')`. \n"
          ]
        },
        {
          "name": "stdout",
          "output_type": "stream",
          "text": [
            "352/352 - 23s - 66ms/step - accuracy: 0.7214 - loss: 0.7903 - val_accuracy: 0.7074 - val_loss: 0.8686 - learning_rate: 5.0000e-04\n",
            "Epoch 19/50\n"
          ]
        },
        {
          "name": "stderr",
          "output_type": "stream",
          "text": [
            "WARNING:absl:You are saving your model as an HDF5 file via `model.save()` or `keras.saving.save_model(model)`. This file format is considered legacy. We recommend using instead the native Keras format, e.g. `model.save('my_model.keras')` or `keras.saving.save_model(model, 'my_model.keras')`. \n"
          ]
        },
        {
          "name": "stdout",
          "output_type": "stream",
          "text": [
            "352/352 - 23s - 67ms/step - accuracy: 0.7254 - loss: 0.7775 - val_accuracy: 0.7308 - val_loss: 0.7778 - learning_rate: 5.0000e-04\n",
            "Epoch 20/50\n",
            "352/352 - 21s - 61ms/step - accuracy: 0.7286 - loss: 0.7673 - val_accuracy: 0.6978 - val_loss: 0.8927 - learning_rate: 5.0000e-04\n",
            "Epoch 21/50\n"
          ]
        },
        {
          "name": "stderr",
          "output_type": "stream",
          "text": [
            "WARNING:absl:You are saving your model as an HDF5 file via `model.save()` or `keras.saving.save_model(model)`. This file format is considered legacy. We recommend using instead the native Keras format, e.g. `model.save('my_model.keras')` or `keras.saving.save_model(model, 'my_model.keras')`. \n"
          ]
        },
        {
          "name": "stdout",
          "output_type": "stream",
          "text": [
            "352/352 - 21s - 60ms/step - accuracy: 0.7325 - loss: 0.7559 - val_accuracy: 0.7382 - val_loss: 0.7649 - learning_rate: 5.0000e-04\n",
            "Epoch 22/50\n"
          ]
        },
        {
          "name": "stderr",
          "output_type": "stream",
          "text": [
            "WARNING:absl:You are saving your model as an HDF5 file via `model.save()` or `keras.saving.save_model(model)`. This file format is considered legacy. We recommend using instead the native Keras format, e.g. `model.save('my_model.keras')` or `keras.saving.save_model(model, 'my_model.keras')`. \n"
          ]
        },
        {
          "name": "stdout",
          "output_type": "stream",
          "text": [
            "352/352 - 22s - 62ms/step - accuracy: 0.7375 - loss: 0.7456 - val_accuracy: 0.7454 - val_loss: 0.7542 - learning_rate: 5.0000e-04\n",
            "Epoch 23/50\n",
            "352/352 - 21s - 60ms/step - accuracy: 0.7408 - loss: 0.7322 - val_accuracy: 0.7310 - val_loss: 0.8083 - learning_rate: 5.0000e-04\n",
            "Epoch 24/50\n",
            "352/352 - 21s - 60ms/step - accuracy: 0.7444 - loss: 0.7251 - val_accuracy: 0.7444 - val_loss: 0.7550 - learning_rate: 5.0000e-04\n",
            "Epoch 25/50\n",
            "352/352 - 21s - 61ms/step - accuracy: 0.7486 - loss: 0.7134 - val_accuracy: 0.7346 - val_loss: 0.7854 - learning_rate: 5.0000e-04\n",
            "Epoch 26/50\n"
          ]
        },
        {
          "name": "stderr",
          "output_type": "stream",
          "text": [
            "WARNING:absl:You are saving your model as an HDF5 file via `model.save()` or `keras.saving.save_model(model)`. This file format is considered legacy. We recommend using instead the native Keras format, e.g. `model.save('my_model.keras')` or `keras.saving.save_model(model, 'my_model.keras')`. \n"
          ]
        },
        {
          "name": "stdout",
          "output_type": "stream",
          "text": [
            "352/352 - 21s - 60ms/step - accuracy: 0.7620 - loss: 0.6757 - val_accuracy: 0.7418 - val_loss: 0.7505 - learning_rate: 2.5000e-04\n",
            "Epoch 27/50\n"
          ]
        },
        {
          "name": "stderr",
          "output_type": "stream",
          "text": [
            "WARNING:absl:You are saving your model as an HDF5 file via `model.save()` or `keras.saving.save_model(model)`. This file format is considered legacy. We recommend using instead the native Keras format, e.g. `model.save('my_model.keras')` or `keras.saving.save_model(model, 'my_model.keras')`. \n"
          ]
        },
        {
          "name": "stdout",
          "output_type": "stream",
          "text": [
            "352/352 - 23s - 64ms/step - accuracy: 0.7653 - loss: 0.6702 - val_accuracy: 0.7542 - val_loss: 0.7244 - learning_rate: 2.5000e-04\n",
            "Epoch 28/50\n"
          ]
        },
        {
          "name": "stderr",
          "output_type": "stream",
          "text": [
            "WARNING:absl:You are saving your model as an HDF5 file via `model.save()` or `keras.saving.save_model(model)`. This file format is considered legacy. We recommend using instead the native Keras format, e.g. `model.save('my_model.keras')` or `keras.saving.save_model(model, 'my_model.keras')`. \n"
          ]
        },
        {
          "name": "stdout",
          "output_type": "stream",
          "text": [
            "352/352 - 23s - 65ms/step - accuracy: 0.7656 - loss: 0.6682 - val_accuracy: 0.7576 - val_loss: 0.7143 - learning_rate: 2.5000e-04\n",
            "Epoch 29/50\n",
            "352/352 - 23s - 66ms/step - accuracy: 0.7676 - loss: 0.6608 - val_accuracy: 0.7518 - val_loss: 0.7363 - learning_rate: 2.5000e-04\n",
            "Epoch 30/50\n",
            "352/352 - 22s - 63ms/step - accuracy: 0.7702 - loss: 0.6545 - val_accuracy: 0.7512 - val_loss: 0.7247 - learning_rate: 2.5000e-04\n",
            "Epoch 31/50\n",
            "352/352 - 22s - 63ms/step - accuracy: 0.7703 - loss: 0.6508 - val_accuracy: 0.7488 - val_loss: 0.7390 - learning_rate: 2.5000e-04\n",
            "Epoch 32/50\n"
          ]
        },
        {
          "name": "stderr",
          "output_type": "stream",
          "text": [
            "WARNING:absl:You are saving your model as an HDF5 file via `model.save()` or `keras.saving.save_model(model)`. This file format is considered legacy. We recommend using instead the native Keras format, e.g. `model.save('my_model.keras')` or `keras.saving.save_model(model, 'my_model.keras')`. \n"
          ]
        },
        {
          "name": "stdout",
          "output_type": "stream",
          "text": [
            "352/352 - 22s - 62ms/step - accuracy: 0.7779 - loss: 0.6277 - val_accuracy: 0.7582 - val_loss: 0.6991 - learning_rate: 1.2500e-04\n",
            "Epoch 33/50\n"
          ]
        },
        {
          "name": "stderr",
          "output_type": "stream",
          "text": [
            "WARNING:absl:You are saving your model as an HDF5 file via `model.save()` or `keras.saving.save_model(model)`. This file format is considered legacy. We recommend using instead the native Keras format, e.g. `model.save('my_model.keras')` or `keras.saving.save_model(model, 'my_model.keras')`. \n"
          ]
        },
        {
          "name": "stdout",
          "output_type": "stream",
          "text": [
            "352/352 - 22s - 61ms/step - accuracy: 0.7807 - loss: 0.6286 - val_accuracy: 0.7628 - val_loss: 0.6967 - learning_rate: 1.2500e-04\n",
            "Epoch 34/50\n",
            "352/352 - 21s - 60ms/step - accuracy: 0.7824 - loss: 0.6236 - val_accuracy: 0.7450 - val_loss: 0.7517 - learning_rate: 1.2500e-04\n",
            "Epoch 35/50\n",
            "352/352 - 23s - 65ms/step - accuracy: 0.7816 - loss: 0.6214 - val_accuracy: 0.7554 - val_loss: 0.7197 - learning_rate: 1.2500e-04\n",
            "Epoch 36/50\n",
            "352/352 - 22s - 63ms/step - accuracy: 0.7836 - loss: 0.6166 - val_accuracy: 0.7598 - val_loss: 0.7280 - learning_rate: 1.2500e-04\n",
            "Epoch 37/50\n",
            "352/352 - 22s - 63ms/step - accuracy: 0.7862 - loss: 0.6094 - val_accuracy: 0.7648 - val_loss: 0.7017 - learning_rate: 6.2500e-05\n",
            "Epoch 38/50\n"
          ]
        },
        {
          "name": "stderr",
          "output_type": "stream",
          "text": [
            "WARNING:absl:You are saving your model as an HDF5 file via `model.save()` or `keras.saving.save_model(model)`. This file format is considered legacy. We recommend using instead the native Keras format, e.g. `model.save('my_model.keras')` or `keras.saving.save_model(model, 'my_model.keras')`. \n"
          ]
        },
        {
          "name": "stdout",
          "output_type": "stream",
          "text": [
            "352/352 - 23s - 65ms/step - accuracy: 0.7879 - loss: 0.6051 - val_accuracy: 0.7674 - val_loss: 0.6865 - learning_rate: 6.2500e-05\n",
            "Epoch 39/50\n",
            "352/352 - 22s - 63ms/step - accuracy: 0.7881 - loss: 0.6009 - val_accuracy: 0.7654 - val_loss: 0.7041 - learning_rate: 6.2500e-05\n",
            "Epoch 40/50\n",
            "352/352 - 21s - 60ms/step - accuracy: 0.7874 - loss: 0.6076 - val_accuracy: 0.7660 - val_loss: 0.6884 - learning_rate: 6.2500e-05\n",
            "Epoch 41/50\n"
          ]
        },
        {
          "name": "stderr",
          "output_type": "stream",
          "text": [
            "WARNING:absl:You are saving your model as an HDF5 file via `model.save()` or `keras.saving.save_model(model)`. This file format is considered legacy. We recommend using instead the native Keras format, e.g. `model.save('my_model.keras')` or `keras.saving.save_model(model, 'my_model.keras')`. \n"
          ]
        },
        {
          "name": "stdout",
          "output_type": "stream",
          "text": [
            "352/352 - 21s - 60ms/step - accuracy: 0.7862 - loss: 0.6026 - val_accuracy: 0.7678 - val_loss: 0.6857 - learning_rate: 6.2500e-05\n",
            "Epoch 42/50\n"
          ]
        },
        {
          "name": "stderr",
          "output_type": "stream",
          "text": [
            "WARNING:absl:You are saving your model as an HDF5 file via `model.save()` or `keras.saving.save_model(model)`. This file format is considered legacy. We recommend using instead the native Keras format, e.g. `model.save('my_model.keras')` or `keras.saving.save_model(model, 'my_model.keras')`. \n"
          ]
        },
        {
          "name": "stdout",
          "output_type": "stream",
          "text": [
            "352/352 - 21s - 59ms/step - accuracy: 0.7860 - loss: 0.6035 - val_accuracy: 0.7734 - val_loss: 0.6770 - learning_rate: 6.2500e-05\n",
            "Epoch 43/50\n",
            "352/352 - 21s - 61ms/step - accuracy: 0.7883 - loss: 0.6001 - val_accuracy: 0.7690 - val_loss: 0.6925 - learning_rate: 6.2500e-05\n",
            "Epoch 44/50\n",
            "352/352 - 21s - 60ms/step - accuracy: 0.7910 - loss: 0.5989 - val_accuracy: 0.7594 - val_loss: 0.7150 - learning_rate: 6.2500e-05\n",
            "Epoch 45/50\n",
            "352/352 - 21s - 60ms/step - accuracy: 0.7921 - loss: 0.5955 - val_accuracy: 0.7606 - val_loss: 0.7012 - learning_rate: 6.2500e-05\n",
            "Epoch 46/50\n",
            "352/352 - 21s - 59ms/step - accuracy: 0.7927 - loss: 0.5901 - val_accuracy: 0.7682 - val_loss: 0.6858 - learning_rate: 3.1250e-05\n",
            "Epoch 47/50\n",
            "352/352 - 22s - 61ms/step - accuracy: 0.7929 - loss: 0.5880 - val_accuracy: 0.7666 - val_loss: 0.6892 - learning_rate: 3.1250e-05\n",
            "Epoch 48/50\n",
            "352/352 - 22s - 63ms/step - accuracy: 0.7940 - loss: 0.5875 - val_accuracy: 0.7670 - val_loss: 0.6870 - learning_rate: 3.1250e-05\n"
          ]
        },
        {
          "name": "stderr",
          "output_type": "stream",
          "text": [
            "WARNING:absl:Compiled the loaded model, but the compiled metrics have yet to be built. `model.compile_metrics` will be empty until you train or evaluate the model.\n"
          ]
        },
        {
          "name": "stdout",
          "output_type": "stream",
          "text": [
            "\u001b[1m79/79\u001b[0m \u001b[32m━━━━━━━━━━━━━━━━━━━━\u001b[0m\u001b[37m\u001b[0m \u001b[1m1s\u001b[0m 16ms/step\n",
            "Epoch 1/50\n"
          ]
        },
        {
          "name": "stderr",
          "output_type": "stream",
          "text": [
            "WARNING:absl:You are saving your model as an HDF5 file via `model.save()` or `keras.saving.save_model(model)`. This file format is considered legacy. We recommend using instead the native Keras format, e.g. `model.save('my_model.keras')` or `keras.saving.save_model(model, 'my_model.keras')`. \n"
          ]
        },
        {
          "name": "stdout",
          "output_type": "stream",
          "text": [
            "352/352 - 23s - 66ms/step - accuracy: 0.2755 - loss: 1.9135 - val_accuracy: 0.3932 - val_loss: 1.6043 - learning_rate: 1.0000e-03\n",
            "Epoch 2/50\n"
          ]
        },
        {
          "name": "stderr",
          "output_type": "stream",
          "text": [
            "WARNING:absl:You are saving your model as an HDF5 file via `model.save()` or `keras.saving.save_model(model)`. This file format is considered legacy. We recommend using instead the native Keras format, e.g. `model.save('my_model.keras')` or `keras.saving.save_model(model, 'my_model.keras')`. \n"
          ]
        },
        {
          "name": "stdout",
          "output_type": "stream",
          "text": [
            "352/352 - 25s - 71ms/step - accuracy: 0.4126 - loss: 1.5771 - val_accuracy: 0.4486 - val_loss: 1.4711 - learning_rate: 1.0000e-03\n",
            "Epoch 3/50\n"
          ]
        },
        {
          "name": "stderr",
          "output_type": "stream",
          "text": [
            "WARNING:absl:You are saving your model as an HDF5 file via `model.save()` or `keras.saving.save_model(model)`. This file format is considered legacy. We recommend using instead the native Keras format, e.g. `model.save('my_model.keras')` or `keras.saving.save_model(model, 'my_model.keras')`. \n"
          ]
        },
        {
          "name": "stdout",
          "output_type": "stream",
          "text": [
            "352/352 - 22s - 64ms/step - accuracy: 0.4768 - loss: 1.4305 - val_accuracy: 0.5004 - val_loss: 1.3642 - learning_rate: 1.0000e-03\n",
            "Epoch 4/50\n"
          ]
        },
        {
          "name": "stderr",
          "output_type": "stream",
          "text": [
            "WARNING:absl:You are saving your model as an HDF5 file via `model.save()` or `keras.saving.save_model(model)`. This file format is considered legacy. We recommend using instead the native Keras format, e.g. `model.save('my_model.keras')` or `keras.saving.save_model(model, 'my_model.keras')`. \n"
          ]
        },
        {
          "name": "stdout",
          "output_type": "stream",
          "text": [
            "352/352 - 22s - 62ms/step - accuracy: 0.5211 - loss: 1.3153 - val_accuracy: 0.5540 - val_loss: 1.2139 - learning_rate: 1.0000e-03\n",
            "Epoch 5/50\n",
            "352/352 - 22s - 63ms/step - accuracy: 0.5590 - loss: 1.2216 - val_accuracy: 0.5670 - val_loss: 1.2258 - learning_rate: 1.0000e-03\n",
            "Epoch 6/50\n"
          ]
        },
        {
          "name": "stderr",
          "output_type": "stream",
          "text": [
            "WARNING:absl:You are saving your model as an HDF5 file via `model.save()` or `keras.saving.save_model(model)`. This file format is considered legacy. We recommend using instead the native Keras format, e.g. `model.save('my_model.keras')` or `keras.saving.save_model(model, 'my_model.keras')`. \n"
          ]
        },
        {
          "name": "stdout",
          "output_type": "stream",
          "text": [
            "352/352 - 22s - 61ms/step - accuracy: 0.5875 - loss: 1.1523 - val_accuracy: 0.6034 - val_loss: 1.1032 - learning_rate: 1.0000e-03\n",
            "Epoch 7/50\n",
            "352/352 - 22s - 63ms/step - accuracy: 0.6067 - loss: 1.1040 - val_accuracy: 0.6030 - val_loss: 1.1576 - learning_rate: 1.0000e-03\n",
            "Epoch 8/50\n",
            "352/352 - 22s - 63ms/step - accuracy: 0.6226 - loss: 1.0638 - val_accuracy: 0.6024 - val_loss: 1.1743 - learning_rate: 1.0000e-03\n",
            "Epoch 9/50\n"
          ]
        },
        {
          "name": "stderr",
          "output_type": "stream",
          "text": [
            "WARNING:absl:You are saving your model as an HDF5 file via `model.save()` or `keras.saving.save_model(model)`. This file format is considered legacy. We recommend using instead the native Keras format, e.g. `model.save('my_model.keras')` or `keras.saving.save_model(model, 'my_model.keras')`. \n"
          ]
        },
        {
          "name": "stdout",
          "output_type": "stream",
          "text": [
            "352/352 - 22s - 61ms/step - accuracy: 0.6362 - loss: 1.0234 - val_accuracy: 0.6342 - val_loss: 1.0309 - learning_rate: 1.0000e-03\n",
            "Epoch 10/50\n",
            "352/352 - 22s - 61ms/step - accuracy: 0.6476 - loss: 0.9893 - val_accuracy: 0.6392 - val_loss: 1.0397 - learning_rate: 1.0000e-03\n",
            "Epoch 11/50\n"
          ]
        },
        {
          "name": "stderr",
          "output_type": "stream",
          "text": [
            "WARNING:absl:You are saving your model as an HDF5 file via `model.save()` or `keras.saving.save_model(model)`. This file format is considered legacy. We recommend using instead the native Keras format, e.g. `model.save('my_model.keras')` or `keras.saving.save_model(model, 'my_model.keras')`. \n"
          ]
        },
        {
          "name": "stdout",
          "output_type": "stream",
          "text": [
            "352/352 - 24s - 69ms/step - accuracy: 0.6558 - loss: 0.9703 - val_accuracy: 0.6622 - val_loss: 0.9498 - learning_rate: 1.0000e-03\n",
            "Epoch 12/50\n"
          ]
        },
        {
          "name": "stderr",
          "output_type": "stream",
          "text": [
            "WARNING:absl:You are saving your model as an HDF5 file via `model.save()` or `keras.saving.save_model(model)`. This file format is considered legacy. We recommend using instead the native Keras format, e.g. `model.save('my_model.keras')` or `keras.saving.save_model(model, 'my_model.keras')`. \n"
          ]
        },
        {
          "name": "stdout",
          "output_type": "stream",
          "text": [
            "352/352 - 23s - 65ms/step - accuracy: 0.6673 - loss: 0.9391 - val_accuracy: 0.6748 - val_loss: 0.9256 - learning_rate: 1.0000e-03\n",
            "Epoch 13/50\n"
          ]
        },
        {
          "name": "stderr",
          "output_type": "stream",
          "text": [
            "WARNING:absl:You are saving your model as an HDF5 file via `model.save()` or `keras.saving.save_model(model)`. This file format is considered legacy. We recommend using instead the native Keras format, e.g. `model.save('my_model.keras')` or `keras.saving.save_model(model, 'my_model.keras')`. \n"
          ]
        },
        {
          "name": "stdout",
          "output_type": "stream",
          "text": [
            "352/352 - 23s - 66ms/step - accuracy: 0.6777 - loss: 0.9172 - val_accuracy: 0.6832 - val_loss: 0.9025 - learning_rate: 1.0000e-03\n",
            "Epoch 14/50\n",
            "352/352 - 23s - 66ms/step - accuracy: 0.6838 - loss: 0.8962 - val_accuracy: 0.6554 - val_loss: 1.0061 - learning_rate: 1.0000e-03\n",
            "Epoch 15/50\n"
          ]
        },
        {
          "name": "stderr",
          "output_type": "stream",
          "text": [
            "WARNING:absl:You are saving your model as an HDF5 file via `model.save()` or `keras.saving.save_model(model)`. This file format is considered legacy. We recommend using instead the native Keras format, e.g. `model.save('my_model.keras')` or `keras.saving.save_model(model, 'my_model.keras')`. \n"
          ]
        },
        {
          "name": "stdout",
          "output_type": "stream",
          "text": [
            "352/352 - 23s - 65ms/step - accuracy: 0.6940 - loss: 0.8658 - val_accuracy: 0.6948 - val_loss: 0.8832 - learning_rate: 1.0000e-03\n",
            "Epoch 16/50\n"
          ]
        },
        {
          "name": "stderr",
          "output_type": "stream",
          "text": [
            "WARNING:absl:You are saving your model as an HDF5 file via `model.save()` or `keras.saving.save_model(model)`. This file format is considered legacy. We recommend using instead the native Keras format, e.g. `model.save('my_model.keras')` or `keras.saving.save_model(model, 'my_model.keras')`. \n"
          ]
        },
        {
          "name": "stdout",
          "output_type": "stream",
          "text": [
            "352/352 - 22s - 63ms/step - accuracy: 0.7033 - loss: 0.8518 - val_accuracy: 0.7002 - val_loss: 0.8622 - learning_rate: 1.0000e-03\n",
            "Epoch 17/50\n",
            "352/352 - 23s - 65ms/step - accuracy: 0.7106 - loss: 0.8246 - val_accuracy: 0.6666 - val_loss: 1.0065 - learning_rate: 1.0000e-03\n",
            "Epoch 18/50\n"
          ]
        },
        {
          "name": "stderr",
          "output_type": "stream",
          "text": [
            "WARNING:absl:You are saving your model as an HDF5 file via `model.save()` or `keras.saving.save_model(model)`. This file format is considered legacy. We recommend using instead the native Keras format, e.g. `model.save('my_model.keras')` or `keras.saving.save_model(model, 'my_model.keras')`. \n"
          ]
        },
        {
          "name": "stdout",
          "output_type": "stream",
          "text": [
            "352/352 - 23s - 65ms/step - accuracy: 0.7138 - loss: 0.8128 - val_accuracy: 0.7050 - val_loss: 0.8343 - learning_rate: 1.0000e-03\n",
            "Epoch 19/50\n",
            "352/352 - 23s - 66ms/step - accuracy: 0.7206 - loss: 0.7961 - val_accuracy: 0.7138 - val_loss: 0.8427 - learning_rate: 1.0000e-03\n",
            "Epoch 20/50\n"
          ]
        },
        {
          "name": "stderr",
          "output_type": "stream",
          "text": [
            "WARNING:absl:You are saving your model as an HDF5 file via `model.save()` or `keras.saving.save_model(model)`. This file format is considered legacy. We recommend using instead the native Keras format, e.g. `model.save('my_model.keras')` or `keras.saving.save_model(model, 'my_model.keras')`. \n"
          ]
        },
        {
          "name": "stdout",
          "output_type": "stream",
          "text": [
            "352/352 - 22s - 64ms/step - accuracy: 0.7290 - loss: 0.7711 - val_accuracy: 0.7384 - val_loss: 0.7530 - learning_rate: 1.0000e-03\n",
            "Epoch 21/50\n",
            "352/352 - 24s - 67ms/step - accuracy: 0.7320 - loss: 0.7643 - val_accuracy: 0.7348 - val_loss: 0.7841 - learning_rate: 1.0000e-03\n",
            "Epoch 22/50\n",
            "352/352 - 23s - 66ms/step - accuracy: 0.7408 - loss: 0.7427 - val_accuracy: 0.7112 - val_loss: 0.8802 - learning_rate: 1.0000e-03\n",
            "Epoch 23/50\n",
            "352/352 - 24s - 70ms/step - accuracy: 0.7455 - loss: 0.7269 - val_accuracy: 0.7394 - val_loss: 0.7809 - learning_rate: 1.0000e-03\n",
            "Epoch 24/50\n"
          ]
        },
        {
          "name": "stderr",
          "output_type": "stream",
          "text": [
            "WARNING:absl:You are saving your model as an HDF5 file via `model.save()` or `keras.saving.save_model(model)`. This file format is considered legacy. We recommend using instead the native Keras format, e.g. `model.save('my_model.keras')` or `keras.saving.save_model(model, 'my_model.keras')`. \n"
          ]
        },
        {
          "name": "stdout",
          "output_type": "stream",
          "text": [
            "352/352 - 23s - 66ms/step - accuracy: 0.7633 - loss: 0.6759 - val_accuracy: 0.7504 - val_loss: 0.7376 - learning_rate: 5.0000e-04\n",
            "Epoch 25/50\n"
          ]
        },
        {
          "name": "stderr",
          "output_type": "stream",
          "text": [
            "WARNING:absl:You are saving your model as an HDF5 file via `model.save()` or `keras.saving.save_model(model)`. This file format is considered legacy. We recommend using instead the native Keras format, e.g. `model.save('my_model.keras')` or `keras.saving.save_model(model, 'my_model.keras')`. \n"
          ]
        },
        {
          "name": "stdout",
          "output_type": "stream",
          "text": [
            "352/352 - 24s - 68ms/step - accuracy: 0.7674 - loss: 0.6658 - val_accuracy: 0.7538 - val_loss: 0.7149 - learning_rate: 5.0000e-04\n",
            "Epoch 26/50\n",
            "352/352 - 23s - 65ms/step - accuracy: 0.7707 - loss: 0.6528 - val_accuracy: 0.7392 - val_loss: 0.7832 - learning_rate: 5.0000e-04\n",
            "Epoch 27/50\n"
          ]
        },
        {
          "name": "stderr",
          "output_type": "stream",
          "text": [
            "WARNING:absl:You are saving your model as an HDF5 file via `model.save()` or `keras.saving.save_model(model)`. This file format is considered legacy. We recommend using instead the native Keras format, e.g. `model.save('my_model.keras')` or `keras.saving.save_model(model, 'my_model.keras')`. \n"
          ]
        },
        {
          "name": "stdout",
          "output_type": "stream",
          "text": [
            "352/352 - 24s - 68ms/step - accuracy: 0.7747 - loss: 0.6443 - val_accuracy: 0.7564 - val_loss: 0.6970 - learning_rate: 5.0000e-04\n",
            "Epoch 28/50\n",
            "352/352 - 24s - 68ms/step - accuracy: 0.7778 - loss: 0.6332 - val_accuracy: 0.7424 - val_loss: 0.7597 - learning_rate: 5.0000e-04\n",
            "Epoch 29/50\n",
            "352/352 - 23s - 65ms/step - accuracy: 0.7775 - loss: 0.6291 - val_accuracy: 0.7432 - val_loss: 0.7641 - learning_rate: 5.0000e-04\n",
            "Epoch 30/50\n"
          ]
        },
        {
          "name": "stderr",
          "output_type": "stream",
          "text": [
            "WARNING:absl:You are saving your model as an HDF5 file via `model.save()` or `keras.saving.save_model(model)`. This file format is considered legacy. We recommend using instead the native Keras format, e.g. `model.save('my_model.keras')` or `keras.saving.save_model(model, 'my_model.keras')`. \n"
          ]
        },
        {
          "name": "stdout",
          "output_type": "stream",
          "text": [
            "352/352 - 25s - 72ms/step - accuracy: 0.7808 - loss: 0.6221 - val_accuracy: 0.7674 - val_loss: 0.6791 - learning_rate: 5.0000e-04\n",
            "Epoch 31/50\n",
            "352/352 - 25s - 70ms/step - accuracy: 0.7863 - loss: 0.6090 - val_accuracy: 0.7652 - val_loss: 0.6880 - learning_rate: 5.0000e-04\n",
            "Epoch 32/50\n"
          ]
        },
        {
          "name": "stderr",
          "output_type": "stream",
          "text": [
            "WARNING:absl:You are saving your model as an HDF5 file via `model.save()` or `keras.saving.save_model(model)`. This file format is considered legacy. We recommend using instead the native Keras format, e.g. `model.save('my_model.keras')` or `keras.saving.save_model(model, 'my_model.keras')`. \n"
          ]
        },
        {
          "name": "stdout",
          "output_type": "stream",
          "text": [
            "352/352 - 22s - 61ms/step - accuracy: 0.7894 - loss: 0.6018 - val_accuracy: 0.7698 - val_loss: 0.6753 - learning_rate: 5.0000e-04\n",
            "Epoch 33/50\n",
            "352/352 - 21s - 60ms/step - accuracy: 0.7886 - loss: 0.6032 - val_accuracy: 0.7688 - val_loss: 0.6973 - learning_rate: 5.0000e-04\n",
            "Epoch 34/50\n"
          ]
        },
        {
          "name": "stderr",
          "output_type": "stream",
          "text": [
            "WARNING:absl:You are saving your model as an HDF5 file via `model.save()` or `keras.saving.save_model(model)`. This file format is considered legacy. We recommend using instead the native Keras format, e.g. `model.save('my_model.keras')` or `keras.saving.save_model(model, 'my_model.keras')`. \n"
          ]
        },
        {
          "name": "stdout",
          "output_type": "stream",
          "text": [
            "352/352 - 24s - 69ms/step - accuracy: 0.7912 - loss: 0.5984 - val_accuracy: 0.7828 - val_loss: 0.6354 - learning_rate: 5.0000e-04\n",
            "Epoch 35/50\n",
            "352/352 - 24s - 67ms/step - accuracy: 0.7944 - loss: 0.5870 - val_accuracy: 0.7704 - val_loss: 0.6933 - learning_rate: 5.0000e-04\n",
            "Epoch 36/50\n",
            "352/352 - 24s - 68ms/step - accuracy: 0.7953 - loss: 0.5824 - val_accuracy: 0.7716 - val_loss: 0.6774 - learning_rate: 5.0000e-04\n",
            "Epoch 37/50\n",
            "352/352 - 23s - 65ms/step - accuracy: 0.7974 - loss: 0.5773 - val_accuracy: 0.7658 - val_loss: 0.7231 - learning_rate: 5.0000e-04\n",
            "Epoch 38/50\n",
            "352/352 - 23s - 66ms/step - accuracy: 0.8093 - loss: 0.5430 - val_accuracy: 0.7702 - val_loss: 0.6835 - learning_rate: 2.5000e-04\n",
            "Epoch 39/50\n"
          ]
        },
        {
          "name": "stderr",
          "output_type": "stream",
          "text": [
            "WARNING:absl:You are saving your model as an HDF5 file via `model.save()` or `keras.saving.save_model(model)`. This file format is considered legacy. We recommend using instead the native Keras format, e.g. `model.save('my_model.keras')` or `keras.saving.save_model(model, 'my_model.keras')`. \n"
          ]
        },
        {
          "name": "stdout",
          "output_type": "stream",
          "text": [
            "352/352 - 24s - 69ms/step - accuracy: 0.8114 - loss: 0.5401 - val_accuracy: 0.7876 - val_loss: 0.6314 - learning_rate: 2.5000e-04\n",
            "Epoch 40/50\n"
          ]
        },
        {
          "name": "stderr",
          "output_type": "stream",
          "text": [
            "WARNING:absl:You are saving your model as an HDF5 file via `model.save()` or `keras.saving.save_model(model)`. This file format is considered legacy. We recommend using instead the native Keras format, e.g. `model.save('my_model.keras')` or `keras.saving.save_model(model, 'my_model.keras')`. \n"
          ]
        },
        {
          "name": "stdout",
          "output_type": "stream",
          "text": [
            "352/352 - 25s - 72ms/step - accuracy: 0.8112 - loss: 0.5376 - val_accuracy: 0.7944 - val_loss: 0.6217 - learning_rate: 2.5000e-04\n",
            "Epoch 41/50\n",
            "352/352 - 23s - 65ms/step - accuracy: 0.8115 - loss: 0.5378 - val_accuracy: 0.7794 - val_loss: 0.6555 - learning_rate: 2.5000e-04\n",
            "Epoch 42/50\n",
            "352/352 - 22s - 64ms/step - accuracy: 0.8164 - loss: 0.5280 - val_accuracy: 0.7790 - val_loss: 0.6687 - learning_rate: 2.5000e-04\n",
            "Epoch 43/50\n"
          ]
        },
        {
          "name": "stderr",
          "output_type": "stream",
          "text": [
            "WARNING:absl:You are saving your model as an HDF5 file via `model.save()` or `keras.saving.save_model(model)`. This file format is considered legacy. We recommend using instead the native Keras format, e.g. `model.save('my_model.keras')` or `keras.saving.save_model(model, 'my_model.keras')`. \n"
          ]
        },
        {
          "name": "stdout",
          "output_type": "stream",
          "text": [
            "352/352 - 23s - 66ms/step - accuracy: 0.8147 - loss: 0.5289 - val_accuracy: 0.7930 - val_loss: 0.6145 - learning_rate: 2.5000e-04\n",
            "Epoch 44/50\n",
            "352/352 - 22s - 63ms/step - accuracy: 0.8167 - loss: 0.5237 - val_accuracy: 0.7866 - val_loss: 0.6355 - learning_rate: 2.5000e-04\n",
            "Epoch 45/50\n",
            "352/352 - 22s - 62ms/step - accuracy: 0.8171 - loss: 0.5238 - val_accuracy: 0.7906 - val_loss: 0.6198 - learning_rate: 2.5000e-04\n",
            "Epoch 46/50\n",
            "352/352 - 21s - 61ms/step - accuracy: 0.8202 - loss: 0.5174 - val_accuracy: 0.7872 - val_loss: 0.6265 - learning_rate: 2.5000e-04\n",
            "Epoch 47/50\n",
            "352/352 - 22s - 62ms/step - accuracy: 0.8249 - loss: 0.5021 - val_accuracy: 0.7924 - val_loss: 0.6213 - learning_rate: 1.2500e-04\n",
            "Epoch 48/50\n",
            "352/352 - 22s - 62ms/step - accuracy: 0.8270 - loss: 0.4988 - val_accuracy: 0.7816 - val_loss: 0.6566 - learning_rate: 1.2500e-04\n",
            "Epoch 49/50\n",
            "352/352 - 22s - 62ms/step - accuracy: 0.8263 - loss: 0.4924 - val_accuracy: 0.7910 - val_loss: 0.6380 - learning_rate: 1.2500e-04\n"
          ]
        },
        {
          "name": "stderr",
          "output_type": "stream",
          "text": [
            "WARNING:absl:Compiled the loaded model, but the compiled metrics have yet to be built. `model.compile_metrics` will be empty until you train or evaluate the model.\n"
          ]
        },
        {
          "name": "stdout",
          "output_type": "stream",
          "text": [
            "\u001b[1m79/79\u001b[0m \u001b[32m━━━━━━━━━━━━━━━━━━━━\u001b[0m\u001b[37m\u001b[0m \u001b[1m1s\u001b[0m 16ms/step\n"
          ]
        }
      ],
      "source": [
        "#Rodar experimentos com diferentes seeds e agregar resultados\n",
        "import os\n",
        "\n",
        "os.makedirs(\"results\", exist_ok=True)  # cria a pasta results se não existir\n",
        "df.to_csv(\"results/summary.csv\", index=False)\n",
        "\n",
        "\n",
        "import pandas as pd\n",
        "from sklearn.metrics import accuracy_score, f1_score, confusion_matrix\n",
        "\n",
        "def evaluate_model_checkpoint(ckpt_path, x_test, y_test, batch_size=128):\n",
        "    model = tf.keras.models.load_model(ckpt_path)\n",
        "    y_pred_probs = model.predict(x_test, batch_size=batch_size)\n",
        "    y_pred = y_pred_probs.argmax(axis=1)\n",
        "    acc = accuracy_score(y_test, y_pred)\n",
        "    f1 = f1_score(y_test, y_pred, average='macro')\n",
        "    cm = confusion_matrix(y_test, y_pred)\n",
        "    return {'acc':acc, 'f1':f1, 'y_pred':y_pred, 'cm':cm, 'model':model}\n",
        "\n",
        "results = []\n",
        "seeds = [42, 43, 44]  # ideal: 3 seeds\n",
        "for s in seeds:\n",
        "    set_seed(s)\n",
        "    model = build_cnn(dropout_rate=0.0, l2=0.0)\n",
        "    history, ckpt = compile_and_train(model, x_train, y_train, x_val, y_val, use_augment=True,\n",
        "                                      epochs=50, batch_size=128, model_name=f'cnn_seed{s}', seed=s)\n",
        "    evald = evaluate_model_checkpoint(ckpt, x_test, y_test)\n",
        "    results.append({'model':'cnn','seed':s,'acc':evald['acc'],'f1':evald['f1'],'ckpt':ckpt})\n",
        "df = pd.DataFrame(results)\n",
        "df.groupby('model')[['acc','f1']].agg(['mean','std'])\n",
        "df.to_csv('results/summary.csv', index=False)\n"
      ]
    },
    {
      "cell_type": "code",
      "execution_count": 26,
      "metadata": {},
      "outputs": [],
      "source": [
        "#Plots: curvas treino/val, exemplos do dataset, matriz de confusão\n",
        "\n",
        "import matplotlib.pyplot as plt\n",
        "def plot_history(history, fname='figures/curvas.png'):\n",
        "    plt.figure(figsize=(10,4))\n",
        "    plt.subplot(1,2,1)\n",
        "    plt.plot(history.history['loss'], label='train loss')\n",
        "    plt.plot(history.history['val_loss'], label='val loss')\n",
        "    plt.legend(); plt.title('Loss')\n",
        "    plt.subplot(1,2,2)\n",
        "    plt.plot(history.history['accuracy'], label='train acc')\n",
        "    plt.plot(history.history['val_accuracy'], label='val acc')\n",
        "    plt.legend(); plt.title('Accuracy')\n",
        "    plt.tight_layout()\n",
        "    plt.savefig(fname, dpi=150)\n",
        "\n",
        "def plot_examples(x, y, class_names, fname='figures/examples.png'):\n",
        "    plt.figure(figsize=(8,4))\n",
        "    for i in range(6):\n",
        "        plt.subplot(2,3,i+1)\n",
        "        plt.imshow(x[i])\n",
        "        plt.title(class_names[y[i]])\n",
        "        plt.axis('off')\n",
        "    plt.tight_layout(); plt.savefig(fname, dpi=150)\n",
        "\n",
        "def plot_confusion(cm, class_names, fname='figures/confusion.png'):\n",
        "    plt.figure(figsize=(8,6))\n",
        "    plt.imshow(cm, interpolation='nearest')\n",
        "    plt.colorbar()\n",
        "    ticks = range(len(class_names))\n",
        "    plt.xticks(ticks, class_names, rotation=45)\n",
        "    plt.yticks(ticks, class_names)\n",
        "    plt.xlabel('Predicted'); plt.ylabel('True')\n",
        "    plt.tight_layout(); plt.savefig(fname, dpi=150)\n"
      ]
    },
    {
      "cell_type": "code",
      "execution_count": 27,
      "metadata": {},
      "outputs": [],
      "source": [
        "#Grad-CAM (Keras) — função para gerar heatmap e sobrepor\n",
        "\n",
        "import numpy as np\n",
        "import tensorflow as tf\n",
        "from PIL import Image\n",
        "\n",
        "def make_gradcam_heatmap(img_array, model, last_conv_layer_name, pred_index=None):\n",
        "    grad_model = tf.keras.models.Model([model.inputs], [model.get_layer(last_conv_layer_name).output, model.output])\n",
        "    with tf.GradientTape() as tape:\n",
        "        conv_outputs, predictions = grad_model(img_array)\n",
        "        if pred_index is None:\n",
        "            pred_index = tf.argmax(predictions[0])\n",
        "        loss = predictions[:, pred_index]\n",
        "    grads = tape.gradient(loss, conv_outputs)\n",
        "    pooled_grads = tf.reduce_mean(grads, axis=(0,1,2))\n",
        "    conv_outputs = conv_outputs[0]\n",
        "    heatmap = conv_outputs @ pooled_grads[..., tf.newaxis]\n",
        "    heatmap = tf.squeeze(heatmap)\n",
        "    heatmap = tf.maximum(heatmap, 0) / (tf.reduce_max(heatmap) + 1e-8)\n",
        "    return heatmap.numpy()\n",
        "\n",
        "def overlay_heatmap_on_image(img, heatmap, alpha=0.4):\n",
        "    # img: uint8 [H,W,3] or float [0,1]\n",
        "    import matplotlib.cm as cm\n",
        "    heatmap_resized = np.uint8(255 * plt.cm.jet(heatmap)[:,:,:3])  # RGB heatmap\n",
        "    heatmap_resized = Image.fromarray(heatmap_resized).resize((img.shape[1], img.shape[0]))\n",
        "    heatmap_resized = np.array(heatmap_resized).astype(float)/255.0\n",
        "    overlay = (1-alpha)*img + alpha*heatmap_resized\n",
        "    overlay = np.uint8(255 * overlay / overlay.max())\n",
        "    return overlay\n"
      ]
    },
    {
      "cell_type": "code",
      "execution_count": 30,
      "metadata": {},
      "outputs": [
        {
          "name": "stdout",
          "output_type": "stream",
          "text": [
            "Epoch 1/20\n"
          ]
        },
        {
          "name": "stderr",
          "output_type": "stream",
          "text": [
            "WARNING:absl:You are saving your model as an HDF5 file via `model.save()` or `keras.saving.save_model(model)`. This file format is considered legacy. We recommend using instead the native Keras format, e.g. `model.save('my_model.keras')` or `keras.saving.save_model(model, 'my_model.keras')`. \n"
          ]
        },
        {
          "name": "stdout",
          "output_type": "stream",
          "text": [
            "352/352 - 22s - 62ms/step - accuracy: 0.3126 - loss: 1.8117 - val_accuracy: 0.3914 - val_loss: 1.5579 - learning_rate: 1.0000e-03\n",
            "Epoch 2/20\n"
          ]
        },
        {
          "name": "stderr",
          "output_type": "stream",
          "text": [
            "WARNING:absl:You are saving your model as an HDF5 file via `model.save()` or `keras.saving.save_model(model)`. This file format is considered legacy. We recommend using instead the native Keras format, e.g. `model.save('my_model.keras')` or `keras.saving.save_model(model, 'my_model.keras')`. \n"
          ]
        },
        {
          "name": "stdout",
          "output_type": "stream",
          "text": [
            "352/352 - 21s - 61ms/step - accuracy: 0.4598 - loss: 1.4566 - val_accuracy: 0.5028 - val_loss: 1.3170 - learning_rate: 1.0000e-03\n",
            "Epoch 3/20\n"
          ]
        },
        {
          "name": "stderr",
          "output_type": "stream",
          "text": [
            "WARNING:absl:You are saving your model as an HDF5 file via `model.save()` or `keras.saving.save_model(model)`. This file format is considered legacy. We recommend using instead the native Keras format, e.g. `model.save('my_model.keras')` or `keras.saving.save_model(model, 'my_model.keras')`. \n"
          ]
        },
        {
          "name": "stdout",
          "output_type": "stream",
          "text": [
            "352/352 - 20s - 57ms/step - accuracy: 0.5382 - loss: 1.2569 - val_accuracy: 0.5566 - val_loss: 1.2052 - learning_rate: 1.0000e-03\n",
            "Epoch 4/20\n"
          ]
        },
        {
          "name": "stderr",
          "output_type": "stream",
          "text": [
            "WARNING:absl:You are saving your model as an HDF5 file via `model.save()` or `keras.saving.save_model(model)`. This file format is considered legacy. We recommend using instead the native Keras format, e.g. `model.save('my_model.keras')` or `keras.saving.save_model(model, 'my_model.keras')`. \n"
          ]
        },
        {
          "name": "stdout",
          "output_type": "stream",
          "text": [
            "352/352 - 20s - 58ms/step - accuracy: 0.5930 - loss: 1.1263 - val_accuracy: 0.6098 - val_loss: 1.0773 - learning_rate: 1.0000e-03\n",
            "Epoch 5/20\n"
          ]
        },
        {
          "name": "stderr",
          "output_type": "stream",
          "text": [
            "WARNING:absl:You are saving your model as an HDF5 file via `model.save()` or `keras.saving.save_model(model)`. This file format is considered legacy. We recommend using instead the native Keras format, e.g. `model.save('my_model.keras')` or `keras.saving.save_model(model, 'my_model.keras')`. \n"
          ]
        },
        {
          "name": "stdout",
          "output_type": "stream",
          "text": [
            "352/352 - 20s - 58ms/step - accuracy: 0.6288 - loss: 1.0397 - val_accuracy: 0.6432 - val_loss: 0.9987 - learning_rate: 1.0000e-03\n",
            "Epoch 6/20\n"
          ]
        },
        {
          "name": "stderr",
          "output_type": "stream",
          "text": [
            "WARNING:absl:You are saving your model as an HDF5 file via `model.save()` or `keras.saving.save_model(model)`. This file format is considered legacy. We recommend using instead the native Keras format, e.g. `model.save('my_model.keras')` or `keras.saving.save_model(model, 'my_model.keras')`. \n"
          ]
        },
        {
          "name": "stdout",
          "output_type": "stream",
          "text": [
            "352/352 - 21s - 61ms/step - accuracy: 0.6520 - loss: 0.9781 - val_accuracy: 0.6634 - val_loss: 0.9386 - learning_rate: 1.0000e-03\n",
            "Epoch 7/20\n"
          ]
        },
        {
          "name": "stderr",
          "output_type": "stream",
          "text": [
            "WARNING:absl:You are saving your model as an HDF5 file via `model.save()` or `keras.saving.save_model(model)`. This file format is considered legacy. We recommend using instead the native Keras format, e.g. `model.save('my_model.keras')` or `keras.saving.save_model(model, 'my_model.keras')`. \n"
          ]
        },
        {
          "name": "stdout",
          "output_type": "stream",
          "text": [
            "352/352 - 20s - 57ms/step - accuracy: 0.6727 - loss: 0.9193 - val_accuracy: 0.6788 - val_loss: 0.8906 - learning_rate: 1.0000e-03\n",
            "Epoch 8/20\n"
          ]
        },
        {
          "name": "stderr",
          "output_type": "stream",
          "text": [
            "WARNING:absl:You are saving your model as an HDF5 file via `model.save()` or `keras.saving.save_model(model)`. This file format is considered legacy. We recommend using instead the native Keras format, e.g. `model.save('my_model.keras')` or `keras.saving.save_model(model, 'my_model.keras')`. \n"
          ]
        },
        {
          "name": "stdout",
          "output_type": "stream",
          "text": [
            "352/352 - 22s - 62ms/step - accuracy: 0.6923 - loss: 0.8678 - val_accuracy: 0.6984 - val_loss: 0.8515 - learning_rate: 1.0000e-03\n",
            "Epoch 9/20\n"
          ]
        },
        {
          "name": "stderr",
          "output_type": "stream",
          "text": [
            "WARNING:absl:You are saving your model as an HDF5 file via `model.save()` or `keras.saving.save_model(model)`. This file format is considered legacy. We recommend using instead the native Keras format, e.g. `model.save('my_model.keras')` or `keras.saving.save_model(model, 'my_model.keras')`. \n"
          ]
        },
        {
          "name": "stdout",
          "output_type": "stream",
          "text": [
            "352/352 - 22s - 63ms/step - accuracy: 0.7086 - loss: 0.8235 - val_accuracy: 0.7114 - val_loss: 0.8237 - learning_rate: 1.0000e-03\n",
            "Epoch 10/20\n"
          ]
        },
        {
          "name": "stderr",
          "output_type": "stream",
          "text": [
            "WARNING:absl:You are saving your model as an HDF5 file via `model.save()` or `keras.saving.save_model(model)`. This file format is considered legacy. We recommend using instead the native Keras format, e.g. `model.save('my_model.keras')` or `keras.saving.save_model(model, 'my_model.keras')`. \n"
          ]
        },
        {
          "name": "stdout",
          "output_type": "stream",
          "text": [
            "352/352 - 22s - 61ms/step - accuracy: 0.7242 - loss: 0.7847 - val_accuracy: 0.7234 - val_loss: 0.7987 - learning_rate: 1.0000e-03\n",
            "Epoch 11/20\n"
          ]
        },
        {
          "name": "stderr",
          "output_type": "stream",
          "text": [
            "WARNING:absl:You are saving your model as an HDF5 file via `model.save()` or `keras.saving.save_model(model)`. This file format is considered legacy. We recommend using instead the native Keras format, e.g. `model.save('my_model.keras')` or `keras.saving.save_model(model, 'my_model.keras')`. \n"
          ]
        },
        {
          "name": "stdout",
          "output_type": "stream",
          "text": [
            "352/352 - 21s - 60ms/step - accuracy: 0.7377 - loss: 0.7467 - val_accuracy: 0.7346 - val_loss: 0.7779 - learning_rate: 1.0000e-03\n",
            "Epoch 12/20\n"
          ]
        },
        {
          "name": "stderr",
          "output_type": "stream",
          "text": [
            "WARNING:absl:You are saving your model as an HDF5 file via `model.save()` or `keras.saving.save_model(model)`. This file format is considered legacy. We recommend using instead the native Keras format, e.g. `model.save('my_model.keras')` or `keras.saving.save_model(model, 'my_model.keras')`. \n"
          ]
        },
        {
          "name": "stdout",
          "output_type": "stream",
          "text": [
            "352/352 - 20s - 58ms/step - accuracy: 0.7489 - loss: 0.7150 - val_accuracy: 0.7376 - val_loss: 0.7560 - learning_rate: 1.0000e-03\n",
            "Epoch 13/20\n"
          ]
        },
        {
          "name": "stderr",
          "output_type": "stream",
          "text": [
            "WARNING:absl:You are saving your model as an HDF5 file via `model.save()` or `keras.saving.save_model(model)`. This file format is considered legacy. We recommend using instead the native Keras format, e.g. `model.save('my_model.keras')` or `keras.saving.save_model(model, 'my_model.keras')`. \n"
          ]
        },
        {
          "name": "stdout",
          "output_type": "stream",
          "text": [
            "352/352 - 20s - 57ms/step - accuracy: 0.7606 - loss: 0.6835 - val_accuracy: 0.7436 - val_loss: 0.7342 - learning_rate: 1.0000e-03\n",
            "Epoch 14/20\n"
          ]
        },
        {
          "name": "stderr",
          "output_type": "stream",
          "text": [
            "WARNING:absl:You are saving your model as an HDF5 file via `model.save()` or `keras.saving.save_model(model)`. This file format is considered legacy. We recommend using instead the native Keras format, e.g. `model.save('my_model.keras')` or `keras.saving.save_model(model, 'my_model.keras')`. \n"
          ]
        },
        {
          "name": "stdout",
          "output_type": "stream",
          "text": [
            "352/352 - 21s - 60ms/step - accuracy: 0.7701 - loss: 0.6532 - val_accuracy: 0.7470 - val_loss: 0.7201 - learning_rate: 1.0000e-03\n",
            "Epoch 15/20\n"
          ]
        },
        {
          "name": "stderr",
          "output_type": "stream",
          "text": [
            "WARNING:absl:You are saving your model as an HDF5 file via `model.save()` or `keras.saving.save_model(model)`. This file format is considered legacy. We recommend using instead the native Keras format, e.g. `model.save('my_model.keras')` or `keras.saving.save_model(model, 'my_model.keras')`. \n"
          ]
        },
        {
          "name": "stdout",
          "output_type": "stream",
          "text": [
            "352/352 - 24s - 67ms/step - accuracy: 0.7802 - loss: 0.6243 - val_accuracy: 0.7512 - val_loss: 0.7062 - learning_rate: 1.0000e-03\n",
            "Epoch 16/20\n"
          ]
        },
        {
          "name": "stderr",
          "output_type": "stream",
          "text": [
            "WARNING:absl:You are saving your model as an HDF5 file via `model.save()` or `keras.saving.save_model(model)`. This file format is considered legacy. We recommend using instead the native Keras format, e.g. `model.save('my_model.keras')` or `keras.saving.save_model(model, 'my_model.keras')`. \n"
          ]
        },
        {
          "name": "stdout",
          "output_type": "stream",
          "text": [
            "352/352 - 20s - 56ms/step - accuracy: 0.7916 - loss: 0.5959 - val_accuracy: 0.7604 - val_loss: 0.6898 - learning_rate: 1.0000e-03\n",
            "Epoch 17/20\n",
            "352/352 - 20s - 56ms/step - accuracy: 0.8015 - loss: 0.5684 - val_accuracy: 0.7622 - val_loss: 0.6989 - learning_rate: 1.0000e-03\n",
            "Epoch 18/20\n",
            "352/352 - 20s - 56ms/step - accuracy: 0.8116 - loss: 0.5427 - val_accuracy: 0.7648 - val_loss: 0.7000 - learning_rate: 1.0000e-03\n",
            "Epoch 19/20\n"
          ]
        },
        {
          "name": "stderr",
          "output_type": "stream",
          "text": [
            "WARNING:absl:You are saving your model as an HDF5 file via `model.save()` or `keras.saving.save_model(model)`. This file format is considered legacy. We recommend using instead the native Keras format, e.g. `model.save('my_model.keras')` or `keras.saving.save_model(model, 'my_model.keras')`. \n"
          ]
        },
        {
          "name": "stdout",
          "output_type": "stream",
          "text": [
            "352/352 - 20s - 56ms/step - accuracy: 0.8180 - loss: 0.5244 - val_accuracy: 0.7648 - val_loss: 0.6882 - learning_rate: 1.0000e-03\n",
            "Epoch 20/20\n"
          ]
        },
        {
          "name": "stderr",
          "output_type": "stream",
          "text": [
            "WARNING:absl:You are saving your model as an HDF5 file via `model.save()` or `keras.saving.save_model(model)`. This file format is considered legacy. We recommend using instead the native Keras format, e.g. `model.save('my_model.keras')` or `keras.saving.save_model(model, 'my_model.keras')`. \n"
          ]
        },
        {
          "name": "stdout",
          "output_type": "stream",
          "text": [
            "352/352 - 21s - 59ms/step - accuracy: 0.8259 - loss: 0.5024 - val_accuracy: 0.7760 - val_loss: 0.6738 - learning_rate: 1.0000e-03\n"
          ]
        },
        {
          "name": "stderr",
          "output_type": "stream",
          "text": [
            "WARNING:absl:You are saving your model as an HDF5 file via `model.save()` or `keras.saving.save_model(model)`. This file format is considered legacy. We recommend using instead the native Keras format, e.g. `model.save('my_model.keras')` or `keras.saving.save_model(model, 'my_model.keras')`. \n"
          ]
        }
      ],
      "source": [
        "import os\n",
        "import tensorflow as tf\n",
        "from tensorflow.keras.callbacks import EarlyStopping, ReduceLROnPlateau, ModelCheckpoint\n",
        "\n",
        "# garante que a pasta checkpoints existe\n",
        "os.makedirs(\"checkpoints\", exist_ok=True)\n",
        "\n",
        "def train_and_save_best_cnn(x_train, y_train, x_val, y_val, epochs=30, batch_size=128):\n",
        "    model = build_cnn()  # sua função de modelo já definida antes\n",
        "    model.compile(\n",
        "        optimizer=tf.keras.optimizers.Adam(1e-3),\n",
        "        loss=\"sparse_categorical_crossentropy\",\n",
        "        metrics=[\"accuracy\"]\n",
        "    )\n",
        "\n",
        "    callbacks = [\n",
        "        EarlyStopping(monitor=\"val_loss\", patience=5, restore_best_weights=True),\n",
        "        ReduceLROnPlateau(monitor=\"val_loss\", factor=0.5, patience=3),\n",
        "        ModelCheckpoint(\"checkpoints/best_cnn.h5\", save_best_only=True, monitor=\"val_loss\")\n",
        "    ]\n",
        "\n",
        "    history = model.fit(\n",
        "        x_train, y_train,\n",
        "        validation_data=(x_val, y_val),\n",
        "        epochs=epochs,\n",
        "        batch_size=batch_size,\n",
        "        callbacks=callbacks,\n",
        "        verbose=2\n",
        "    )\n",
        "\n",
        "    # no final, também salva a versão final por garantia\n",
        "    model.save(\"checkpoints/best_cnn.h5\")\n",
        "    return model, history\n",
        "\n",
        "# exemplo de treino\n",
        "model, history = train_and_save_best_cnn(x_train, y_train, x_val, y_val, epochs=20)\n"
      ]
    },
    {
      "cell_type": "code",
      "execution_count": 31,
      "metadata": {},
      "outputs": [
        {
          "name": "stderr",
          "output_type": "stream",
          "text": [
            "2025-09-27 21:04:23.566 Thread 'MainThread': missing ScriptRunContext! This warning can be ignored when running in bare mode.\n",
            "2025-09-27 21:04:23.567 Thread 'MainThread': missing ScriptRunContext! This warning can be ignored when running in bare mode.\n",
            "2025-09-27 21:04:23.568 Thread 'MainThread': missing ScriptRunContext! This warning can be ignored when running in bare mode.\n",
            "2025-09-27 21:04:23.568 Thread 'MainThread': missing ScriptRunContext! This warning can be ignored when running in bare mode.\n",
            "WARNING:absl:Compiled the loaded model, but the compiled metrics have yet to be built. `model.compile_metrics` will be empty until you train or evaluate the model.\n",
            "2025-09-27 21:04:23.658 Thread 'MainThread': missing ScriptRunContext! This warning can be ignored when running in bare mode.\n",
            "2025-09-27 21:04:23.659 Thread 'MainThread': missing ScriptRunContext! This warning can be ignored when running in bare mode.\n",
            "2025-09-27 21:04:23.659 Thread 'MainThread': missing ScriptRunContext! This warning can be ignored when running in bare mode.\n",
            "2025-09-27 21:04:23.660 Thread 'MainThread': missing ScriptRunContext! This warning can be ignored when running in bare mode.\n",
            "2025-09-27 21:04:23.660 Thread 'MainThread': missing ScriptRunContext! This warning can be ignored when running in bare mode.\n",
            "2025-09-27 21:04:23.661 Thread 'MainThread': missing ScriptRunContext! This warning can be ignored when running in bare mode.\n",
            "2025-09-27 21:04:23.661 Thread 'MainThread': missing ScriptRunContext! This warning can be ignored when running in bare mode.\n",
            "2025-09-27 21:04:23.661 Thread 'MainThread': missing ScriptRunContext! This warning can be ignored when running in bare mode.\n",
            "2025-09-27 21:04:23.662 Thread 'MainThread': missing ScriptRunContext! This warning can be ignored when running in bare mode.\n",
            "2025-09-27 21:04:23.662 Thread 'MainThread': missing ScriptRunContext! This warning can be ignored when running in bare mode.\n",
            "2025-09-27 21:04:23.662 Thread 'MainThread': missing ScriptRunContext! This warning can be ignored when running in bare mode.\n",
            "2025-09-27 21:04:23.663 Thread 'MainThread': missing ScriptRunContext! This warning can be ignored when running in bare mode.\n"
          ]
        }
      ],
      "source": [
        "import streamlit as st\n",
        "from PIL import Image\n",
        "import numpy as np\n",
        "import tensorflow as tf\n",
        "import matplotlib.pyplot as plt\n",
        "\n",
        "# === Classes CIFAR-10 ===\n",
        "CLASS_NAMES = ['airplane','automobile','bird','cat','deer','dog','frog','horse','ship','truck']\n",
        "\n",
        "# === Funções Grad-CAM ===\n",
        "def make_gradcam_heatmap(img_array, model, last_conv_layer_name, pred_index=None):\n",
        "    grad_model = tf.keras.models.Model(\n",
        "        [model.inputs], \n",
        "        [model.get_layer(last_conv_layer_name).output, model.output]\n",
        "    )\n",
        "    with tf.GradientTape() as tape:\n",
        "        conv_outputs, predictions = grad_model(img_array)\n",
        "        if pred_index is None:\n",
        "            pred_index = tf.argmax(predictions[0])\n",
        "        loss = predictions[:, pred_index]\n",
        "\n",
        "    grads = tape.gradient(loss, conv_outputs)\n",
        "    pooled_grads = tf.reduce_mean(grads, axis=(0, 1, 2))\n",
        "    conv_outputs = conv_outputs[0]\n",
        "    heatmap = conv_outputs @ pooled_grads[..., tf.newaxis]\n",
        "    heatmap = tf.squeeze(heatmap)\n",
        "    heatmap = tf.maximum(heatmap, 0) / (tf.reduce_max(heatmap) + 1e-8)\n",
        "    return heatmap.numpy()\n",
        "\n",
        "def overlay_heatmap_on_image(img, heatmap, alpha=0.4):\n",
        "    import matplotlib.cm as cm\n",
        "    heatmap_resized = np.uint8(255 * cm.jet(heatmap)[:,:,:3])  \n",
        "    heatmap_resized = Image.fromarray(heatmap_resized).resize((img.shape[1], img.shape[0]))\n",
        "    heatmap_resized = np.array(heatmap_resized).astype(float)/255.0\n",
        "    overlay = (1-alpha)*img + alpha*heatmap_resized\n",
        "    overlay = np.uint8(255 * overlay / overlay.max())\n",
        "    return overlay\n",
        "\n",
        "# === Carregar modelo salvo ===\n",
        "@st.cache_resource\n",
        "def load_model(path='checkpoints/best_cnn.h5'):\n",
        "    return tf.keras.models.load_model(path)\n",
        "\n",
        "model = load_model()\n",
        "\n",
        "# === Interface ===\n",
        "st.title(\"Demo: CIFAR-10 — CNN + Grad-CAM\")\n",
        "uploaded = st.file_uploader(\"Envie uma imagem (RGB)\", type=['png','jpg','jpeg'])\n",
        "\n",
        "if uploaded:\n",
        "    img = Image.open(uploaded).convert('RGB').resize((32,32))\n",
        "    st.image(img, caption='Input', use_column_width=False)\n",
        "\n",
        "    x = np.array(img).astype('float32')/255.0\n",
        "    preds = model.predict(x[None,...])[0]\n",
        "\n",
        "    # mostrar probabilidades\n",
        "    for i,p in enumerate(preds):\n",
        "        st.write(f\"{CLASS_NAMES[i]}: {p:.3f}\")\n",
        "    pred_idx = np.argmax(preds)\n",
        "    st.write(\"Predicted:\", CLASS_NAMES[pred_idx])\n",
        "\n",
        "    # Grad-CAM\n",
        "    last_conv = None\n",
        "    for layer in reversed(model.layers):\n",
        "        if 'conv' in layer.name and 'Conv' in str(type(layer)):\n",
        "            last_conv = layer.name\n",
        "            break\n",
        "    heatmap = make_gradcam_heatmap(x[None,...], model, last_conv, pred_index=pred_idx)\n",
        "    overlay = overlay_heatmap_on_image(np.array(img)/255.0, heatmap)\n",
        "    st.image(overlay, caption='Grad-CAM overlay', use_column_width=False)\n"
      ]
    },
    {
      "cell_type": "code",
      "execution_count": 32,
      "metadata": {},
      "outputs": [
        {
          "name": "stderr",
          "output_type": "stream",
          "text": [
            "WARNING:absl:You are saving your model as an HDF5 file via `model.save()` or `keras.saving.save_model(model)`. This file format is considered legacy. We recommend using instead the native Keras format, e.g. `model.save('my_model.keras')` or `keras.saving.save_model(model, 'my_model.keras')`. \n"
          ]
        }
      ],
      "source": [
        "import os\n",
        "os.makedirs(\"checkpoints\", exist_ok=True)\n",
        "model.save(\"checkpoints/best_cnn.h5\")"
      ]
    }
  ],
  "metadata": {
    "colab": {
      "provenance": []
    },
    "kernelspec": {
      "display_name": "Python 3",
      "name": "python3"
    },
    "language_info": {
      "codemirror_mode": {
        "name": "ipython",
        "version": 3
      },
      "file_extension": ".py",
      "mimetype": "text/x-python",
      "name": "python",
      "nbconvert_exporter": "python",
      "pygments_lexer": "ipython3",
      "version": "3.13.0"
    }
  },
  "nbformat": 4,
  "nbformat_minor": 0
}
